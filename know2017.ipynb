{
 "cells": [
  {
   "cell_type": "code",
   "execution_count": 38,
   "id": "56f96172",
   "metadata": {},
   "outputs": [],
   "source": [
    "import numpy as np\n",
    "import pandas as pd\n",
    "import matplotlib.pyplot as plt"
   ]
  },
  {
   "cell_type": "code",
   "execution_count": 39,
   "id": "69df8686",
   "metadata": {},
   "outputs": [],
   "source": [
    "import lightgbm as lgb"
   ]
  },
  {
   "cell_type": "code",
   "execution_count": 40,
   "id": "adf27122",
   "metadata": {},
   "outputs": [],
   "source": [
    "from sklearn.model_selection import train_test_split, cross_validate, StratifiedKFold, GridSearchCV"
   ]
  },
  {
   "cell_type": "code",
   "execution_count": 41,
   "id": "f7eebf89",
   "metadata": {},
   "outputs": [],
   "source": [
    "from sklearn.metrics import accuracy_score, classification_report"
   ]
  },
  {
   "cell_type": "code",
   "execution_count": 42,
   "id": "b867757d",
   "metadata": {},
   "outputs": [],
   "source": [
    "train_bert = pd.read_csv('KNOW_2017_train_bert.csv')\n",
    "test_bert = pd.read_csv('KNOW_2017_test_bert.csv')\n",
    "train_tf_idf = pd.read_csv('KNOW_2017_train_tfidf.csv')\n",
    "test_tf_idf = pd.read_csv('KNOW_2017_test_tfidf.csv')\n",
    "train_simcse = pd.read_csv('KNOW_2017_train_simcse.csv')\n",
    "test_simcse = pd.read_csv('KNOW_2017_test_simcse.csv')\n",
    "train_no_text = pd.read_csv('KNOW_2017_train_no_text.csv')\n",
    "test_no_text = pd.read_csv('KNOW_2017_test_no_text.csv')"
   ]
  },
  {
   "cell_type": "markdown",
   "id": "016bd5b5",
   "metadata": {},
   "source": [
    "# bert"
   ]
  },
  {
   "cell_type": "code",
   "execution_count": 56,
   "id": "67a89f5e",
   "metadata": {},
   "outputs": [],
   "source": [
    "train_bert_X, train_bert_y = train_bert.drop('knowcode', axis=1), train_bert.knowcode\n",
    "test_bert_X = test_bert"
   ]
  },
  {
   "cell_type": "code",
   "execution_count": 57,
   "id": "86ef950e",
   "metadata": {},
   "outputs": [],
   "source": [
    "model_lgbm = lgb.LGBMClassifier(n_estimators=1000, max_depth=8, learning_rate=0.02)"
   ]
  },
  {
   "cell_type": "code",
   "execution_count": 58,
   "id": "055762e2",
   "metadata": {},
   "outputs": [],
   "source": [
    "# train/ test data 로 split \n",
    "tr_val_X, test_X, tr_val_y, test_y = train_test_split(\n",
    "    train_bert_X, \n",
    "    train_bert_y, \n",
    "    test_size = 0.2, \n",
    "    random_state = 42,\n",
    "    shuffle=True,\n",
    "    stratify = train_bert_y # Classification 중요 option\n",
    ")"
   ]
  },
  {
   "cell_type": "code",
   "execution_count": 59,
   "id": "169f367d",
   "metadata": {
    "scrolled": false
   },
   "outputs": [
    {
     "name": "stderr",
     "output_type": "stream",
     "text": [
      "C:\\Users\\heeta\\anaconda3\\lib\\site-packages\\lightgbm\\sklearn.py:726: UserWarning: 'early_stopping_rounds' argument is deprecated and will be removed in a future release of LightGBM. Pass 'early_stopping()' callback via 'callbacks' argument instead.\n",
      "  _log_warning(\"'early_stopping_rounds' argument is deprecated and will be removed in a future release of LightGBM. \"\n",
      "C:\\Users\\heeta\\anaconda3\\lib\\site-packages\\lightgbm\\sklearn.py:736: UserWarning: 'verbose' argument is deprecated and will be removed in a future release of LightGBM. Pass 'log_evaluation()' callback via 'callbacks' argument instead.\n",
      "  _log_warning(\"'verbose' argument is deprecated and will be removed in a future release of LightGBM. \"\n"
     ]
    },
    {
     "name": "stdout",
     "output_type": "stream",
     "text": [
      "[100]\tvalid_0's multi_logloss: 3.76961\n",
      "[200]\tvalid_0's multi_logloss: 3.64047\n",
      "[300]\tvalid_0's multi_logloss: 3.54596\n",
      "[400]\tvalid_0's multi_logloss: 3.40054\n",
      "[500]\tvalid_0's multi_logloss: 3.30516\n",
      "[600]\tvalid_0's multi_logloss: 3.2435\n",
      "[700]\tvalid_0's multi_logloss: 3.20339\n",
      "[800]\tvalid_0's multi_logloss: 3.18095\n",
      "[900]\tvalid_0's multi_logloss: 3.1651\n",
      "[1000]\tvalid_0's multi_logloss: 3.15547\n",
      "\n",
      "#1 교차 검증 정확도 : 0.4486,  학습 데이터 크기 : 6070,  검증 데이터 크기 : 1518\n",
      "#1 검증 세트 인덱스 : [   0    1    2 ... 3798 3977 4340]\n"
     ]
    },
    {
     "name": "stderr",
     "output_type": "stream",
     "text": [
      "C:\\Users\\heeta\\anaconda3\\lib\\site-packages\\lightgbm\\sklearn.py:726: UserWarning: 'early_stopping_rounds' argument is deprecated and will be removed in a future release of LightGBM. Pass 'early_stopping()' callback via 'callbacks' argument instead.\n",
      "  _log_warning(\"'early_stopping_rounds' argument is deprecated and will be removed in a future release of LightGBM. \"\n",
      "C:\\Users\\heeta\\anaconda3\\lib\\site-packages\\lightgbm\\sklearn.py:736: UserWarning: 'verbose' argument is deprecated and will be removed in a future release of LightGBM. Pass 'log_evaluation()' callback via 'callbacks' argument instead.\n",
      "  _log_warning(\"'verbose' argument is deprecated and will be removed in a future release of LightGBM. \"\n"
     ]
    },
    {
     "name": "stdout",
     "output_type": "stream",
     "text": [
      "[100]\tvalid_0's multi_logloss: 3.55731\n",
      "[200]\tvalid_0's multi_logloss: 3.37142\n",
      "[300]\tvalid_0's multi_logloss: 3.26515\n",
      "[400]\tvalid_0's multi_logloss: 3.12311\n",
      "[500]\tvalid_0's multi_logloss: 3.02984\n",
      "[600]\tvalid_0's multi_logloss: 2.97485\n",
      "[700]\tvalid_0's multi_logloss: 2.93524\n",
      "[800]\tvalid_0's multi_logloss: 2.91235\n",
      "[900]\tvalid_0's multi_logloss: 2.8982\n",
      "[1000]\tvalid_0's multi_logloss: 2.89009\n",
      "\n",
      "#2 교차 검증 정확도 : 0.4684,  학습 데이터 크기 : 6070,  검증 데이터 크기 : 1518\n",
      "#2 검증 세트 인덱스 : [ 205  260  278 ... 5390 5418 5549]\n"
     ]
    },
    {
     "name": "stderr",
     "output_type": "stream",
     "text": [
      "C:\\Users\\heeta\\anaconda3\\lib\\site-packages\\lightgbm\\sklearn.py:726: UserWarning: 'early_stopping_rounds' argument is deprecated and will be removed in a future release of LightGBM. Pass 'early_stopping()' callback via 'callbacks' argument instead.\n",
      "  _log_warning(\"'early_stopping_rounds' argument is deprecated and will be removed in a future release of LightGBM. \"\n",
      "C:\\Users\\heeta\\anaconda3\\lib\\site-packages\\lightgbm\\sklearn.py:736: UserWarning: 'verbose' argument is deprecated and will be removed in a future release of LightGBM. Pass 'log_evaluation()' callback via 'callbacks' argument instead.\n",
      "  _log_warning(\"'verbose' argument is deprecated and will be removed in a future release of LightGBM. \"\n"
     ]
    },
    {
     "name": "stdout",
     "output_type": "stream",
     "text": [
      "[100]\tvalid_0's multi_logloss: 3.54871\n",
      "[200]\tvalid_0's multi_logloss: 3.37412\n",
      "[300]\tvalid_0's multi_logloss: 3.24445\n",
      "[400]\tvalid_0's multi_logloss: 3.10306\n",
      "[500]\tvalid_0's multi_logloss: 3.01215\n",
      "[600]\tvalid_0's multi_logloss: 2.95307\n",
      "[700]\tvalid_0's multi_logloss: 2.91231\n",
      "[800]\tvalid_0's multi_logloss: 2.88808\n",
      "[900]\tvalid_0's multi_logloss: 2.87301\n",
      "[1000]\tvalid_0's multi_logloss: 2.86582\n",
      "\n",
      "#3 교차 검증 정확도 : 0.4743,  학습 데이터 크기 : 6070,  검증 데이터 크기 : 1518\n",
      "#3 검증 세트 인덱스 : [ 535  551  583 ... 6698 6732 6775]\n"
     ]
    },
    {
     "name": "stderr",
     "output_type": "stream",
     "text": [
      "C:\\Users\\heeta\\anaconda3\\lib\\site-packages\\lightgbm\\sklearn.py:726: UserWarning: 'early_stopping_rounds' argument is deprecated and will be removed in a future release of LightGBM. Pass 'early_stopping()' callback via 'callbacks' argument instead.\n",
      "  _log_warning(\"'early_stopping_rounds' argument is deprecated and will be removed in a future release of LightGBM. \"\n",
      "C:\\Users\\heeta\\anaconda3\\lib\\site-packages\\lightgbm\\sklearn.py:736: UserWarning: 'verbose' argument is deprecated and will be removed in a future release of LightGBM. Pass 'log_evaluation()' callback via 'callbacks' argument instead.\n",
      "  _log_warning(\"'verbose' argument is deprecated and will be removed in a future release of LightGBM. \"\n"
     ]
    },
    {
     "name": "stdout",
     "output_type": "stream",
     "text": [
      "[100]\tvalid_0's multi_logloss: 3.46867\n",
      "[200]\tvalid_0's multi_logloss: 3.28734\n",
      "[300]\tvalid_0's multi_logloss: 3.1382\n",
      "[400]\tvalid_0's multi_logloss: 2.99419\n",
      "[500]\tvalid_0's multi_logloss: 2.90848\n",
      "[600]\tvalid_0's multi_logloss: 2.85124\n",
      "[700]\tvalid_0's multi_logloss: 2.81116\n",
      "[800]\tvalid_0's multi_logloss: 2.78873\n",
      "[900]\tvalid_0's multi_logloss: 2.77705\n",
      "[1000]\tvalid_0's multi_logloss: 2.77038\n",
      "\n",
      "#4 교차 검증 정확도 : 0.4885,  학습 데이터 크기 : 6071,  검증 데이터 크기 : 1517\n",
      "#4 검증 세트 인덱스 : [1560 1649 1741 ... 7285 7298 7454]\n"
     ]
    },
    {
     "name": "stderr",
     "output_type": "stream",
     "text": [
      "C:\\Users\\heeta\\anaconda3\\lib\\site-packages\\lightgbm\\sklearn.py:726: UserWarning: 'early_stopping_rounds' argument is deprecated and will be removed in a future release of LightGBM. Pass 'early_stopping()' callback via 'callbacks' argument instead.\n",
      "  _log_warning(\"'early_stopping_rounds' argument is deprecated and will be removed in a future release of LightGBM. \"\n",
      "C:\\Users\\heeta\\anaconda3\\lib\\site-packages\\lightgbm\\sklearn.py:736: UserWarning: 'verbose' argument is deprecated and will be removed in a future release of LightGBM. Pass 'log_evaluation()' callback via 'callbacks' argument instead.\n",
      "  _log_warning(\"'verbose' argument is deprecated and will be removed in a future release of LightGBM. \"\n"
     ]
    },
    {
     "name": "stdout",
     "output_type": "stream",
     "text": [
      "[100]\tvalid_0's multi_logloss: 3.57928\n",
      "[200]\tvalid_0's multi_logloss: 3.45211\n",
      "[300]\tvalid_0's multi_logloss: 3.36267\n",
      "[400]\tvalid_0's multi_logloss: 3.22588\n",
      "[500]\tvalid_0's multi_logloss: 3.13796\n",
      "[600]\tvalid_0's multi_logloss: 3.08218\n",
      "[700]\tvalid_0's multi_logloss: 3.04863\n",
      "[800]\tvalid_0's multi_logloss: 3.0278\n",
      "[900]\tvalid_0's multi_logloss: 3.01601\n",
      "[1000]\tvalid_0's multi_logloss: 3.0108\n",
      "\n",
      "#5 교차 검증 정확도 : 0.4529,  학습 데이터 크기 : 6071,  검증 데이터 크기 : 1517\n",
      "#5 검증 세트 인덱스 : [3407 3443 3472 ... 7585 7586 7587]\n",
      "\n",
      "## 평균 검증 정확도: 0.46654\n"
     ]
    }
   ],
   "source": [
    "kfold = StratifiedKFold(n_splits=5)\n",
    "cv_accuracy = []\n",
    "n_iter = 0\n",
    "\n",
    "for train_index, test_index in kfold.split(tr_val_X, tr_val_y):  # feautres 데이터를 위에서 지정한 kfold 숫자로 분할\n",
    "    x_train, x_test = train_bert_X.iloc[train_index], train_bert_X.iloc[test_index]\n",
    "    y_train, y_test = train_bert_y[train_index], train_bert_y[test_index]\n",
    "    \n",
    "    model_lgbm.fit(x_train, y_train, eval_set=(x_test, y_test), early_stopping_rounds=100, verbose=100)\n",
    "    pred = model_lgbm.predict(x_test)\n",
    "    n_iter += 1\n",
    "    \n",
    "    accuracy = np.round(accuracy_score(y_test, pred), 4) # 소수점 4자리 반올림\n",
    "    train_size = x_train.shape[0]\n",
    "    test_size = x_test.shape[0]\n",
    "    \n",
    "    print('\\n#{0} 교차 검증 정확도 : {1},  학습 데이터 크기 : {2},  검증 데이터 크기 : {3}'\n",
    "          .format(n_iter, accuracy, train_size, test_size))\n",
    "    print('#{0} 검증 세트 인덱스 : {1}'.format(n_iter,test_index))\n",
    "    cv_accuracy.append(accuracy)\n",
    "    \n",
    "print('\\n## 평균 검증 정확도:', np.mean(cv_accuracy))"
   ]
  },
  {
   "cell_type": "code",
   "execution_count": 92,
   "id": "deeb9d38",
   "metadata": {
    "scrolled": true
   },
   "outputs": [
    {
     "ename": "ValueError",
     "evalue": "Number of features of the model must match the input. Model n_features_ is 24435 and input n_features is 432",
     "output_type": "error",
     "traceback": [
      "\u001b[1;31m---------------------------------------------------------------------------\u001b[0m",
      "\u001b[1;31mValueError\u001b[0m                                Traceback (most recent call last)",
      "\u001b[1;32m<ipython-input-92-050d0133e59b>\u001b[0m in \u001b[0;36m<module>\u001b[1;34m\u001b[0m\n\u001b[1;32m----> 1\u001b[1;33m \u001b[0mtest_bert\u001b[0m\u001b[1;33m[\u001b[0m\u001b[1;34m'knowcode'\u001b[0m\u001b[1;33m]\u001b[0m \u001b[1;33m=\u001b[0m \u001b[0mmodel_lgbm\u001b[0m\u001b[1;33m.\u001b[0m\u001b[0mpredict\u001b[0m\u001b[1;33m(\u001b[0m\u001b[0mtest_bert_X\u001b[0m\u001b[1;33m)\u001b[0m\u001b[1;33m\u001b[0m\u001b[1;33m\u001b[0m\u001b[0m\n\u001b[0m\u001b[0;32m      2\u001b[0m \u001b[0msubmission_bert\u001b[0m \u001b[1;33m=\u001b[0m \u001b[0mtest_bert\u001b[0m\u001b[1;33m[\u001b[0m\u001b[1;33m[\u001b[0m\u001b[1;34m'index'\u001b[0m\u001b[1;33m,\u001b[0m \u001b[1;34m'knowcode'\u001b[0m\u001b[1;33m]\u001b[0m\u001b[1;33m]\u001b[0m\u001b[1;33m\u001b[0m\u001b[1;33m\u001b[0m\u001b[0m\n\u001b[0;32m      3\u001b[0m \u001b[0msubmission_bert\u001b[0m\u001b[1;33m.\u001b[0m\u001b[0mto_csv\u001b[0m\u001b[1;33m(\u001b[0m\u001b[1;34m'KNOW_2017_bert_submission.csv'\u001b[0m\u001b[1;33m)\u001b[0m\u001b[1;33m\u001b[0m\u001b[1;33m\u001b[0m\u001b[0m\n",
      "\u001b[1;32m~\\anaconda3\\lib\\site-packages\\lightgbm\\sklearn.py\u001b[0m in \u001b[0;36mpredict\u001b[1;34m(self, X, raw_score, start_iteration, num_iteration, pred_leaf, pred_contrib, **kwargs)\u001b[0m\n\u001b[0;32m    982\u001b[0m                 pred_leaf=False, pred_contrib=False, **kwargs):\n\u001b[0;32m    983\u001b[0m         \u001b[1;34m\"\"\"Docstring is inherited from the LGBMModel.\"\"\"\u001b[0m\u001b[1;33m\u001b[0m\u001b[1;33m\u001b[0m\u001b[0m\n\u001b[1;32m--> 984\u001b[1;33m         result = self.predict_proba(X, raw_score, start_iteration, num_iteration,\n\u001b[0m\u001b[0;32m    985\u001b[0m                                     pred_leaf, pred_contrib, **kwargs)\n\u001b[0;32m    986\u001b[0m         \u001b[1;32mif\u001b[0m \u001b[0mcallable\u001b[0m\u001b[1;33m(\u001b[0m\u001b[0mself\u001b[0m\u001b[1;33m.\u001b[0m\u001b[0m_objective\u001b[0m\u001b[1;33m)\u001b[0m \u001b[1;32mor\u001b[0m \u001b[0mraw_score\u001b[0m \u001b[1;32mor\u001b[0m \u001b[0mpred_leaf\u001b[0m \u001b[1;32mor\u001b[0m \u001b[0mpred_contrib\u001b[0m\u001b[1;33m:\u001b[0m\u001b[1;33m\u001b[0m\u001b[1;33m\u001b[0m\u001b[0m\n",
      "\u001b[1;32m~\\anaconda3\\lib\\site-packages\\lightgbm\\sklearn.py\u001b[0m in \u001b[0;36mpredict_proba\u001b[1;34m(self, X, raw_score, start_iteration, num_iteration, pred_leaf, pred_contrib, **kwargs)\u001b[0m\n\u001b[0;32m    995\u001b[0m                       pred_leaf=False, pred_contrib=False, **kwargs):\n\u001b[0;32m    996\u001b[0m         \u001b[1;34m\"\"\"Docstring is set after definition, using a template.\"\"\"\u001b[0m\u001b[1;33m\u001b[0m\u001b[1;33m\u001b[0m\u001b[0m\n\u001b[1;32m--> 997\u001b[1;33m         \u001b[0mresult\u001b[0m \u001b[1;33m=\u001b[0m \u001b[0msuper\u001b[0m\u001b[1;33m(\u001b[0m\u001b[1;33m)\u001b[0m\u001b[1;33m.\u001b[0m\u001b[0mpredict\u001b[0m\u001b[1;33m(\u001b[0m\u001b[0mX\u001b[0m\u001b[1;33m,\u001b[0m \u001b[0mraw_score\u001b[0m\u001b[1;33m,\u001b[0m \u001b[0mstart_iteration\u001b[0m\u001b[1;33m,\u001b[0m \u001b[0mnum_iteration\u001b[0m\u001b[1;33m,\u001b[0m \u001b[0mpred_leaf\u001b[0m\u001b[1;33m,\u001b[0m \u001b[0mpred_contrib\u001b[0m\u001b[1;33m,\u001b[0m \u001b[1;33m**\u001b[0m\u001b[0mkwargs\u001b[0m\u001b[1;33m)\u001b[0m\u001b[1;33m\u001b[0m\u001b[1;33m\u001b[0m\u001b[0m\n\u001b[0m\u001b[0;32m    998\u001b[0m         \u001b[1;32mif\u001b[0m \u001b[0mcallable\u001b[0m\u001b[1;33m(\u001b[0m\u001b[0mself\u001b[0m\u001b[1;33m.\u001b[0m\u001b[0m_objective\u001b[0m\u001b[1;33m)\u001b[0m \u001b[1;32mand\u001b[0m \u001b[1;32mnot\u001b[0m \u001b[1;33m(\u001b[0m\u001b[0mraw_score\u001b[0m \u001b[1;32mor\u001b[0m \u001b[0mpred_leaf\u001b[0m \u001b[1;32mor\u001b[0m \u001b[0mpred_contrib\u001b[0m\u001b[1;33m)\u001b[0m\u001b[1;33m:\u001b[0m\u001b[1;33m\u001b[0m\u001b[1;33m\u001b[0m\u001b[0m\n\u001b[0;32m    999\u001b[0m             _log_warning(\"Cannot compute class probabilities or labels \"\n",
      "\u001b[1;32m~\\anaconda3\\lib\\site-packages\\lightgbm\\sklearn.py\u001b[0m in \u001b[0;36mpredict\u001b[1;34m(self, X, raw_score, start_iteration, num_iteration, pred_leaf, pred_contrib, **kwargs)\u001b[0m\n\u001b[0;32m    798\u001b[0m         \u001b[0mn_features\u001b[0m \u001b[1;33m=\u001b[0m \u001b[0mX\u001b[0m\u001b[1;33m.\u001b[0m\u001b[0mshape\u001b[0m\u001b[1;33m[\u001b[0m\u001b[1;36m1\u001b[0m\u001b[1;33m]\u001b[0m\u001b[1;33m\u001b[0m\u001b[1;33m\u001b[0m\u001b[0m\n\u001b[0;32m    799\u001b[0m         \u001b[1;32mif\u001b[0m \u001b[0mself\u001b[0m\u001b[1;33m.\u001b[0m\u001b[0m_n_features\u001b[0m \u001b[1;33m!=\u001b[0m \u001b[0mn_features\u001b[0m\u001b[1;33m:\u001b[0m\u001b[1;33m\u001b[0m\u001b[1;33m\u001b[0m\u001b[0m\n\u001b[1;32m--> 800\u001b[1;33m             raise ValueError(\"Number of features of the model must \"\n\u001b[0m\u001b[0;32m    801\u001b[0m                              \u001b[1;34mf\"match the input. Model n_features_ is {self._n_features} and \"\u001b[0m\u001b[1;33m\u001b[0m\u001b[1;33m\u001b[0m\u001b[0m\n\u001b[0;32m    802\u001b[0m                              f\"input n_features is {n_features}\")\n",
      "\u001b[1;31mValueError\u001b[0m: Number of features of the model must match the input. Model n_features_ is 24435 and input n_features is 432"
     ]
    }
   ],
   "source": [
    "test_bert['knowcode'] = model_lgbm.predict(test_bert_X)\n",
    "submission_bert = test_bert[['index', 'knowcode']]\n",
    "submission_bert.to_csv('KNOW_2017_bert_submission.csv')"
   ]
  },
  {
   "cell_type": "code",
   "execution_count": null,
   "id": "d168d294",
   "metadata": {},
   "outputs": [],
   "source": [
    "params = {\n",
    "    'learning_rate': [0.02, 0.1, 0.05],\n",
    "    'max_depth': [6,8]\n",
    "    \n",
    "}\n",
    "\n",
    "gs = GridSearchCV(estimator=model,\n",
    "                  param_grid = params,\n",
    "                  scoring = 'neg_mean_squared_error', \n",
    "                  cv=kfold)"
   ]
  },
  {
   "cell_type": "code",
   "execution_count": null,
   "id": "2fe2b5e1",
   "metadata": {},
   "outputs": [],
   "source": [
    "gs.fit(train_bert_X, train_bert_y)"
   ]
  },
  {
   "cell_type": "code",
   "execution_count": null,
   "id": "f04d1324",
   "metadata": {},
   "outputs": [],
   "source": [
    "print('Hyper Parameter: ', gs.best_params_)"
   ]
  },
  {
   "cell_type": "code",
   "execution_count": null,
   "id": "7061b454",
   "metadata": {},
   "outputs": [],
   "source": [
    "print('cv score with Hyper Parameter', gs.best_score_)"
   ]
  },
  {
   "cell_type": "markdown",
   "id": "f0a84ae5",
   "metadata": {},
   "source": [
    "# simcse"
   ]
  },
  {
   "cell_type": "code",
   "execution_count": 67,
   "id": "c00c86a3",
   "metadata": {
    "scrolled": true
   },
   "outputs": [],
   "source": [
    "train_simcse_X, train_simcse_y = train_simcse.drop(['knowcode', 'index'], axis=1), train_simcse.knowcode\n",
    "test_simcse_X = test_simcse.drop('index', axis=1)"
   ]
  },
  {
   "cell_type": "code",
   "execution_count": 68,
   "id": "3dc99c24",
   "metadata": {},
   "outputs": [],
   "source": [
    "model_lgbm = lgb.LGBMClassifier(n_estimators=1000, max_depth=12, learning_rate=0.02, num_leaves=40)"
   ]
  },
  {
   "cell_type": "code",
   "execution_count": 69,
   "id": "55ea7356",
   "metadata": {},
   "outputs": [],
   "source": [
    "# train/ test data 로 split \n",
    "tr_val_X, test_X, tr_val_y, test_y = train_test_split(\n",
    "    train_simcse_X, \n",
    "    train_simcse_y, \n",
    "    test_size = 0.2, \n",
    "    random_state = 42,\n",
    "    shuffle=True,\n",
    "    stratify = train_simcse_y # Classification 중요 option\n",
    ")"
   ]
  },
  {
   "cell_type": "code",
   "execution_count": 70,
   "id": "7236a14e",
   "metadata": {
    "scrolled": false
   },
   "outputs": [
    {
     "name": "stderr",
     "output_type": "stream",
     "text": [
      "C:\\Users\\heeta\\anaconda3\\lib\\site-packages\\lightgbm\\sklearn.py:726: UserWarning: 'early_stopping_rounds' argument is deprecated and will be removed in a future release of LightGBM. Pass 'early_stopping()' callback via 'callbacks' argument instead.\n",
      "  _log_warning(\"'early_stopping_rounds' argument is deprecated and will be removed in a future release of LightGBM. \"\n",
      "C:\\Users\\heeta\\anaconda3\\lib\\site-packages\\lightgbm\\sklearn.py:736: UserWarning: 'verbose' argument is deprecated and will be removed in a future release of LightGBM. Pass 'log_evaluation()' callback via 'callbacks' argument instead.\n",
      "  _log_warning(\"'verbose' argument is deprecated and will be removed in a future release of LightGBM. \"\n"
     ]
    },
    {
     "name": "stdout",
     "output_type": "stream",
     "text": [
      "[100]\tvalid_0's multi_logloss: 3.40217\n",
      "[200]\tvalid_0's multi_logloss: 3.14883\n",
      "[300]\tvalid_0's multi_logloss: 2.92957\n",
      "[400]\tvalid_0's multi_logloss: 2.81792\n",
      "[500]\tvalid_0's multi_logloss: 2.7698\n",
      "[600]\tvalid_0's multi_logloss: 2.7479\n",
      "[700]\tvalid_0's multi_logloss: 2.73925\n",
      "[800]\tvalid_0's multi_logloss: 2.73623\n",
      "[900]\tvalid_0's multi_logloss: 2.73419\n",
      "[1000]\tvalid_0's multi_logloss: 2.73376\n",
      "\n",
      "#1 교차 검증 정확도 : 0.504,  학습 데이터 크기 : 6070,  검증 데이터 크기 : 1518\n",
      "#1 검증 세트 인덱스 : [   0    1    2 ... 3798 3977 4340]\n"
     ]
    },
    {
     "name": "stderr",
     "output_type": "stream",
     "text": [
      "C:\\Users\\heeta\\anaconda3\\lib\\site-packages\\lightgbm\\sklearn.py:726: UserWarning: 'early_stopping_rounds' argument is deprecated and will be removed in a future release of LightGBM. Pass 'early_stopping()' callback via 'callbacks' argument instead.\n",
      "  _log_warning(\"'early_stopping_rounds' argument is deprecated and will be removed in a future release of LightGBM. \"\n",
      "C:\\Users\\heeta\\anaconda3\\lib\\site-packages\\lightgbm\\sklearn.py:736: UserWarning: 'verbose' argument is deprecated and will be removed in a future release of LightGBM. Pass 'log_evaluation()' callback via 'callbacks' argument instead.\n",
      "  _log_warning(\"'verbose' argument is deprecated and will be removed in a future release of LightGBM. \"\n"
     ]
    },
    {
     "name": "stdout",
     "output_type": "stream",
     "text": [
      "[100]\tvalid_0's multi_logloss: 3.25154\n",
      "[200]\tvalid_0's multi_logloss: 2.98277\n",
      "[300]\tvalid_0's multi_logloss: 2.74638\n",
      "[400]\tvalid_0's multi_logloss: 2.64293\n",
      "[500]\tvalid_0's multi_logloss: 2.60243\n",
      "[600]\tvalid_0's multi_logloss: 2.58646\n",
      "[700]\tvalid_0's multi_logloss: 2.58211\n",
      "[800]\tvalid_0's multi_logloss: 2.58017\n",
      "[900]\tvalid_0's multi_logloss: 2.57997\n",
      "\n",
      "#2 교차 검증 정확도 : 0.5079,  학습 데이터 크기 : 6070,  검증 데이터 크기 : 1518\n",
      "#2 검증 세트 인덱스 : [ 205  260  278 ... 5390 5418 5549]\n"
     ]
    },
    {
     "name": "stderr",
     "output_type": "stream",
     "text": [
      "C:\\Users\\heeta\\anaconda3\\lib\\site-packages\\lightgbm\\sklearn.py:726: UserWarning: 'early_stopping_rounds' argument is deprecated and will be removed in a future release of LightGBM. Pass 'early_stopping()' callback via 'callbacks' argument instead.\n",
      "  _log_warning(\"'early_stopping_rounds' argument is deprecated and will be removed in a future release of LightGBM. \"\n",
      "C:\\Users\\heeta\\anaconda3\\lib\\site-packages\\lightgbm\\sklearn.py:736: UserWarning: 'verbose' argument is deprecated and will be removed in a future release of LightGBM. Pass 'log_evaluation()' callback via 'callbacks' argument instead.\n",
      "  _log_warning(\"'verbose' argument is deprecated and will be removed in a future release of LightGBM. \"\n"
     ]
    },
    {
     "name": "stdout",
     "output_type": "stream",
     "text": [
      "[100]\tvalid_0's multi_logloss: 3.22486\n",
      "[200]\tvalid_0's multi_logloss: 2.91071\n",
      "[300]\tvalid_0's multi_logloss: 2.67487\n",
      "[400]\tvalid_0's multi_logloss: 2.57145\n",
      "[500]\tvalid_0's multi_logloss: 2.53215\n",
      "[600]\tvalid_0's multi_logloss: 2.5177\n",
      "[700]\tvalid_0's multi_logloss: 2.51299\n",
      "[800]\tvalid_0's multi_logloss: 2.51164\n",
      "[900]\tvalid_0's multi_logloss: 2.51082\n",
      "[1000]\tvalid_0's multi_logloss: 2.511\n",
      "\n",
      "#3 교차 검증 정확도 : 0.5125,  학습 데이터 크기 : 6070,  검증 데이터 크기 : 1518\n",
      "#3 검증 세트 인덱스 : [ 535  551  583 ... 6698 6732 6775]\n"
     ]
    },
    {
     "name": "stderr",
     "output_type": "stream",
     "text": [
      "C:\\Users\\heeta\\anaconda3\\lib\\site-packages\\lightgbm\\sklearn.py:726: UserWarning: 'early_stopping_rounds' argument is deprecated and will be removed in a future release of LightGBM. Pass 'early_stopping()' callback via 'callbacks' argument instead.\n",
      "  _log_warning(\"'early_stopping_rounds' argument is deprecated and will be removed in a future release of LightGBM. \"\n",
      "C:\\Users\\heeta\\anaconda3\\lib\\site-packages\\lightgbm\\sklearn.py:736: UserWarning: 'verbose' argument is deprecated and will be removed in a future release of LightGBM. Pass 'log_evaluation()' callback via 'callbacks' argument instead.\n",
      "  _log_warning(\"'verbose' argument is deprecated and will be removed in a future release of LightGBM. \"\n"
     ]
    },
    {
     "name": "stdout",
     "output_type": "stream",
     "text": [
      "[100]\tvalid_0's multi_logloss: 3.22521\n",
      "[200]\tvalid_0's multi_logloss: 2.92094\n",
      "[300]\tvalid_0's multi_logloss: 2.67416\n",
      "[400]\tvalid_0's multi_logloss: 2.58475\n",
      "[500]\tvalid_0's multi_logloss: 2.55546\n",
      "[600]\tvalid_0's multi_logloss: 2.54526\n",
      "[700]\tvalid_0's multi_logloss: 2.5425\n",
      "[800]\tvalid_0's multi_logloss: 2.54193\n",
      "\n",
      "#4 교차 검증 정확도 : 0.532,  학습 데이터 크기 : 6071,  검증 데이터 크기 : 1517\n",
      "#4 검증 세트 인덱스 : [1560 1649 1741 ... 7285 7298 7454]\n"
     ]
    },
    {
     "name": "stderr",
     "output_type": "stream",
     "text": [
      "C:\\Users\\heeta\\anaconda3\\lib\\site-packages\\lightgbm\\sklearn.py:726: UserWarning: 'early_stopping_rounds' argument is deprecated and will be removed in a future release of LightGBM. Pass 'early_stopping()' callback via 'callbacks' argument instead.\n",
      "  _log_warning(\"'early_stopping_rounds' argument is deprecated and will be removed in a future release of LightGBM. \"\n",
      "C:\\Users\\heeta\\anaconda3\\lib\\site-packages\\lightgbm\\sklearn.py:736: UserWarning: 'verbose' argument is deprecated and will be removed in a future release of LightGBM. Pass 'log_evaluation()' callback via 'callbacks' argument instead.\n",
      "  _log_warning(\"'verbose' argument is deprecated and will be removed in a future release of LightGBM. \"\n"
     ]
    },
    {
     "name": "stdout",
     "output_type": "stream",
     "text": [
      "[100]\tvalid_0's multi_logloss: 3.22243\n",
      "[200]\tvalid_0's multi_logloss: 2.91376\n",
      "[300]\tvalid_0's multi_logloss: 2.68425\n",
      "[400]\tvalid_0's multi_logloss: 2.59283\n",
      "[500]\tvalid_0's multi_logloss: 2.56176\n",
      "[600]\tvalid_0's multi_logloss: 2.55365\n",
      "[700]\tvalid_0's multi_logloss: 2.55175\n",
      "[800]\tvalid_0's multi_logloss: 2.55254\n",
      "\n",
      "#5 교차 검증 정확도 : 0.526,  학습 데이터 크기 : 6071,  검증 데이터 크기 : 1517\n",
      "#5 검증 세트 인덱스 : [3407 3443 3472 ... 7585 7586 7587]\n",
      "\n",
      "## 평균 검증 정확도: 0.5164799999999999\n"
     ]
    }
   ],
   "source": [
    "kfold = StratifiedKFold(n_splits=5)\n",
    "cv_accuracy = []\n",
    "n_iter = 0\n",
    "\n",
    "for train_index, test_index in kfold.split(tr_val_X, tr_val_y):  # feautres 데이터를 위에서 지정한 kfold 숫자로 분할\n",
    "    x_train, x_test = train_simcse_X.iloc[train_index], train_simcse_X.iloc[test_index]\n",
    "    y_train, y_test = train_simcse_y[train_index], train_simcse_y[test_index]\n",
    "    \n",
    "    model_lgbm.fit(x_train, y_train, eval_set=(x_test, y_test), early_stopping_rounds=100, verbose=100)\n",
    "    pred = model_lgbm.predict(x_test)\n",
    "    n_iter += 1\n",
    "    \n",
    "    accuracy = np.round(accuracy_score(y_test, pred), 4) # 소수점 4자리 반올림\n",
    "    train_size = x_train.shape[0]\n",
    "    test_size = x_test.shape[0]\n",
    "    \n",
    "    print('\\n#{0} 교차 검증 정확도 : {1},  학습 데이터 크기 : {2},  검증 데이터 크기 : {3}'\n",
    "          .format(n_iter, accuracy, train_size, test_size))\n",
    "    print('#{0} 검증 세트 인덱스 : {1}'.format(n_iter,test_index))\n",
    "    cv_accuracy.append(accuracy)\n",
    "    \n",
    "print('\\n## 평균 검증 정확도:', np.mean(cv_accuracy))"
   ]
  },
  {
   "cell_type": "code",
   "execution_count": 71,
   "id": "f714836f",
   "metadata": {},
   "outputs": [],
   "source": [
    "test_simcse['knowcode'] = model_lgbm.predict(test_simcse_X)\n",
    "submission_simcse = test_simcse[['index', 'knowcode']]\n",
    "submission_simcse.to_csv('KNOW_2017_simcse_submission.csv')"
   ]
  },
  {
   "cell_type": "code",
   "execution_count": null,
   "id": "281e9229",
   "metadata": {},
   "outputs": [],
   "source": [
    "params = {\n",
    "    'learning_rate': [0.02, 0.1, 0.05],\n",
    "    'max_depth': [6,8]\n",
    "    \n",
    "}\n",
    "\n",
    "gs = GridSearchCV(estimator=model,\n",
    "                  param_grid = params,\n",
    "                  scoring = 'neg_mean_squared_error', \n",
    "                  cv=kfold)"
   ]
  },
  {
   "cell_type": "code",
   "execution_count": null,
   "id": "88a1c69a",
   "metadata": {},
   "outputs": [],
   "source": [
    "gs.fit(train_simcse_X, train_simcse_y)"
   ]
  },
  {
   "cell_type": "code",
   "execution_count": null,
   "id": "c2460ca2",
   "metadata": {},
   "outputs": [],
   "source": [
    "print('Hyper Parameter: ', gs.best_params_)"
   ]
  },
  {
   "cell_type": "code",
   "execution_count": null,
   "id": "9f739893",
   "metadata": {},
   "outputs": [],
   "source": [
    "print('cv score with Hyper Parameter', gs.best_score_)"
   ]
  },
  {
   "cell_type": "markdown",
   "id": "f091dc16",
   "metadata": {},
   "source": [
    "# tf_idf"
   ]
  },
  {
   "cell_type": "code",
   "execution_count": 88,
   "id": "75b57f7f",
   "metadata": {
    "scrolled": true
   },
   "outputs": [],
   "source": [
    "tf_idf_without_knowcode = train_tf_idf.drop(columns=['knowcode'], inplace=False)"
   ]
  },
  {
   "cell_type": "code",
   "execution_count": 89,
   "id": "0b5d680f",
   "metadata": {},
   "outputs": [],
   "source": [
    "test_tf_idf = test_tf_idf[tf_idf_without_knowcode.columns]"
   ]
  },
  {
   "cell_type": "code",
   "execution_count": 90,
   "id": "a16dbf50",
   "metadata": {},
   "outputs": [],
   "source": [
    "train_tf_idf_X, train_tf_idf_y = train_tf_idf.drop(['knowcode', 'index'], axis=1), train_tf_idf.knowcode\n",
    "test_tf_idf_X = test_tf_idf.drop('index', axis=1)"
   ]
  },
  {
   "cell_type": "code",
   "execution_count": 81,
   "id": "d13ea636",
   "metadata": {},
   "outputs": [],
   "source": [
    "model_lgbm = lgb.LGBMClassifier(n_estimators=1000, learning_rate=0.02, max_depth=8)"
   ]
  },
  {
   "cell_type": "code",
   "execution_count": 82,
   "id": "67f65180",
   "metadata": {},
   "outputs": [],
   "source": [
    "# train/ test data 로 split \n",
    "tr_val_X, test_X, tr_val_y, test_y = train_test_split(\n",
    "    train_tf_idf_X, \n",
    "    train_tf_idf_y, \n",
    "    test_size = 0.2, \n",
    "    random_state = 42,\n",
    "    shuffle=True,\n",
    "    stratify = train_tf_idf_y # Classification 중요 option\n",
    ")"
   ]
  },
  {
   "cell_type": "code",
   "execution_count": 83,
   "id": "bea8fa9b",
   "metadata": {
    "scrolled": true
   },
   "outputs": [
    {
     "name": "stderr",
     "output_type": "stream",
     "text": [
      "C:\\Users\\heeta\\anaconda3\\lib\\site-packages\\lightgbm\\sklearn.py:726: UserWarning: 'early_stopping_rounds' argument is deprecated and will be removed in a future release of LightGBM. Pass 'early_stopping()' callback via 'callbacks' argument instead.\n",
      "  _log_warning(\"'early_stopping_rounds' argument is deprecated and will be removed in a future release of LightGBM. \"\n",
      "C:\\Users\\heeta\\anaconda3\\lib\\site-packages\\lightgbm\\sklearn.py:736: UserWarning: 'verbose' argument is deprecated and will be removed in a future release of LightGBM. Pass 'log_evaluation()' callback via 'callbacks' argument instead.\n",
      "  _log_warning(\"'verbose' argument is deprecated and will be removed in a future release of LightGBM. \"\n"
     ]
    },
    {
     "name": "stdout",
     "output_type": "stream",
     "text": [
      "[100]\tvalid_0's multi_logloss: 3.56067\n",
      "[200]\tvalid_0's multi_logloss: 3.5232\n",
      "\n",
      "#1 교차 검증 정확도 : 0.3149,  학습 데이터 크기 : 6070,  검증 데이터 크기 : 1518\n",
      "#1 검증 세트 인덱스 : [   0    1    2 ... 3798 3977 4340]\n"
     ]
    },
    {
     "name": "stderr",
     "output_type": "stream",
     "text": [
      "C:\\Users\\heeta\\anaconda3\\lib\\site-packages\\lightgbm\\sklearn.py:726: UserWarning: 'early_stopping_rounds' argument is deprecated and will be removed in a future release of LightGBM. Pass 'early_stopping()' callback via 'callbacks' argument instead.\n",
      "  _log_warning(\"'early_stopping_rounds' argument is deprecated and will be removed in a future release of LightGBM. \"\n",
      "C:\\Users\\heeta\\anaconda3\\lib\\site-packages\\lightgbm\\sklearn.py:736: UserWarning: 'verbose' argument is deprecated and will be removed in a future release of LightGBM. Pass 'log_evaluation()' callback via 'callbacks' argument instead.\n",
      "  _log_warning(\"'verbose' argument is deprecated and will be removed in a future release of LightGBM. \"\n"
     ]
    },
    {
     "name": "stdout",
     "output_type": "stream",
     "text": [
      "[100]\tvalid_0's multi_logloss: 3.29281\n",
      "[200]\tvalid_0's multi_logloss: 3.26141\n",
      "\n",
      "#2 교차 검증 정확도 : 0.3623,  학습 데이터 크기 : 6070,  검증 데이터 크기 : 1518\n",
      "#2 검증 세트 인덱스 : [ 205  260  278 ... 5390 5418 5549]\n"
     ]
    },
    {
     "name": "stderr",
     "output_type": "stream",
     "text": [
      "C:\\Users\\heeta\\anaconda3\\lib\\site-packages\\lightgbm\\sklearn.py:726: UserWarning: 'early_stopping_rounds' argument is deprecated and will be removed in a future release of LightGBM. Pass 'early_stopping()' callback via 'callbacks' argument instead.\n",
      "  _log_warning(\"'early_stopping_rounds' argument is deprecated and will be removed in a future release of LightGBM. \"\n",
      "C:\\Users\\heeta\\anaconda3\\lib\\site-packages\\lightgbm\\sklearn.py:736: UserWarning: 'verbose' argument is deprecated and will be removed in a future release of LightGBM. Pass 'log_evaluation()' callback via 'callbacks' argument instead.\n",
      "  _log_warning(\"'verbose' argument is deprecated and will be removed in a future release of LightGBM. \"\n"
     ]
    },
    {
     "name": "stdout",
     "output_type": "stream",
     "text": [
      "[100]\tvalid_0's multi_logloss: 3.20173\n",
      "[200]\tvalid_0's multi_logloss: 3.16077\n",
      "\n",
      "#3 교차 검증 정확도 : 0.3715,  학습 데이터 크기 : 6070,  검증 데이터 크기 : 1518\n",
      "#3 검증 세트 인덱스 : [ 535  551  583 ... 6698 6732 6775]\n"
     ]
    },
    {
     "name": "stderr",
     "output_type": "stream",
     "text": [
      "C:\\Users\\heeta\\anaconda3\\lib\\site-packages\\lightgbm\\sklearn.py:726: UserWarning: 'early_stopping_rounds' argument is deprecated and will be removed in a future release of LightGBM. Pass 'early_stopping()' callback via 'callbacks' argument instead.\n",
      "  _log_warning(\"'early_stopping_rounds' argument is deprecated and will be removed in a future release of LightGBM. \"\n",
      "C:\\Users\\heeta\\anaconda3\\lib\\site-packages\\lightgbm\\sklearn.py:736: UserWarning: 'verbose' argument is deprecated and will be removed in a future release of LightGBM. Pass 'log_evaluation()' callback via 'callbacks' argument instead.\n",
      "  _log_warning(\"'verbose' argument is deprecated and will be removed in a future release of LightGBM. \"\n"
     ]
    },
    {
     "name": "stdout",
     "output_type": "stream",
     "text": [
      "[100]\tvalid_0's multi_logloss: 3.25012\n",
      "[200]\tvalid_0's multi_logloss: 3.13383\n",
      "\n",
      "#4 교차 검증 정확도 : 0.3863,  학습 데이터 크기 : 6071,  검증 데이터 크기 : 1517\n",
      "#4 검증 세트 인덱스 : [1560 1649 1741 ... 7285 7298 7454]\n"
     ]
    },
    {
     "name": "stderr",
     "output_type": "stream",
     "text": [
      "C:\\Users\\heeta\\anaconda3\\lib\\site-packages\\lightgbm\\sklearn.py:726: UserWarning: 'early_stopping_rounds' argument is deprecated and will be removed in a future release of LightGBM. Pass 'early_stopping()' callback via 'callbacks' argument instead.\n",
      "  _log_warning(\"'early_stopping_rounds' argument is deprecated and will be removed in a future release of LightGBM. \"\n",
      "C:\\Users\\heeta\\anaconda3\\lib\\site-packages\\lightgbm\\sklearn.py:736: UserWarning: 'verbose' argument is deprecated and will be removed in a future release of LightGBM. Pass 'log_evaluation()' callback via 'callbacks' argument instead.\n",
      "  _log_warning(\"'verbose' argument is deprecated and will be removed in a future release of LightGBM. \"\n"
     ]
    },
    {
     "name": "stdout",
     "output_type": "stream",
     "text": [
      "[100]\tvalid_0's multi_logloss: 3.25539\n",
      "[200]\tvalid_0's multi_logloss: 3.18935\n",
      "\n",
      "#5 교차 검증 정확도 : 0.3883,  학습 데이터 크기 : 6071,  검증 데이터 크기 : 1517\n",
      "#5 검증 세트 인덱스 : [3407 3443 3472 ... 7585 7586 7587]\n",
      "\n",
      "## 평균 검증 정확도: 0.36466000000000004\n"
     ]
    }
   ],
   "source": [
    "kfold = StratifiedKFold(n_splits=5)\n",
    "cv_accuracy = []\n",
    "n_iter = 0\n",
    "\n",
    "for train_index, test_index in kfold.split(tr_val_X, tr_val_y):  # feautres 데이터를 위에서 지정한 kfold 숫자로 분할\n",
    "    x_train, x_test = train_tf_idf_X.iloc[train_index], train_tf_idf_X.iloc[test_index]\n",
    "    y_train, y_test = train_tf_idf_y[train_index], train_tf_idf_y[test_index]\n",
    "    \n",
    "    model_lgbm.fit(x_train, y_train, eval_set=(x_test, y_test), early_stopping_rounds=100, verbose=100)\n",
    "    pred = model_lgbm.predict(x_test)\n",
    "    n_iter += 1\n",
    "    \n",
    "    accuracy = np.round(accuracy_score(y_test, pred), 4) # 소수점 4자리 반올림\n",
    "    train_size = x_train.shape[0]\n",
    "    test_size = x_test.shape[0]\n",
    "    \n",
    "    print('\\n#{0} 교차 검증 정확도 : {1},  학습 데이터 크기 : {2},  검증 데이터 크기 : {3}'\n",
    "          .format(n_iter, accuracy, train_size, test_size))\n",
    "    print('#{0} 검증 세트 인덱스 : {1}'.format(n_iter,test_index))\n",
    "    cv_accuracy.append(accuracy)\n",
    "    \n",
    "print('\\n## 평균 검증 정확도:', np.mean(cv_accuracy))"
   ]
  },
  {
   "cell_type": "code",
   "execution_count": 95,
   "id": "44f2bbf3",
   "metadata": {},
   "outputs": [],
   "source": [
    "test_tf_idf['knowcode'] = model_lgbm.predict(test_tf_idf_X)\n",
    "submission_tf_idf = test_tf_idf[['index', 'knowcode']]\n",
    "submission_tf_idf.to_csv('KNOW_2017_tfidf_submission.csv')"
   ]
  },
  {
   "cell_type": "code",
   "execution_count": null,
   "id": "951a5fe6",
   "metadata": {},
   "outputs": [],
   "source": [
    "params = {\n",
    "    'learning_rate': [0.02, 0.1, 0.05],\n",
    "    'max_depth': [6,8]\n",
    "    \n",
    "}\n",
    "\n",
    "gs = GridSearchCV(estimator=model,\n",
    "                  param_grid = params,\n",
    "                  scoring = 'neg_mean_squared_error', \n",
    "                  cv=kfold)"
   ]
  },
  {
   "cell_type": "code",
   "execution_count": null,
   "id": "550c157c",
   "metadata": {},
   "outputs": [],
   "source": [
    "gs.fit(train_tf_idf_X, train_tf_idf_y)"
   ]
  },
  {
   "cell_type": "code",
   "execution_count": null,
   "id": "160e6231",
   "metadata": {},
   "outputs": [],
   "source": [
    "print('Hyper Parameter: ', gs.best_params_)"
   ]
  },
  {
   "cell_type": "code",
   "execution_count": null,
   "id": "7061b454",
   "metadata": {},
   "outputs": [],
   "source": [
    "print('cv score with Hyper Parameter', gs.best_score_)"
   ]
  },
  {
   "cell_type": "markdown",
   "id": "d552c91a",
   "metadata": {},
   "source": [
    "# no_text"
   ]
  },
  {
   "cell_type": "code",
   "execution_count": 97,
   "id": "1538efd5",
   "metadata": {},
   "outputs": [],
   "source": [
    "train_no_text_X, train_no_text_y = train_no_text.drop(['knowcode', 'index'], axis=1), train_no_text.knowcode\n",
    "test_no_text_X = test_no_text.drop('index', axis=1)"
   ]
  },
  {
   "cell_type": "code",
   "execution_count": 98,
   "id": "d38d6d24",
   "metadata": {},
   "outputs": [],
   "source": [
    "#하이퍼파라미터 없이, 지금은 임의로 넣어둠\n",
    "model_lgbm = lgb.LGBMClassifier(n_estimators=1000, max_depth=6, learning_rate=0.01)"
   ]
  },
  {
   "cell_type": "code",
   "execution_count": 99,
   "id": "fe036ae2",
   "metadata": {},
   "outputs": [],
   "source": [
    "# train/ test data 로 split \n",
    "tr_val_X, test_X, tr_val_y, test_y = train_test_split(\n",
    "    train_no_text_X, \n",
    "    train_no_text_y, \n",
    "    test_size = 0.2, \n",
    "    random_state = 42,\n",
    "    shuffle=True,\n",
    "    stratify = train_no_text_y # Classification 중요 option\n",
    ")"
   ]
  },
  {
   "cell_type": "code",
   "execution_count": 100,
   "id": "63b14098",
   "metadata": {
    "scrolled": true
   },
   "outputs": [
    {
     "name": "stderr",
     "output_type": "stream",
     "text": [
      "C:\\Users\\heeta\\anaconda3\\lib\\site-packages\\lightgbm\\sklearn.py:726: UserWarning: 'early_stopping_rounds' argument is deprecated and will be removed in a future release of LightGBM. Pass 'early_stopping()' callback via 'callbacks' argument instead.\n",
      "  _log_warning(\"'early_stopping_rounds' argument is deprecated and will be removed in a future release of LightGBM. \"\n",
      "C:\\Users\\heeta\\anaconda3\\lib\\site-packages\\lightgbm\\sklearn.py:736: UserWarning: 'verbose' argument is deprecated and will be removed in a future release of LightGBM. Pass 'log_evaluation()' callback via 'callbacks' argument instead.\n",
      "  _log_warning(\"'verbose' argument is deprecated and will be removed in a future release of LightGBM. \"\n"
     ]
    },
    {
     "name": "stdout",
     "output_type": "stream",
     "text": [
      "[100]\tvalid_0's multi_logloss: 4.27495\n",
      "[200]\tvalid_0's multi_logloss: 3.97975\n",
      "[300]\tvalid_0's multi_logloss: 3.91603\n",
      "\n",
      "#1 교차 검증 정확도 : 0.2819,  학습 데이터 크기 : 6070,  검증 데이터 크기 : 1518\n",
      "#1 검증 세트 인덱스 : [   0    1    2 ... 3798 3977 4340]\n"
     ]
    },
    {
     "name": "stderr",
     "output_type": "stream",
     "text": [
      "C:\\Users\\heeta\\anaconda3\\lib\\site-packages\\lightgbm\\sklearn.py:726: UserWarning: 'early_stopping_rounds' argument is deprecated and will be removed in a future release of LightGBM. Pass 'early_stopping()' callback via 'callbacks' argument instead.\n",
      "  _log_warning(\"'early_stopping_rounds' argument is deprecated and will be removed in a future release of LightGBM. \"\n",
      "C:\\Users\\heeta\\anaconda3\\lib\\site-packages\\lightgbm\\sklearn.py:736: UserWarning: 'verbose' argument is deprecated and will be removed in a future release of LightGBM. Pass 'log_evaluation()' callback via 'callbacks' argument instead.\n",
      "  _log_warning(\"'verbose' argument is deprecated and will be removed in a future release of LightGBM. \"\n"
     ]
    },
    {
     "name": "stdout",
     "output_type": "stream",
     "text": [
      "[100]\tvalid_0's multi_logloss: 4.07923\n",
      "[200]\tvalid_0's multi_logloss: 3.79256\n",
      "[300]\tvalid_0's multi_logloss: 3.71592\n",
      "\n",
      "#2 교차 검증 정확도 : 0.3037,  학습 데이터 크기 : 6070,  검증 데이터 크기 : 1518\n",
      "#2 검증 세트 인덱스 : [ 205  260  278 ... 5390 5418 5549]\n"
     ]
    },
    {
     "name": "stderr",
     "output_type": "stream",
     "text": [
      "C:\\Users\\heeta\\anaconda3\\lib\\site-packages\\lightgbm\\sklearn.py:726: UserWarning: 'early_stopping_rounds' argument is deprecated and will be removed in a future release of LightGBM. Pass 'early_stopping()' callback via 'callbacks' argument instead.\n",
      "  _log_warning(\"'early_stopping_rounds' argument is deprecated and will be removed in a future release of LightGBM. \"\n",
      "C:\\Users\\heeta\\anaconda3\\lib\\site-packages\\lightgbm\\sklearn.py:736: UserWarning: 'verbose' argument is deprecated and will be removed in a future release of LightGBM. Pass 'log_evaluation()' callback via 'callbacks' argument instead.\n",
      "  _log_warning(\"'verbose' argument is deprecated and will be removed in a future release of LightGBM. \"\n"
     ]
    },
    {
     "name": "stdout",
     "output_type": "stream",
     "text": [
      "[100]\tvalid_0's multi_logloss: 3.96693\n",
      "[200]\tvalid_0's multi_logloss: 3.62798\n",
      "[300]\tvalid_0's multi_logloss: 3.52088\n",
      "[400]\tvalid_0's multi_logloss: 3.54098\n",
      "\n",
      "#3 교차 검증 정확도 : 0.3426,  학습 데이터 크기 : 6070,  검증 데이터 크기 : 1518\n",
      "#3 검증 세트 인덱스 : [ 535  551  583 ... 6698 6732 6775]\n"
     ]
    },
    {
     "name": "stderr",
     "output_type": "stream",
     "text": [
      "C:\\Users\\heeta\\anaconda3\\lib\\site-packages\\lightgbm\\sklearn.py:726: UserWarning: 'early_stopping_rounds' argument is deprecated and will be removed in a future release of LightGBM. Pass 'early_stopping()' callback via 'callbacks' argument instead.\n",
      "  _log_warning(\"'early_stopping_rounds' argument is deprecated and will be removed in a future release of LightGBM. \"\n",
      "C:\\Users\\heeta\\anaconda3\\lib\\site-packages\\lightgbm\\sklearn.py:736: UserWarning: 'verbose' argument is deprecated and will be removed in a future release of LightGBM. Pass 'log_evaluation()' callback via 'callbacks' argument instead.\n",
      "  _log_warning(\"'verbose' argument is deprecated and will be removed in a future release of LightGBM. \"\n"
     ]
    },
    {
     "name": "stdout",
     "output_type": "stream",
     "text": [
      "[100]\tvalid_0's multi_logloss: 3.99886\n",
      "[200]\tvalid_0's multi_logloss: 3.64926\n",
      "[300]\tvalid_0's multi_logloss: 3.53983\n",
      "[400]\tvalid_0's multi_logloss: 3.55374\n",
      "\n",
      "#4 교차 검증 정확도 : 0.3421,  학습 데이터 크기 : 6071,  검증 데이터 크기 : 1517\n",
      "#4 검증 세트 인덱스 : [1560 1649 1741 ... 7285 7298 7454]\n"
     ]
    },
    {
     "name": "stderr",
     "output_type": "stream",
     "text": [
      "C:\\Users\\heeta\\anaconda3\\lib\\site-packages\\lightgbm\\sklearn.py:726: UserWarning: 'early_stopping_rounds' argument is deprecated and will be removed in a future release of LightGBM. Pass 'early_stopping()' callback via 'callbacks' argument instead.\n",
      "  _log_warning(\"'early_stopping_rounds' argument is deprecated and will be removed in a future release of LightGBM. \"\n",
      "C:\\Users\\heeta\\anaconda3\\lib\\site-packages\\lightgbm\\sklearn.py:736: UserWarning: 'verbose' argument is deprecated and will be removed in a future release of LightGBM. Pass 'log_evaluation()' callback via 'callbacks' argument instead.\n",
      "  _log_warning(\"'verbose' argument is deprecated and will be removed in a future release of LightGBM. \"\n"
     ]
    },
    {
     "name": "stdout",
     "output_type": "stream",
     "text": [
      "[100]\tvalid_0's multi_logloss: 4.00412\n",
      "[200]\tvalid_0's multi_logloss: 3.68069\n",
      "[300]\tvalid_0's multi_logloss: 3.58238\n",
      "[400]\tvalid_0's multi_logloss: 3.61902\n",
      "\n",
      "#5 교차 검증 정확도 : 0.3408,  학습 데이터 크기 : 6071,  검증 데이터 크기 : 1517\n",
      "#5 검증 세트 인덱스 : [3407 3443 3472 ... 7585 7586 7587]\n",
      "\n",
      "## 평균 검증 정확도: 0.32222\n"
     ]
    }
   ],
   "source": [
    "#without hyperparameter\n",
    "kfold = StratifiedKFold(n_splits=5)\n",
    "cv_accuracy = []\n",
    "n_iter = 0\n",
    "\n",
    "for train_index, test_index in kfold.split(tr_val_X, tr_val_y):  # feautres 데이터를 위에서 지정한 kfold 숫자로 분할\n",
    "    x_train, x_test = train_no_text_X.iloc[train_index], train_no_text_X.iloc[test_index]\n",
    "    y_train, y_test = train_no_text_y[train_index], train_no_text_y[test_index]\n",
    "    \n",
    "    model_lgbm.fit(x_train, y_train, eval_set=(x_test, y_test), early_stopping_rounds=100, verbose=100)\n",
    "    pred = model_lgbm.predict(x_test)\n",
    "    n_iter += 1\n",
    "    \n",
    "    accuracy = np.round(accuracy_score(y_test, pred), 4) # 소수점 4자리 반올림\n",
    "    train_size = x_train.shape[0]\n",
    "    test_size = x_test.shape[0]\n",
    "    \n",
    "    print('\\n#{0} 교차 검증 정확도 : {1},  학습 데이터 크기 : {2},  검증 데이터 크기 : {3}'\n",
    "          .format(n_iter, accuracy, train_size, test_size))\n",
    "    print('#{0} 검증 세트 인덱스 : {1}'.format(n_iter,test_index))\n",
    "    cv_accuracy.append(accuracy)\n",
    "    \n",
    "print('\\n## 평균 검증 정확도:', np.mean(cv_accuracy))"
   ]
  },
  {
   "cell_type": "code",
   "execution_count": 101,
   "id": "a6fc1363",
   "metadata": {},
   "outputs": [],
   "source": [
    "test_no_text['knowcode'] = model_lgbm.predict(test_no_text_X)\n",
    "submission_no_text = test_no_text[['index', 'knowcode']]\n",
    "submission_no_text.to_csv('KNOW_2017_no_text_submission.csv')"
   ]
  },
  {
   "cell_type": "code",
   "execution_count": null,
   "id": "d168d294",
   "metadata": {},
   "outputs": [],
   "source": [
    "params = {\n",
    "    'learning_rate': [0.02, 0.1, 0.05],\n",
    "    'max_depth': [6,8]\n",
    "    \n",
    "}\n",
    "\n",
    "gs = GridSearchCV(estimator=model,\n",
    "                  param_grid = params,\n",
    "                  scoring = 'neg_mean_squared_error', \n",
    "                  cv=kfold)"
   ]
  },
  {
   "cell_type": "code",
   "execution_count": null,
   "id": "2fe2b5e1",
   "metadata": {},
   "outputs": [],
   "source": [
    "gs.fit(train_no_text_X, train_no_text_y)"
   ]
  },
  {
   "cell_type": "code",
   "execution_count": null,
   "id": "f04d1324",
   "metadata": {},
   "outputs": [],
   "source": [
    "print('Hyper Parameter: ', gs.best_params_)"
   ]
  },
  {
   "cell_type": "code",
   "execution_count": null,
   "id": "7061b454",
   "metadata": {},
   "outputs": [],
   "source": [
    "print('cv score with Hyper Parameter', gs.best_score_)"
   ]
  }
 ],
 "metadata": {
  "kernelspec": {
   "display_name": "Python 3",
   "language": "python",
   "name": "python3"
  },
  "language_info": {
   "codemirror_mode": {
    "name": "ipython",
    "version": 3
   },
   "file_extension": ".py",
   "mimetype": "text/x-python",
   "name": "python",
   "nbconvert_exporter": "python",
   "pygments_lexer": "ipython3",
   "version": "3.8.8"
  }
 },
 "nbformat": 4,
 "nbformat_minor": 5
}
