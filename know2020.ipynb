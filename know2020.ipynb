{
 "cells": [
  {
   "cell_type": "code",
   "execution_count": 1,
   "id": "56f96172",
   "metadata": {},
   "outputs": [],
   "source": [
    "import numpy as np\n",
    "import pandas as pd\n",
    "import matplotlib.pyplot as plt"
   ]
  },
  {
   "cell_type": "code",
   "execution_count": 2,
   "id": "69df8686",
   "metadata": {},
   "outputs": [],
   "source": [
    "import lightgbm as lgb"
   ]
  },
  {
   "cell_type": "code",
   "execution_count": 3,
   "id": "adf27122",
   "metadata": {},
   "outputs": [],
   "source": [
    "from sklearn.model_selection import train_test_split, cross_validate, StratifiedKFold, GridSearchCV"
   ]
  },
  {
   "cell_type": "code",
   "execution_count": 4,
   "id": "f7eebf89",
   "metadata": {},
   "outputs": [],
   "source": [
    "from sklearn.metrics import accuracy_score, classification_report"
   ]
  },
  {
   "cell_type": "code",
   "execution_count": 5,
   "id": "b867757d",
   "metadata": {},
   "outputs": [],
   "source": [
    "train_bert = pd.read_csv('KNOW_2020_train_bert.csv')\n",
    "test_bert = pd.read_csv('KNOW_2020_test_bert.csv')\n",
    "train_tf_idf = pd.read_csv('KNOW_2020_train_tfidf.csv')\n",
    "test_tf_idf = pd.read_csv('KNOW_2020_test_tfidf.csv')\n",
    "train_simcse = pd.read_csv('KNOW_2020_train_simcse.csv')\n",
    "test_simcse = pd.read_csv('KNOW_2020_test_simcse.csv')\n",
    "train_no_text = pd.read_csv('KNOW_2020_train_no_text.csv')\n",
    "test_no_text = pd.read_csv('KNOW_2020_test_no_text.csv')"
   ]
  },
  {
   "cell_type": "markdown",
   "id": "016bd5b5",
   "metadata": {},
   "source": [
    "# bert"
   ]
  },
  {
   "cell_type": "code",
   "execution_count": 7,
   "id": "67a89f5e",
   "metadata": {},
   "outputs": [],
   "source": [
    "train_bert_X, train_bert_y = train_bert.drop('knowcode', axis=1), train_bert.knowcode\n",
    "test_bert_X = test_bert"
   ]
  },
  {
   "cell_type": "code",
   "execution_count": 8,
   "id": "86ef950e",
   "metadata": {},
   "outputs": [],
   "source": [
    "model_lgbm = lgb.LGBMClassifier(n_estimators=1000, max_depth=6, learning_rate=0.02)"
   ]
  },
  {
   "cell_type": "code",
   "execution_count": 9,
   "id": "055762e2",
   "metadata": {},
   "outputs": [],
   "source": [
    "# train/ test data 로 split \n",
    "tr_val_X, test_X, tr_val_y, test_y = train_test_split(\n",
    "    train_bert_X, \n",
    "    train_bert_y, \n",
    "    test_size = 0.2, \n",
    "    random_state = 42,\n",
    "    shuffle=True,\n",
    "    stratify = train_bert_y # Classification 중요 option\n",
    ")"
   ]
  },
  {
   "cell_type": "code",
   "execution_count": 10,
   "id": "169f367d",
   "metadata": {
    "scrolled": false
   },
   "outputs": [
    {
     "name": "stderr",
     "output_type": "stream",
     "text": [
      "C:\\Users\\heeta\\anaconda3\\lib\\site-packages\\lightgbm\\sklearn.py:726: UserWarning: 'early_stopping_rounds' argument is deprecated and will be removed in a future release of LightGBM. Pass 'early_stopping()' callback via 'callbacks' argument instead.\n",
      "  _log_warning(\"'early_stopping_rounds' argument is deprecated and will be removed in a future release of LightGBM. \"\n",
      "C:\\Users\\heeta\\anaconda3\\lib\\site-packages\\lightgbm\\sklearn.py:736: UserWarning: 'verbose' argument is deprecated and will be removed in a future release of LightGBM. Pass 'log_evaluation()' callback via 'callbacks' argument instead.\n",
      "  _log_warning(\"'verbose' argument is deprecated and will be removed in a future release of LightGBM. \"\n"
     ]
    },
    {
     "name": "stdout",
     "output_type": "stream",
     "text": [
      "[100]\tvalid_0's multi_logloss: 3.52208\n",
      "[200]\tvalid_0's multi_logloss: 3.22324\n",
      "[300]\tvalid_0's multi_logloss: 3.0095\n",
      "[400]\tvalid_0's multi_logloss: 2.9736\n",
      "[500]\tvalid_0's multi_logloss: 2.96777\n",
      "[600]\tvalid_0's multi_logloss: 2.96616\n",
      "[700]\tvalid_0's multi_logloss: 2.96519\n",
      "[800]\tvalid_0's multi_logloss: 2.96443\n",
      "[900]\tvalid_0's multi_logloss: 2.96432\n",
      "\n",
      "#1 교차 검증 정확도 : 0.4562,  학습 데이터 크기 : 5197,  검증 데이터 크기 : 1300\n",
      "#1 검증 세트 인덱스 : [   0    1    2 ... 3223 3344 3484]\n"
     ]
    },
    {
     "name": "stderr",
     "output_type": "stream",
     "text": [
      "C:\\Users\\heeta\\anaconda3\\lib\\site-packages\\lightgbm\\sklearn.py:726: UserWarning: 'early_stopping_rounds' argument is deprecated and will be removed in a future release of LightGBM. Pass 'early_stopping()' callback via 'callbacks' argument instead.\n",
      "  _log_warning(\"'early_stopping_rounds' argument is deprecated and will be removed in a future release of LightGBM. \"\n",
      "C:\\Users\\heeta\\anaconda3\\lib\\site-packages\\lightgbm\\sklearn.py:736: UserWarning: 'verbose' argument is deprecated and will be removed in a future release of LightGBM. Pass 'log_evaluation()' callback via 'callbacks' argument instead.\n",
      "  _log_warning(\"'verbose' argument is deprecated and will be removed in a future release of LightGBM. \"\n"
     ]
    },
    {
     "name": "stdout",
     "output_type": "stream",
     "text": [
      "[100]\tvalid_0's multi_logloss: 3.5132\n",
      "[200]\tvalid_0's multi_logloss: 3.21114\n",
      "[300]\tvalid_0's multi_logloss: 3.00735\n",
      "[400]\tvalid_0's multi_logloss: 2.97906\n",
      "[500]\tvalid_0's multi_logloss: 2.974\n",
      "[600]\tvalid_0's multi_logloss: 2.97252\n",
      "[700]\tvalid_0's multi_logloss: 2.97223\n",
      "[800]\tvalid_0's multi_logloss: 2.97221\n",
      "\n",
      "#2 교차 검증 정확도 : 0.4623,  학습 데이터 크기 : 5197,  검증 데이터 크기 : 1300\n",
      "#2 검증 세트 인덱스 : [ 252  285  316 ... 4688 4832 4867]\n"
     ]
    },
    {
     "name": "stderr",
     "output_type": "stream",
     "text": [
      "C:\\Users\\heeta\\anaconda3\\lib\\site-packages\\lightgbm\\sklearn.py:726: UserWarning: 'early_stopping_rounds' argument is deprecated and will be removed in a future release of LightGBM. Pass 'early_stopping()' callback via 'callbacks' argument instead.\n",
      "  _log_warning(\"'early_stopping_rounds' argument is deprecated and will be removed in a future release of LightGBM. \"\n",
      "C:\\Users\\heeta\\anaconda3\\lib\\site-packages\\lightgbm\\sklearn.py:736: UserWarning: 'verbose' argument is deprecated and will be removed in a future release of LightGBM. Pass 'log_evaluation()' callback via 'callbacks' argument instead.\n",
      "  _log_warning(\"'verbose' argument is deprecated and will be removed in a future release of LightGBM. \"\n"
     ]
    },
    {
     "name": "stdout",
     "output_type": "stream",
     "text": [
      "[100]\tvalid_0's multi_logloss: 3.60778\n",
      "[200]\tvalid_0's multi_logloss: 3.33605\n",
      "[300]\tvalid_0's multi_logloss: 3.12537\n",
      "[400]\tvalid_0's multi_logloss: 3.09271\n",
      "[500]\tvalid_0's multi_logloss: 3.08916\n",
      "[600]\tvalid_0's multi_logloss: 3.08801\n",
      "[700]\tvalid_0's multi_logloss: 3.08794\n",
      "[800]\tvalid_0's multi_logloss: 3.08757\n",
      "[900]\tvalid_0's multi_logloss: 3.08716\n",
      "[1000]\tvalid_0's multi_logloss: 3.08697\n",
      "\n",
      "#3 교차 검증 정확도 : 0.4426,  학습 데이터 크기 : 5198,  검증 데이터 크기 : 1299\n",
      "#3 검증 세트 인덱스 : [ 707  794  816 ... 5618 5739 5776]\n"
     ]
    },
    {
     "name": "stderr",
     "output_type": "stream",
     "text": [
      "C:\\Users\\heeta\\anaconda3\\lib\\site-packages\\lightgbm\\sklearn.py:726: UserWarning: 'early_stopping_rounds' argument is deprecated and will be removed in a future release of LightGBM. Pass 'early_stopping()' callback via 'callbacks' argument instead.\n",
      "  _log_warning(\"'early_stopping_rounds' argument is deprecated and will be removed in a future release of LightGBM. \"\n",
      "C:\\Users\\heeta\\anaconda3\\lib\\site-packages\\lightgbm\\sklearn.py:736: UserWarning: 'verbose' argument is deprecated and will be removed in a future release of LightGBM. Pass 'log_evaluation()' callback via 'callbacks' argument instead.\n",
      "  _log_warning(\"'verbose' argument is deprecated and will be removed in a future release of LightGBM. \"\n"
     ]
    },
    {
     "name": "stdout",
     "output_type": "stream",
     "text": [
      "[100]\tvalid_0's multi_logloss: 3.67575\n",
      "[200]\tvalid_0's multi_logloss: 3.4139\n",
      "[300]\tvalid_0's multi_logloss: 3.21515\n",
      "[400]\tvalid_0's multi_logloss: 3.17796\n",
      "[500]\tvalid_0's multi_logloss: 3.17086\n",
      "[600]\tvalid_0's multi_logloss: 3.17019\n",
      "\n",
      "#4 교차 검증 정확도 : 0.4296,  학습 데이터 크기 : 5198,  검증 데이터 크기 : 1299\n",
      "#4 검증 세트 인덱스 : [1652 1712 1736 ... 6297 6324 6410]\n"
     ]
    },
    {
     "name": "stderr",
     "output_type": "stream",
     "text": [
      "C:\\Users\\heeta\\anaconda3\\lib\\site-packages\\lightgbm\\sklearn.py:726: UserWarning: 'early_stopping_rounds' argument is deprecated and will be removed in a future release of LightGBM. Pass 'early_stopping()' callback via 'callbacks' argument instead.\n",
      "  _log_warning(\"'early_stopping_rounds' argument is deprecated and will be removed in a future release of LightGBM. \"\n",
      "C:\\Users\\heeta\\anaconda3\\lib\\site-packages\\lightgbm\\sklearn.py:736: UserWarning: 'verbose' argument is deprecated and will be removed in a future release of LightGBM. Pass 'log_evaluation()' callback via 'callbacks' argument instead.\n",
      "  _log_warning(\"'verbose' argument is deprecated and will be removed in a future release of LightGBM. \"\n"
     ]
    },
    {
     "name": "stdout",
     "output_type": "stream",
     "text": [
      "[100]\tvalid_0's multi_logloss: 3.5246\n",
      "[200]\tvalid_0's multi_logloss: 3.23982\n",
      "[300]\tvalid_0's multi_logloss: 3.04741\n",
      "[400]\tvalid_0's multi_logloss: 3.01815\n",
      "[500]\tvalid_0's multi_logloss: 3.01427\n",
      "[600]\tvalid_0's multi_logloss: 3.01254\n",
      "[700]\tvalid_0's multi_logloss: 3.01214\n",
      "[800]\tvalid_0's multi_logloss: 3.01195\n",
      "\n",
      "#5 교차 검증 정확도 : 0.445,  학습 데이터 크기 : 5198,  검증 데이터 크기 : 1299\n",
      "#5 검증 세트 인덱스 : [2562 2782 3029 ... 6494 6495 6496]\n",
      "\n",
      "## 평균 검증 정확도: 0.44714\n"
     ]
    }
   ],
   "source": [
    "kfold = StratifiedKFold(n_splits=5)\n",
    "cv_accuracy = []\n",
    "n_iter = 0\n",
    "\n",
    "for train_index, test_index in kfold.split(tr_val_X, tr_val_y):  # feautres 데이터를 위에서 지정한 kfold 숫자로 분할\n",
    "    x_train, x_test = train_bert_X.iloc[train_index], train_bert_X.iloc[test_index]\n",
    "    y_train, y_test = train_bert_y[train_index], train_bert_y[test_index]\n",
    "    \n",
    "    model_lgbm.fit(x_train, y_train, eval_set=(x_test, y_test), early_stopping_rounds=100, verbose=100)\n",
    "    pred = model_lgbm.predict(x_test)\n",
    "    n_iter += 1\n",
    "    \n",
    "    accuracy = np.round(accuracy_score(y_test, pred), 4) # 소수점 4자리 반올림\n",
    "    train_size = x_train.shape[0]\n",
    "    test_size = x_test.shape[0]\n",
    "    \n",
    "    print('\\n#{0} 교차 검증 정확도 : {1},  학습 데이터 크기 : {2},  검증 데이터 크기 : {3}'\n",
    "          .format(n_iter, accuracy, train_size, test_size))\n",
    "    print('#{0} 검증 세트 인덱스 : {1}'.format(n_iter,test_index))\n",
    "    cv_accuracy.append(accuracy)\n",
    "    \n",
    "print('\\n## 평균 검증 정확도:', np.mean(cv_accuracy))"
   ]
  },
  {
   "cell_type": "code",
   "execution_count": 11,
   "id": "74d1aa6c",
   "metadata": {},
   "outputs": [],
   "source": [
    "test_bert['knowcode'] = model_lgbm.predict(test_bert_X)\n",
    "submission_bert = test_bert[['index', 'knowcode']]\n",
    "submission_bert.to_csv('KNOW_2020_bert_submission.csv')"
   ]
  },
  {
   "cell_type": "code",
   "execution_count": null,
   "id": "d168d294",
   "metadata": {},
   "outputs": [],
   "source": [
    "params = {\n",
    "    'learning_rate': [0.02, 0.1, 0.05],\n",
    "    'max_depth': [6,8]\n",
    "    \n",
    "}\n",
    "\n",
    "gs = GridSearchCV(estimator=model,\n",
    "                  param_grid = params,\n",
    "                  scoring = 'neg_mean_squared_error', \n",
    "                  cv=kfold)"
   ]
  },
  {
   "cell_type": "code",
   "execution_count": null,
   "id": "2fe2b5e1",
   "metadata": {},
   "outputs": [],
   "source": [
    "gs.fit(train_bert_X, train_bert_y)"
   ]
  },
  {
   "cell_type": "code",
   "execution_count": null,
   "id": "f04d1324",
   "metadata": {},
   "outputs": [],
   "source": [
    "print('Hyper Parameter: ', gs.best_params_)"
   ]
  },
  {
   "cell_type": "code",
   "execution_count": null,
   "id": "7061b454",
   "metadata": {},
   "outputs": [],
   "source": [
    "print('cv score with Hyper Parameter', gs.best_score_)"
   ]
  },
  {
   "cell_type": "markdown",
   "id": "f0a84ae5",
   "metadata": {},
   "source": [
    "# simcse"
   ]
  },
  {
   "cell_type": "code",
   "execution_count": 12,
   "id": "c00c86a3",
   "metadata": {
    "scrolled": true
   },
   "outputs": [],
   "source": [
    "train_simcse_X, train_simcse_y = train_simcse.drop(['knowcode', 'index'], axis=1), train_simcse.knowcode\n",
    "test_simcse_X = test_simcse.drop('index', axis=1)"
   ]
  },
  {
   "cell_type": "code",
   "execution_count": 13,
   "id": "3dc99c24",
   "metadata": {},
   "outputs": [],
   "source": [
    "model_lgbm = lgb.LGBMClassifier(n_estimators=1000, max_depth=10, learning_rate=0.02, num_leaves=40)"
   ]
  },
  {
   "cell_type": "code",
   "execution_count": 14,
   "id": "55ea7356",
   "metadata": {},
   "outputs": [],
   "source": [
    "# train/ test data 로 split \n",
    "tr_val_X, test_X, tr_val_y, test_y = train_test_split(\n",
    "    train_simcse_X, \n",
    "    train_simcse_y, \n",
    "    test_size = 0.2, \n",
    "    random_state = 42,\n",
    "    shuffle=True,\n",
    "    stratify = train_simcse_y # Classification 중요 option\n",
    ")"
   ]
  },
  {
   "cell_type": "code",
   "execution_count": 15,
   "id": "7236a14e",
   "metadata": {
    "scrolled": false
   },
   "outputs": [
    {
     "name": "stderr",
     "output_type": "stream",
     "text": [
      "C:\\Users\\heeta\\anaconda3\\lib\\site-packages\\lightgbm\\sklearn.py:726: UserWarning: 'early_stopping_rounds' argument is deprecated and will be removed in a future release of LightGBM. Pass 'early_stopping()' callback via 'callbacks' argument instead.\n",
      "  _log_warning(\"'early_stopping_rounds' argument is deprecated and will be removed in a future release of LightGBM. \"\n",
      "C:\\Users\\heeta\\anaconda3\\lib\\site-packages\\lightgbm\\sklearn.py:736: UserWarning: 'verbose' argument is deprecated and will be removed in a future release of LightGBM. Pass 'log_evaluation()' callback via 'callbacks' argument instead.\n",
      "  _log_warning(\"'verbose' argument is deprecated and will be removed in a future release of LightGBM. \"\n"
     ]
    },
    {
     "name": "stdout",
     "output_type": "stream",
     "text": [
      "[100]\tvalid_0's multi_logloss: 3.37571\n",
      "[200]\tvalid_0's multi_logloss: 3.08595\n",
      "[300]\tvalid_0's multi_logloss: 2.86892\n",
      "[400]\tvalid_0's multi_logloss: 2.84222\n",
      "[500]\tvalid_0's multi_logloss: 2.83727\n",
      "[600]\tvalid_0's multi_logloss: 2.83649\n",
      "[700]\tvalid_0's multi_logloss: 2.83644\n",
      "[800]\tvalid_0's multi_logloss: 2.83642\n",
      "\n",
      "#1 교차 검증 정확도 : 0.4869,  학습 데이터 크기 : 5197,  검증 데이터 크기 : 1300\n",
      "#1 검증 세트 인덱스 : [   0    1    2 ... 3223 3344 3484]\n"
     ]
    },
    {
     "name": "stderr",
     "output_type": "stream",
     "text": [
      "C:\\Users\\heeta\\anaconda3\\lib\\site-packages\\lightgbm\\sklearn.py:726: UserWarning: 'early_stopping_rounds' argument is deprecated and will be removed in a future release of LightGBM. Pass 'early_stopping()' callback via 'callbacks' argument instead.\n",
      "  _log_warning(\"'early_stopping_rounds' argument is deprecated and will be removed in a future release of LightGBM. \"\n",
      "C:\\Users\\heeta\\anaconda3\\lib\\site-packages\\lightgbm\\sklearn.py:736: UserWarning: 'verbose' argument is deprecated and will be removed in a future release of LightGBM. Pass 'log_evaluation()' callback via 'callbacks' argument instead.\n",
      "  _log_warning(\"'verbose' argument is deprecated and will be removed in a future release of LightGBM. \"\n"
     ]
    },
    {
     "name": "stdout",
     "output_type": "stream",
     "text": [
      "[100]\tvalid_0's multi_logloss: 3.3138\n",
      "[200]\tvalid_0's multi_logloss: 2.98644\n",
      "[300]\tvalid_0's multi_logloss: 2.76293\n",
      "[400]\tvalid_0's multi_logloss: 2.74127\n",
      "[500]\tvalid_0's multi_logloss: 2.74076\n",
      "\n",
      "#2 교차 검증 정확도 : 0.4877,  학습 데이터 크기 : 5197,  검증 데이터 크기 : 1300\n",
      "#2 검증 세트 인덱스 : [ 252  285  316 ... 4688 4832 4867]\n"
     ]
    },
    {
     "name": "stderr",
     "output_type": "stream",
     "text": [
      "C:\\Users\\heeta\\anaconda3\\lib\\site-packages\\lightgbm\\sklearn.py:726: UserWarning: 'early_stopping_rounds' argument is deprecated and will be removed in a future release of LightGBM. Pass 'early_stopping()' callback via 'callbacks' argument instead.\n",
      "  _log_warning(\"'early_stopping_rounds' argument is deprecated and will be removed in a future release of LightGBM. \"\n",
      "C:\\Users\\heeta\\anaconda3\\lib\\site-packages\\lightgbm\\sklearn.py:736: UserWarning: 'verbose' argument is deprecated and will be removed in a future release of LightGBM. Pass 'log_evaluation()' callback via 'callbacks' argument instead.\n",
      "  _log_warning(\"'verbose' argument is deprecated and will be removed in a future release of LightGBM. \"\n"
     ]
    },
    {
     "name": "stdout",
     "output_type": "stream",
     "text": [
      "[100]\tvalid_0's multi_logloss: 3.46387\n",
      "[200]\tvalid_0's multi_logloss: 3.17142\n",
      "[300]\tvalid_0's multi_logloss: 2.95773\n",
      "[400]\tvalid_0's multi_logloss: 2.93566\n",
      "[500]\tvalid_0's multi_logloss: 2.93381\n",
      "[600]\tvalid_0's multi_logloss: 2.93278\n",
      "[700]\tvalid_0's multi_logloss: 2.93226\n",
      "[800]\tvalid_0's multi_logloss: 2.93199\n",
      "\n",
      "#3 교차 검증 정확도 : 0.4604,  학습 데이터 크기 : 5198,  검증 데이터 크기 : 1299\n",
      "#3 검증 세트 인덱스 : [ 707  794  816 ... 5618 5739 5776]\n"
     ]
    },
    {
     "name": "stderr",
     "output_type": "stream",
     "text": [
      "C:\\Users\\heeta\\anaconda3\\lib\\site-packages\\lightgbm\\sklearn.py:726: UserWarning: 'early_stopping_rounds' argument is deprecated and will be removed in a future release of LightGBM. Pass 'early_stopping()' callback via 'callbacks' argument instead.\n",
      "  _log_warning(\"'early_stopping_rounds' argument is deprecated and will be removed in a future release of LightGBM. \"\n",
      "C:\\Users\\heeta\\anaconda3\\lib\\site-packages\\lightgbm\\sklearn.py:736: UserWarning: 'verbose' argument is deprecated and will be removed in a future release of LightGBM. Pass 'log_evaluation()' callback via 'callbacks' argument instead.\n",
      "  _log_warning(\"'verbose' argument is deprecated and will be removed in a future release of LightGBM. \"\n"
     ]
    },
    {
     "name": "stdout",
     "output_type": "stream",
     "text": [
      "[100]\tvalid_0's multi_logloss: 3.46018\n",
      "[200]\tvalid_0's multi_logloss: 3.1766\n",
      "[300]\tvalid_0's multi_logloss: 2.96085\n",
      "[400]\tvalid_0's multi_logloss: 2.93143\n",
      "[500]\tvalid_0's multi_logloss: 2.92878\n",
      "[600]\tvalid_0's multi_logloss: 2.9276\n",
      "[700]\tvalid_0's multi_logloss: 2.92734\n",
      "[800]\tvalid_0's multi_logloss: 2.92732\n",
      "\n",
      "#4 교차 검증 정확도 : 0.465,  학습 데이터 크기 : 5198,  검증 데이터 크기 : 1299\n",
      "#4 검증 세트 인덱스 : [1652 1712 1736 ... 6297 6324 6410]\n"
     ]
    },
    {
     "name": "stderr",
     "output_type": "stream",
     "text": [
      "C:\\Users\\heeta\\anaconda3\\lib\\site-packages\\lightgbm\\sklearn.py:726: UserWarning: 'early_stopping_rounds' argument is deprecated and will be removed in a future release of LightGBM. Pass 'early_stopping()' callback via 'callbacks' argument instead.\n",
      "  _log_warning(\"'early_stopping_rounds' argument is deprecated and will be removed in a future release of LightGBM. \"\n",
      "C:\\Users\\heeta\\anaconda3\\lib\\site-packages\\lightgbm\\sklearn.py:736: UserWarning: 'verbose' argument is deprecated and will be removed in a future release of LightGBM. Pass 'log_evaluation()' callback via 'callbacks' argument instead.\n",
      "  _log_warning(\"'verbose' argument is deprecated and will be removed in a future release of LightGBM. \"\n"
     ]
    },
    {
     "name": "stdout",
     "output_type": "stream",
     "text": [
      "[100]\tvalid_0's multi_logloss: 3.37347\n",
      "[200]\tvalid_0's multi_logloss: 3.06999\n",
      "[300]\tvalid_0's multi_logloss: 2.86462\n",
      "[400]\tvalid_0's multi_logloss: 2.84537\n",
      "[500]\tvalid_0's multi_logloss: 2.84126\n",
      "[600]\tvalid_0's multi_logloss: 2.84129\n",
      "\n",
      "#5 교차 검증 정확도 : 0.4942,  학습 데이터 크기 : 5198,  검증 데이터 크기 : 1299\n",
      "#5 검증 세트 인덱스 : [2562 2782 3029 ... 6494 6495 6496]\n",
      "\n",
      "## 평균 검증 정확도: 0.47884000000000004\n"
     ]
    }
   ],
   "source": [
    "kfold = StratifiedKFold(n_splits=5)\n",
    "cv_accuracy = []\n",
    "n_iter = 0\n",
    "\n",
    "for train_index, test_index in kfold.split(tr_val_X, tr_val_y):  # feautres 데이터를 위에서 지정한 kfold 숫자로 분할\n",
    "    x_train, x_test = train_simcse_X.iloc[train_index], train_simcse_X.iloc[test_index]\n",
    "    y_train, y_test = train_simcse_y[train_index], train_simcse_y[test_index]\n",
    "    \n",
    "    model_lgbm.fit(x_train, y_train, eval_set=(x_test, y_test), early_stopping_rounds=100, verbose=100)\n",
    "    pred = model_lgbm.predict(x_test)\n",
    "    n_iter += 1\n",
    "    \n",
    "    accuracy = np.round(accuracy_score(y_test, pred), 4) # 소수점 4자리 반올림\n",
    "    train_size = x_train.shape[0]\n",
    "    test_size = x_test.shape[0]\n",
    "    \n",
    "    print('\\n#{0} 교차 검증 정확도 : {1},  학습 데이터 크기 : {2},  검증 데이터 크기 : {3}'\n",
    "          .format(n_iter, accuracy, train_size, test_size))\n",
    "    print('#{0} 검증 세트 인덱스 : {1}'.format(n_iter,test_index))\n",
    "    cv_accuracy.append(accuracy)\n",
    "    \n",
    "print('\\n## 평균 검증 정확도:', np.mean(cv_accuracy))"
   ]
  },
  {
   "cell_type": "code",
   "execution_count": 16,
   "id": "c78c4dc1",
   "metadata": {},
   "outputs": [],
   "source": [
    "test_simcse['knowcode'] = model_lgbm.predict(test_simcse_X)\n",
    "submission_simcse = test_simcse[['index', 'knowcode']]\n",
    "submission_simcse.to_csv('KNOW_2020_simcse_submission.csv')"
   ]
  },
  {
   "cell_type": "code",
   "execution_count": null,
   "id": "281e9229",
   "metadata": {},
   "outputs": [],
   "source": [
    "params = {\n",
    "    'learning_rate': [0.02, 0.1, 0.05],\n",
    "    'max_depth': [6,8]\n",
    "    \n",
    "}\n",
    "\n",
    "gs = GridSearchCV(estimator=model,\n",
    "                  param_grid = params,\n",
    "                  scoring = 'neg_mean_squared_error', \n",
    "                  cv=kfold)"
   ]
  },
  {
   "cell_type": "code",
   "execution_count": null,
   "id": "88a1c69a",
   "metadata": {},
   "outputs": [],
   "source": [
    "gs.fit(train_simcse_X, train_simcse_y)"
   ]
  },
  {
   "cell_type": "code",
   "execution_count": null,
   "id": "c2460ca2",
   "metadata": {},
   "outputs": [],
   "source": [
    "print('Hyper Parameter: ', gs.best_params_)"
   ]
  },
  {
   "cell_type": "code",
   "execution_count": null,
   "id": "ff20d562",
   "metadata": {},
   "outputs": [],
   "source": [
    "print('cv score with Hyper Parameter', gs.best_score_)"
   ]
  },
  {
   "cell_type": "markdown",
   "id": "f091dc16",
   "metadata": {},
   "source": [
    "# tf_idf"
   ]
  },
  {
   "cell_type": "code",
   "execution_count": 17,
   "id": "75b57f7f",
   "metadata": {
    "scrolled": true
   },
   "outputs": [],
   "source": [
    "tf_idf_without_knowcode = train_tf_idf.drop(columns=['knowcode'], inplace=False)"
   ]
  },
  {
   "cell_type": "code",
   "execution_count": 18,
   "id": "0b5d680f",
   "metadata": {},
   "outputs": [],
   "source": [
    "test_tf_idf = test_tf_idf[tf_idf_without_knowcode.columns]"
   ]
  },
  {
   "cell_type": "code",
   "execution_count": 19,
   "id": "a16dbf50",
   "metadata": {},
   "outputs": [],
   "source": [
    "train_tf_idf_X, train_tf_idf_y = train_tf_idf.drop(['knowcode', 'index'], axis=1), train_tf_idf.knowcode\n",
    "test_tf_idf_X = test_tf_idf.drop('index', axis=1)"
   ]
  },
  {
   "cell_type": "code",
   "execution_count": 20,
   "id": "d13ea636",
   "metadata": {},
   "outputs": [],
   "source": [
    "model_lgbm = lgb.LGBMClassifier(n_estimators=1000, learning_rate=0.02, max_depth=8)"
   ]
  },
  {
   "cell_type": "code",
   "execution_count": 21,
   "id": "67f65180",
   "metadata": {},
   "outputs": [],
   "source": [
    "# train/ test data 로 split \n",
    "tr_val_X, test_X, tr_val_y, test_y = train_test_split(\n",
    "    train_tf_idf_X, \n",
    "    train_tf_idf_y, \n",
    "    test_size = 0.2, \n",
    "    random_state = 42,\n",
    "    shuffle=True,\n",
    "    stratify = train_tf_idf_y # Classification 중요 option\n",
    ")"
   ]
  },
  {
   "cell_type": "code",
   "execution_count": 22,
   "id": "bea8fa9b",
   "metadata": {
    "scrolled": true
   },
   "outputs": [
    {
     "name": "stderr",
     "output_type": "stream",
     "text": [
      "C:\\Users\\heeta\\anaconda3\\lib\\site-packages\\lightgbm\\sklearn.py:726: UserWarning: 'early_stopping_rounds' argument is deprecated and will be removed in a future release of LightGBM. Pass 'early_stopping()' callback via 'callbacks' argument instead.\n",
      "  _log_warning(\"'early_stopping_rounds' argument is deprecated and will be removed in a future release of LightGBM. \"\n",
      "C:\\Users\\heeta\\anaconda3\\lib\\site-packages\\lightgbm\\sklearn.py:736: UserWarning: 'verbose' argument is deprecated and will be removed in a future release of LightGBM. Pass 'log_evaluation()' callback via 'callbacks' argument instead.\n",
      "  _log_warning(\"'verbose' argument is deprecated and will be removed in a future release of LightGBM. \"\n"
     ]
    },
    {
     "name": "stdout",
     "output_type": "stream",
     "text": [
      "[100]\tvalid_0's multi_logloss: 3.56019\n",
      "[200]\tvalid_0's multi_logloss: 3.28167\n",
      "[300]\tvalid_0's multi_logloss: 3.05809\n",
      "[400]\tvalid_0's multi_logloss: 2.99258\n",
      "[500]\tvalid_0's multi_logloss: 2.97917\n",
      "[600]\tvalid_0's multi_logloss: 2.97342\n",
      "[700]\tvalid_0's multi_logloss: 2.97006\n",
      "[800]\tvalid_0's multi_logloss: 2.96777\n",
      "[900]\tvalid_0's multi_logloss: 2.96678\n",
      "[1000]\tvalid_0's multi_logloss: 2.96628\n",
      "\n",
      "#1 교차 검증 정확도 : 0.4415,  학습 데이터 크기 : 5197,  검증 데이터 크기 : 1300\n",
      "#1 검증 세트 인덱스 : [   0    1    2 ... 3223 3344 3484]\n"
     ]
    },
    {
     "name": "stderr",
     "output_type": "stream",
     "text": [
      "C:\\Users\\heeta\\anaconda3\\lib\\site-packages\\lightgbm\\sklearn.py:726: UserWarning: 'early_stopping_rounds' argument is deprecated and will be removed in a future release of LightGBM. Pass 'early_stopping()' callback via 'callbacks' argument instead.\n",
      "  _log_warning(\"'early_stopping_rounds' argument is deprecated and will be removed in a future release of LightGBM. \"\n",
      "C:\\Users\\heeta\\anaconda3\\lib\\site-packages\\lightgbm\\sklearn.py:736: UserWarning: 'verbose' argument is deprecated and will be removed in a future release of LightGBM. Pass 'log_evaluation()' callback via 'callbacks' argument instead.\n",
      "  _log_warning(\"'verbose' argument is deprecated and will be removed in a future release of LightGBM. \"\n"
     ]
    },
    {
     "name": "stdout",
     "output_type": "stream",
     "text": [
      "[100]\tvalid_0's multi_logloss: 3.50568\n",
      "[200]\tvalid_0's multi_logloss: 3.23215\n",
      "[300]\tvalid_0's multi_logloss: 3.04795\n",
      "[400]\tvalid_0's multi_logloss: 3.00965\n",
      "[500]\tvalid_0's multi_logloss: 3.00711\n",
      "[600]\tvalid_0's multi_logloss: 3.00397\n",
      "[700]\tvalid_0's multi_logloss: 3.00335\n",
      "[800]\tvalid_0's multi_logloss: 3.00265\n",
      "[900]\tvalid_0's multi_logloss: 3.00229\n",
      "[1000]\tvalid_0's multi_logloss: 3.00225\n",
      "\n",
      "#2 교차 검증 정확도 : 0.4492,  학습 데이터 크기 : 5197,  검증 데이터 크기 : 1300\n",
      "#2 검증 세트 인덱스 : [ 252  285  316 ... 4688 4832 4867]\n"
     ]
    },
    {
     "name": "stderr",
     "output_type": "stream",
     "text": [
      "C:\\Users\\heeta\\anaconda3\\lib\\site-packages\\lightgbm\\sklearn.py:726: UserWarning: 'early_stopping_rounds' argument is deprecated and will be removed in a future release of LightGBM. Pass 'early_stopping()' callback via 'callbacks' argument instead.\n",
      "  _log_warning(\"'early_stopping_rounds' argument is deprecated and will be removed in a future release of LightGBM. \"\n",
      "C:\\Users\\heeta\\anaconda3\\lib\\site-packages\\lightgbm\\sklearn.py:736: UserWarning: 'verbose' argument is deprecated and will be removed in a future release of LightGBM. Pass 'log_evaluation()' callback via 'callbacks' argument instead.\n",
      "  _log_warning(\"'verbose' argument is deprecated and will be removed in a future release of LightGBM. \"\n"
     ]
    },
    {
     "name": "stdout",
     "output_type": "stream",
     "text": [
      "[100]\tvalid_0's multi_logloss: 3.61992\n",
      "[200]\tvalid_0's multi_logloss: 3.35689\n",
      "[300]\tvalid_0's multi_logloss: 3.15373\n",
      "[400]\tvalid_0's multi_logloss: 3.10645\n",
      "[500]\tvalid_0's multi_logloss: 3.09871\n",
      "[600]\tvalid_0's multi_logloss: 3.09365\n",
      "[700]\tvalid_0's multi_logloss: 3.09213\n",
      "[800]\tvalid_0's multi_logloss: 3.09112\n",
      "[900]\tvalid_0's multi_logloss: 3.0909\n",
      "\n",
      "#3 교차 검증 정확도 : 0.4296,  학습 데이터 크기 : 5198,  검증 데이터 크기 : 1299\n",
      "#3 검증 세트 인덱스 : [ 707  794  816 ... 5618 5739 5776]\n"
     ]
    },
    {
     "name": "stderr",
     "output_type": "stream",
     "text": [
      "C:\\Users\\heeta\\anaconda3\\lib\\site-packages\\lightgbm\\sklearn.py:726: UserWarning: 'early_stopping_rounds' argument is deprecated and will be removed in a future release of LightGBM. Pass 'early_stopping()' callback via 'callbacks' argument instead.\n",
      "  _log_warning(\"'early_stopping_rounds' argument is deprecated and will be removed in a future release of LightGBM. \"\n",
      "C:\\Users\\heeta\\anaconda3\\lib\\site-packages\\lightgbm\\sklearn.py:736: UserWarning: 'verbose' argument is deprecated and will be removed in a future release of LightGBM. Pass 'log_evaluation()' callback via 'callbacks' argument instead.\n",
      "  _log_warning(\"'verbose' argument is deprecated and will be removed in a future release of LightGBM. \"\n"
     ]
    },
    {
     "name": "stdout",
     "output_type": "stream",
     "text": [
      "[100]\tvalid_0's multi_logloss: 3.5801\n",
      "[200]\tvalid_0's multi_logloss: 3.34158\n",
      "[300]\tvalid_0's multi_logloss: 3.16024\n",
      "[400]\tvalid_0's multi_logloss: 3.11224\n",
      "[500]\tvalid_0's multi_logloss: 3.09966\n",
      "[600]\tvalid_0's multi_logloss: 3.09412\n",
      "[700]\tvalid_0's multi_logloss: 3.0917\n",
      "[800]\tvalid_0's multi_logloss: 3.08995\n",
      "[900]\tvalid_0's multi_logloss: 3.0891\n",
      "[1000]\tvalid_0's multi_logloss: 3.08852\n",
      "\n",
      "#4 교차 검증 정확도 : 0.4326,  학습 데이터 크기 : 5198,  검증 데이터 크기 : 1299\n",
      "#4 검증 세트 인덱스 : [1652 1712 1736 ... 6297 6324 6410]\n"
     ]
    },
    {
     "name": "stderr",
     "output_type": "stream",
     "text": [
      "C:\\Users\\heeta\\anaconda3\\lib\\site-packages\\lightgbm\\sklearn.py:726: UserWarning: 'early_stopping_rounds' argument is deprecated and will be removed in a future release of LightGBM. Pass 'early_stopping()' callback via 'callbacks' argument instead.\n",
      "  _log_warning(\"'early_stopping_rounds' argument is deprecated and will be removed in a future release of LightGBM. \"\n",
      "C:\\Users\\heeta\\anaconda3\\lib\\site-packages\\lightgbm\\sklearn.py:736: UserWarning: 'verbose' argument is deprecated and will be removed in a future release of LightGBM. Pass 'log_evaluation()' callback via 'callbacks' argument instead.\n",
      "  _log_warning(\"'verbose' argument is deprecated and will be removed in a future release of LightGBM. \"\n"
     ]
    },
    {
     "name": "stdout",
     "output_type": "stream",
     "text": [
      "[100]\tvalid_0's multi_logloss: 3.47618\n",
      "[200]\tvalid_0's multi_logloss: 3.20046\n",
      "[300]\tvalid_0's multi_logloss: 3.01368\n",
      "[400]\tvalid_0's multi_logloss: 2.97131\n",
      "[500]\tvalid_0's multi_logloss: 2.96145\n",
      "[600]\tvalid_0's multi_logloss: 2.95855\n",
      "[700]\tvalid_0's multi_logloss: 2.95606\n",
      "[800]\tvalid_0's multi_logloss: 2.95441\n",
      "[900]\tvalid_0's multi_logloss: 2.95411\n",
      "[1000]\tvalid_0's multi_logloss: 2.95372\n",
      "\n",
      "#5 교차 검증 정확도 : 0.4488,  학습 데이터 크기 : 5198,  검증 데이터 크기 : 1299\n",
      "#5 검증 세트 인덱스 : [2562 2782 3029 ... 6494 6495 6496]\n",
      "\n",
      "## 평균 검증 정확도: 0.44033999999999995\n"
     ]
    }
   ],
   "source": [
    "kfold = StratifiedKFold(n_splits=5)\n",
    "cv_accuracy = []\n",
    "n_iter = 0\n",
    "\n",
    "for train_index, test_index in kfold.split(tr_val_X, tr_val_y):  # feautres 데이터를 위에서 지정한 kfold 숫자로 분할\n",
    "    x_train, x_test = train_tf_idf_X.iloc[train_index], train_tf_idf_X.iloc[test_index]\n",
    "    y_train, y_test = train_tf_idf_y[train_index], train_tf_idf_y[test_index]\n",
    "    \n",
    "    model_lgbm.fit(x_train, y_train, eval_set=(x_test, y_test), early_stopping_rounds=100, verbose=100)\n",
    "    pred = model_lgbm.predict(x_test)\n",
    "    n_iter += 1\n",
    "    \n",
    "    accuracy = np.round(accuracy_score(y_test, pred), 4) # 소수점 4자리 반올림\n",
    "    train_size = x_train.shape[0]\n",
    "    test_size = x_test.shape[0]\n",
    "    \n",
    "    print('\\n#{0} 교차 검증 정확도 : {1},  학습 데이터 크기 : {2},  검증 데이터 크기 : {3}'\n",
    "          .format(n_iter, accuracy, train_size, test_size))\n",
    "    print('#{0} 검증 세트 인덱스 : {1}'.format(n_iter,test_index))\n",
    "    cv_accuracy.append(accuracy)\n",
    "    \n",
    "print('\\n## 평균 검증 정확도:', np.mean(cv_accuracy))"
   ]
  },
  {
   "cell_type": "code",
   "execution_count": 26,
   "id": "5367df2c",
   "metadata": {},
   "outputs": [],
   "source": [
    "test_tf_idf['knowcode'] = model_lgbm.predict(test_tf_idf_X)\n",
    "submission_tf_idf = test_tf_idf[['index', 'knowcode']]\n",
    "submission_tf_idf.to_csv('KNOW_2020_tfidf_submission.csv')"
   ]
  },
  {
   "cell_type": "code",
   "execution_count": null,
   "id": "d168d294",
   "metadata": {},
   "outputs": [],
   "source": [
    "params = {\n",
    "    'learning_rate': [0.02, 0.1, 0.05],\n",
    "    'max_depth': [6,8]\n",
    "    \n",
    "}\n",
    "\n",
    "gs = GridSearchCV(estimator=model,\n",
    "                  param_grid = params,\n",
    "                  scoring = 'neg_mean_squared_error', \n",
    "                  cv=kfold)"
   ]
  },
  {
   "cell_type": "code",
   "execution_count": null,
   "id": "2fe2b5e1",
   "metadata": {},
   "outputs": [],
   "source": [
    "gs.fit(train_tf_idf_X, train_tf_idf_y)"
   ]
  },
  {
   "cell_type": "code",
   "execution_count": null,
   "id": "f04d1324",
   "metadata": {},
   "outputs": [],
   "source": [
    "print('Hyper Parameter: ', gs.best_params_)"
   ]
  },
  {
   "cell_type": "code",
   "execution_count": null,
   "id": "7061b454",
   "metadata": {},
   "outputs": [],
   "source": [
    "print('cv score with Hyper Parameter', gs.best_score_)"
   ]
  },
  {
   "cell_type": "markdown",
   "id": "d552c91a",
   "metadata": {},
   "source": [
    "# no_text"
   ]
  },
  {
   "cell_type": "code",
   "execution_count": 27,
   "id": "1538efd5",
   "metadata": {},
   "outputs": [],
   "source": [
    "train_no_text_X, train_no_text_y = train_no_text.drop(['knowcode', 'index'], axis=1), train_no_text.knowcode\n",
    "test_no_text_X = test_no_text.drop('index', axis=1)"
   ]
  },
  {
   "cell_type": "code",
   "execution_count": 28,
   "id": "d38d6d24",
   "metadata": {},
   "outputs": [],
   "source": [
    "#하이퍼파라미터 없이, 지금은 임의로 넣어둠\n",
    "model_lgbm = lgb.LGBMClassifier(n_estimators=1000, max_depth=6, learning_rate=0.01)"
   ]
  },
  {
   "cell_type": "code",
   "execution_count": 29,
   "id": "fe036ae2",
   "metadata": {},
   "outputs": [],
   "source": [
    "# train/ test data 로 split \n",
    "tr_val_X, test_X, tr_val_y, test_y = train_test_split(\n",
    "    train_no_text_X, \n",
    "    train_no_text_y, \n",
    "    test_size = 0.2, \n",
    "    random_state = 42,\n",
    "    shuffle=True,\n",
    "    stratify = train_no_text_y # Classification 중요 option\n",
    ")"
   ]
  },
  {
   "cell_type": "code",
   "execution_count": 30,
   "id": "63b14098",
   "metadata": {
    "scrolled": true
   },
   "outputs": [
    {
     "name": "stderr",
     "output_type": "stream",
     "text": [
      "C:\\Users\\heeta\\anaconda3\\lib\\site-packages\\lightgbm\\sklearn.py:726: UserWarning: 'early_stopping_rounds' argument is deprecated and will be removed in a future release of LightGBM. Pass 'early_stopping()' callback via 'callbacks' argument instead.\n",
      "  _log_warning(\"'early_stopping_rounds' argument is deprecated and will be removed in a future release of LightGBM. \"\n",
      "C:\\Users\\heeta\\anaconda3\\lib\\site-packages\\lightgbm\\sklearn.py:736: UserWarning: 'verbose' argument is deprecated and will be removed in a future release of LightGBM. Pass 'log_evaluation()' callback via 'callbacks' argument instead.\n",
      "  _log_warning(\"'verbose' argument is deprecated and will be removed in a future release of LightGBM. \"\n"
     ]
    },
    {
     "name": "stdout",
     "output_type": "stream",
     "text": [
      "[100]\tvalid_0's multi_logloss: 4.37409\n",
      "[200]\tvalid_0's multi_logloss: 4.02285\n",
      "[300]\tvalid_0's multi_logloss: 3.85718\n",
      "[400]\tvalid_0's multi_logloss: 3.77714\n",
      "[500]\tvalid_0's multi_logloss: 3.6879\n",
      "[600]\tvalid_0's multi_logloss: 3.60098\n",
      "[700]\tvalid_0's multi_logloss: 3.55831\n",
      "[800]\tvalid_0's multi_logloss: 3.53329\n",
      "[900]\tvalid_0's multi_logloss: 3.51858\n",
      "[1000]\tvalid_0's multi_logloss: 3.51199\n",
      "\n",
      "#1 교차 검증 정확도 : 0.3546,  학습 데이터 크기 : 5197,  검증 데이터 크기 : 1300\n",
      "#1 검증 세트 인덱스 : [   0    1    2 ... 3223 3344 3484]\n"
     ]
    },
    {
     "name": "stderr",
     "output_type": "stream",
     "text": [
      "C:\\Users\\heeta\\anaconda3\\lib\\site-packages\\lightgbm\\sklearn.py:726: UserWarning: 'early_stopping_rounds' argument is deprecated and will be removed in a future release of LightGBM. Pass 'early_stopping()' callback via 'callbacks' argument instead.\n",
      "  _log_warning(\"'early_stopping_rounds' argument is deprecated and will be removed in a future release of LightGBM. \"\n",
      "C:\\Users\\heeta\\anaconda3\\lib\\site-packages\\lightgbm\\sklearn.py:736: UserWarning: 'verbose' argument is deprecated and will be removed in a future release of LightGBM. Pass 'log_evaluation()' callback via 'callbacks' argument instead.\n",
      "  _log_warning(\"'verbose' argument is deprecated and will be removed in a future release of LightGBM. \"\n"
     ]
    },
    {
     "name": "stdout",
     "output_type": "stream",
     "text": [
      "[100]\tvalid_0's multi_logloss: 4.2172\n",
      "[200]\tvalid_0's multi_logloss: 3.85313\n",
      "[300]\tvalid_0's multi_logloss: 3.67781\n",
      "[400]\tvalid_0's multi_logloss: 3.601\n",
      "[500]\tvalid_0's multi_logloss: 3.53148\n",
      "[600]\tvalid_0's multi_logloss: 3.47404\n",
      "[700]\tvalid_0's multi_logloss: 3.44667\n",
      "[800]\tvalid_0's multi_logloss: 3.43466\n",
      "[900]\tvalid_0's multi_logloss: 3.43059\n",
      "[1000]\tvalid_0's multi_logloss: 3.42833\n",
      "\n",
      "#2 교차 검증 정확도 : 0.3846,  학습 데이터 크기 : 5197,  검증 데이터 크기 : 1300\n",
      "#2 검증 세트 인덱스 : [ 252  285  316 ... 4688 4832 4867]\n"
     ]
    },
    {
     "name": "stderr",
     "output_type": "stream",
     "text": [
      "C:\\Users\\heeta\\anaconda3\\lib\\site-packages\\lightgbm\\sklearn.py:726: UserWarning: 'early_stopping_rounds' argument is deprecated and will be removed in a future release of LightGBM. Pass 'early_stopping()' callback via 'callbacks' argument instead.\n",
      "  _log_warning(\"'early_stopping_rounds' argument is deprecated and will be removed in a future release of LightGBM. \"\n",
      "C:\\Users\\heeta\\anaconda3\\lib\\site-packages\\lightgbm\\sklearn.py:736: UserWarning: 'verbose' argument is deprecated and will be removed in a future release of LightGBM. Pass 'log_evaluation()' callback via 'callbacks' argument instead.\n",
      "  _log_warning(\"'verbose' argument is deprecated and will be removed in a future release of LightGBM. \"\n"
     ]
    },
    {
     "name": "stdout",
     "output_type": "stream",
     "text": [
      "[100]\tvalid_0's multi_logloss: 4.30519\n",
      "[200]\tvalid_0's multi_logloss: 3.93699\n",
      "[300]\tvalid_0's multi_logloss: 3.74195\n",
      "[400]\tvalid_0's multi_logloss: 3.64855\n",
      "[500]\tvalid_0's multi_logloss: 3.55839\n",
      "[600]\tvalid_0's multi_logloss: 3.47808\n",
      "[700]\tvalid_0's multi_logloss: 3.44217\n",
      "[800]\tvalid_0's multi_logloss: 3.4293\n",
      "[900]\tvalid_0's multi_logloss: 3.42406\n",
      "[1000]\tvalid_0's multi_logloss: 3.41854\n",
      "\n",
      "#3 교차 검증 정확도 : 0.3811,  학습 데이터 크기 : 5198,  검증 데이터 크기 : 1299\n",
      "#3 검증 세트 인덱스 : [ 707  794  816 ... 5618 5739 5776]\n"
     ]
    },
    {
     "name": "stderr",
     "output_type": "stream",
     "text": [
      "C:\\Users\\heeta\\anaconda3\\lib\\site-packages\\lightgbm\\sklearn.py:726: UserWarning: 'early_stopping_rounds' argument is deprecated and will be removed in a future release of LightGBM. Pass 'early_stopping()' callback via 'callbacks' argument instead.\n",
      "  _log_warning(\"'early_stopping_rounds' argument is deprecated and will be removed in a future release of LightGBM. \"\n",
      "C:\\Users\\heeta\\anaconda3\\lib\\site-packages\\lightgbm\\sklearn.py:736: UserWarning: 'verbose' argument is deprecated and will be removed in a future release of LightGBM. Pass 'log_evaluation()' callback via 'callbacks' argument instead.\n",
      "  _log_warning(\"'verbose' argument is deprecated and will be removed in a future release of LightGBM. \"\n"
     ]
    },
    {
     "name": "stdout",
     "output_type": "stream",
     "text": [
      "[100]\tvalid_0's multi_logloss: 4.34438\n",
      "[200]\tvalid_0's multi_logloss: 3.98138\n",
      "[300]\tvalid_0's multi_logloss: 3.80397\n",
      "[400]\tvalid_0's multi_logloss: 3.72689\n",
      "[500]\tvalid_0's multi_logloss: 3.64249\n",
      "[600]\tvalid_0's multi_logloss: 3.57384\n",
      "[700]\tvalid_0's multi_logloss: 3.54308\n",
      "[800]\tvalid_0's multi_logloss: 3.52596\n",
      "[900]\tvalid_0's multi_logloss: 3.51396\n",
      "[1000]\tvalid_0's multi_logloss: 3.50682\n",
      "\n",
      "#4 교차 검증 정확도 : 0.3557,  학습 데이터 크기 : 5198,  검증 데이터 크기 : 1299\n",
      "#4 검증 세트 인덱스 : [1652 1712 1736 ... 6297 6324 6410]\n"
     ]
    },
    {
     "name": "stderr",
     "output_type": "stream",
     "text": [
      "C:\\Users\\heeta\\anaconda3\\lib\\site-packages\\lightgbm\\sklearn.py:726: UserWarning: 'early_stopping_rounds' argument is deprecated and will be removed in a future release of LightGBM. Pass 'early_stopping()' callback via 'callbacks' argument instead.\n",
      "  _log_warning(\"'early_stopping_rounds' argument is deprecated and will be removed in a future release of LightGBM. \"\n",
      "C:\\Users\\heeta\\anaconda3\\lib\\site-packages\\lightgbm\\sklearn.py:736: UserWarning: 'verbose' argument is deprecated and will be removed in a future release of LightGBM. Pass 'log_evaluation()' callback via 'callbacks' argument instead.\n",
      "  _log_warning(\"'verbose' argument is deprecated and will be removed in a future release of LightGBM. \"\n"
     ]
    },
    {
     "name": "stdout",
     "output_type": "stream",
     "text": [
      "[100]\tvalid_0's multi_logloss: 4.33504\n",
      "[200]\tvalid_0's multi_logloss: 3.97198\n",
      "[300]\tvalid_0's multi_logloss: 3.77654\n",
      "[400]\tvalid_0's multi_logloss: 3.69381\n",
      "[500]\tvalid_0's multi_logloss: 3.60389\n",
      "[600]\tvalid_0's multi_logloss: 3.53805\n",
      "[700]\tvalid_0's multi_logloss: 3.5057\n",
      "[800]\tvalid_0's multi_logloss: 3.49213\n",
      "[900]\tvalid_0's multi_logloss: 3.48625\n",
      "[1000]\tvalid_0's multi_logloss: 3.48206\n",
      "\n",
      "#5 교차 검증 정확도 : 0.3657,  학습 데이터 크기 : 5198,  검증 데이터 크기 : 1299\n",
      "#5 검증 세트 인덱스 : [2562 2782 3029 ... 6494 6495 6496]\n",
      "\n",
      "## 평균 검증 정확도: 0.36834\n"
     ]
    }
   ],
   "source": [
    "#without hyperparameter\n",
    "kfold = StratifiedKFold(n_splits=5)\n",
    "cv_accuracy = []\n",
    "n_iter = 0\n",
    "\n",
    "for train_index, test_index in kfold.split(tr_val_X, tr_val_y):  # feautres 데이터를 위에서 지정한 kfold 숫자로 분할\n",
    "    x_train, x_test = train_no_text_X.iloc[train_index], train_no_text_X.iloc[test_index]\n",
    "    y_train, y_test = train_no_text_y[train_index], train_no_text_y[test_index]\n",
    "    \n",
    "    model_lgbm.fit(x_train, y_train, eval_set=(x_test, y_test), early_stopping_rounds=100, verbose=100)\n",
    "    pred = model_lgbm.predict(x_test)\n",
    "    n_iter += 1\n",
    "    \n",
    "    accuracy = np.round(accuracy_score(y_test, pred), 4) # 소수점 4자리 반올림\n",
    "    train_size = x_train.shape[0]\n",
    "    test_size = x_test.shape[0]\n",
    "    \n",
    "    print('\\n#{0} 교차 검증 정확도 : {1},  학습 데이터 크기 : {2},  검증 데이터 크기 : {3}'\n",
    "          .format(n_iter, accuracy, train_size, test_size))\n",
    "    print('#{0} 검증 세트 인덱스 : {1}'.format(n_iter,test_index))\n",
    "    cv_accuracy.append(accuracy)\n",
    "    \n",
    "print('\\n## 평균 검증 정확도:', np.mean(cv_accuracy))"
   ]
  },
  {
   "cell_type": "code",
   "execution_count": 31,
   "id": "fd3c7d78",
   "metadata": {},
   "outputs": [],
   "source": [
    "test_no_text['knowcode'] = model_lgbm.predict(test_no_text_X)\n",
    "submission_no_text = test_no_text[['index', 'knowcode']]\n",
    "submission_no_text.to_csv('KNOW_2020_no_text_submission.csv')"
   ]
  },
  {
   "cell_type": "code",
   "execution_count": null,
   "id": "d168d294",
   "metadata": {},
   "outputs": [],
   "source": [
    "params = {\n",
    "    'learning_rate': [0.02, 0.1, 0.05],\n",
    "    'max_depth': [6,8]\n",
    "    \n",
    "}\n",
    "\n",
    "gs = GridSearchCV(estimator=model,\n",
    "                  param_grid = params,\n",
    "                  scoring = 'neg_mean_squared_error', \n",
    "                  cv=kfold)"
   ]
  },
  {
   "cell_type": "code",
   "execution_count": null,
   "id": "2fe2b5e1",
   "metadata": {},
   "outputs": [],
   "source": [
    "gs.fit(train_no_text_X, train_no_text_y)"
   ]
  },
  {
   "cell_type": "code",
   "execution_count": null,
   "id": "f04d1324",
   "metadata": {},
   "outputs": [],
   "source": [
    "print('Hyper Parameter: ', gs.best_params_)"
   ]
  },
  {
   "cell_type": "code",
   "execution_count": null,
   "id": "7061b454",
   "metadata": {},
   "outputs": [],
   "source": [
    "print('cv score with Hyper Parameter', gs.best_score_)"
   ]
  }
 ],
 "metadata": {
  "kernelspec": {
   "display_name": "Python 3",
   "language": "python",
   "name": "python3"
  },
  "language_info": {
   "codemirror_mode": {
    "name": "ipython",
    "version": 3
   },
   "file_extension": ".py",
   "mimetype": "text/x-python",
   "name": "python",
   "nbconvert_exporter": "python",
   "pygments_lexer": "ipython3",
   "version": "3.8.8"
  }
 },
 "nbformat": 4,
 "nbformat_minor": 5
}
