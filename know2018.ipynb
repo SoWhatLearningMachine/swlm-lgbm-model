{
 "cells": [
  {
   "cell_type": "code",
   "execution_count": 2,
   "id": "56f96172",
   "metadata": {},
   "outputs": [],
   "source": [
    "import numpy as np\n",
    "import pandas as pd\n",
    "import matplotlib.pyplot as plt"
   ]
  },
  {
   "cell_type": "code",
   "execution_count": 3,
   "id": "69df8686",
   "metadata": {},
   "outputs": [],
   "source": [
    "import lightgbm as lgb"
   ]
  },
  {
   "cell_type": "code",
   "execution_count": 4,
   "id": "adf27122",
   "metadata": {},
   "outputs": [],
   "source": [
    "from sklearn.model_selection import train_test_split, cross_validate, StratifiedKFold, GridSearchCV"
   ]
  },
  {
   "cell_type": "code",
   "execution_count": 5,
   "id": "f7eebf89",
   "metadata": {},
   "outputs": [],
   "source": [
    "from sklearn.metrics import accuracy_score, classification_report"
   ]
  },
  {
   "cell_type": "code",
   "execution_count": 6,
   "id": "b867757d",
   "metadata": {},
   "outputs": [],
   "source": [
    "train_bert = pd.read_csv('KNOW_2018_train_bert.csv')\n",
    "test_bert = pd.read_csv('KNOW_2018_test_bert.csv')\n",
    "train_tf_idf = pd.read_csv('KNOW_2018_train_tfidf.csv')\n",
    "test_tf_idf = pd.read_csv('KNOW_2018_test_tfidf.csv')\n",
    "train_simcse = pd.read_csv('KNOW_2018_train_simcse.csv')\n",
    "test_simcse = pd.read_csv('KNOW_2018_test_simcse.csv')\n",
    "train_no_text = pd.read_csv('KNOW_2018_train_no_text.csv')\n",
    "test_no_text = pd.read_csv('KNOW_2018_test_no_text.csv')"
   ]
  },
  {
   "cell_type": "markdown",
   "id": "016bd5b5",
   "metadata": {},
   "source": [
    "# bert"
   ]
  },
  {
   "cell_type": "code",
   "execution_count": 11,
   "id": "67a89f5e",
   "metadata": {},
   "outputs": [],
   "source": [
    "train_bert_X, train_bert_y = train_bert.drop('knowcode', axis=1), train_bert.knowcode\n",
    "test_bert_X = test_bert"
   ]
  },
  {
   "cell_type": "code",
   "execution_count": 12,
   "id": "86ef950e",
   "metadata": {},
   "outputs": [],
   "source": [
    "model_lgbm = lgb.LGBMClassifier(n_estimators=1000, max_depth=8, learning_rate=0.02)"
   ]
  },
  {
   "cell_type": "code",
   "execution_count": 13,
   "id": "055762e2",
   "metadata": {},
   "outputs": [],
   "source": [
    "# train/ test data 로 split \n",
    "tr_val_X, test_X, tr_val_y, test_y = train_test_split(\n",
    "    train_bert_X, \n",
    "    train_bert_y, \n",
    "    test_size = 0.2, \n",
    "    random_state = 42,\n",
    "    shuffle=True,\n",
    "    stratify = train_bert_y # Classification 중요 option\n",
    ")"
   ]
  },
  {
   "cell_type": "code",
   "execution_count": 14,
   "id": "169f367d",
   "metadata": {
    "scrolled": false
   },
   "outputs": [
    {
     "name": "stderr",
     "output_type": "stream",
     "text": [
      "C:\\Users\\heeta\\anaconda3\\lib\\site-packages\\lightgbm\\sklearn.py:726: UserWarning: 'early_stopping_rounds' argument is deprecated and will be removed in a future release of LightGBM. Pass 'early_stopping()' callback via 'callbacks' argument instead.\n",
      "  _log_warning(\"'early_stopping_rounds' argument is deprecated and will be removed in a future release of LightGBM. \"\n",
      "C:\\Users\\heeta\\anaconda3\\lib\\site-packages\\lightgbm\\sklearn.py:736: UserWarning: 'verbose' argument is deprecated and will be removed in a future release of LightGBM. Pass 'log_evaluation()' callback via 'callbacks' argument instead.\n",
      "  _log_warning(\"'verbose' argument is deprecated and will be removed in a future release of LightGBM. \"\n"
     ]
    },
    {
     "name": "stdout",
     "output_type": "stream",
     "text": [
      "[100]\tvalid_0's multi_logloss: 3.87834\n",
      "[200]\tvalid_0's multi_logloss: 3.49812\n",
      "[300]\tvalid_0's multi_logloss: 3.23763\n",
      "[400]\tvalid_0's multi_logloss: 3.20699\n",
      "[500]\tvalid_0's multi_logloss: 3.20486\n",
      "[600]\tvalid_0's multi_logloss: 3.20375\n",
      "[700]\tvalid_0's multi_logloss: 3.20308\n",
      "[800]\tvalid_0's multi_logloss: 3.20284\n",
      "\n",
      "#1 교차 검증 정확도 : 0.4428,  학습 데이터 크기 : 5804,  검증 데이터 크기 : 1452\n",
      "#1 검증 세트 인덱스 : [   0    1    2 ... 3763 4044 4092]\n"
     ]
    },
    {
     "name": "stderr",
     "output_type": "stream",
     "text": [
      "C:\\Users\\heeta\\anaconda3\\lib\\site-packages\\lightgbm\\sklearn.py:726: UserWarning: 'early_stopping_rounds' argument is deprecated and will be removed in a future release of LightGBM. Pass 'early_stopping()' callback via 'callbacks' argument instead.\n",
      "  _log_warning(\"'early_stopping_rounds' argument is deprecated and will be removed in a future release of LightGBM. \"\n",
      "C:\\Users\\heeta\\anaconda3\\lib\\site-packages\\lightgbm\\sklearn.py:736: UserWarning: 'verbose' argument is deprecated and will be removed in a future release of LightGBM. Pass 'log_evaluation()' callback via 'callbacks' argument instead.\n",
      "  _log_warning(\"'verbose' argument is deprecated and will be removed in a future release of LightGBM. \"\n"
     ]
    },
    {
     "name": "stdout",
     "output_type": "stream",
     "text": [
      "[100]\tvalid_0's multi_logloss: 3.66613\n",
      "[200]\tvalid_0's multi_logloss: 3.28878\n",
      "[300]\tvalid_0's multi_logloss: 3.04782\n",
      "[400]\tvalid_0's multi_logloss: 3.0235\n",
      "[500]\tvalid_0's multi_logloss: 3.0232\n",
      "\n",
      "#2 교차 검증 정확도 : 0.4473,  학습 데이터 크기 : 5805,  검증 데이터 크기 : 1451\n",
      "#2 검증 세트 인덱스 : [ 149  164  233 ... 5306 5501 5502]\n"
     ]
    },
    {
     "name": "stderr",
     "output_type": "stream",
     "text": [
      "C:\\Users\\heeta\\anaconda3\\lib\\site-packages\\lightgbm\\sklearn.py:726: UserWarning: 'early_stopping_rounds' argument is deprecated and will be removed in a future release of LightGBM. Pass 'early_stopping()' callback via 'callbacks' argument instead.\n",
      "  _log_warning(\"'early_stopping_rounds' argument is deprecated and will be removed in a future release of LightGBM. \"\n",
      "C:\\Users\\heeta\\anaconda3\\lib\\site-packages\\lightgbm\\sklearn.py:736: UserWarning: 'verbose' argument is deprecated and will be removed in a future release of LightGBM. Pass 'log_evaluation()' callback via 'callbacks' argument instead.\n",
      "  _log_warning(\"'verbose' argument is deprecated and will be removed in a future release of LightGBM. \"\n"
     ]
    },
    {
     "name": "stdout",
     "output_type": "stream",
     "text": [
      "[100]\tvalid_0's multi_logloss: 3.5427\n",
      "[200]\tvalid_0's multi_logloss: 3.14194\n",
      "[300]\tvalid_0's multi_logloss: 2.88274\n",
      "[400]\tvalid_0's multi_logloss: 2.85027\n",
      "[500]\tvalid_0's multi_logloss: 2.8489\n",
      "\n",
      "#3 교차 검증 정확도 : 0.4762,  학습 데이터 크기 : 5805,  검증 데이터 크기 : 1451\n",
      "#3 검증 세트 인덱스 : [ 329  625  708 ... 6267 6365 6416]\n"
     ]
    },
    {
     "name": "stderr",
     "output_type": "stream",
     "text": [
      "C:\\Users\\heeta\\anaconda3\\lib\\site-packages\\lightgbm\\sklearn.py:726: UserWarning: 'early_stopping_rounds' argument is deprecated and will be removed in a future release of LightGBM. Pass 'early_stopping()' callback via 'callbacks' argument instead.\n",
      "  _log_warning(\"'early_stopping_rounds' argument is deprecated and will be removed in a future release of LightGBM. \"\n",
      "C:\\Users\\heeta\\anaconda3\\lib\\site-packages\\lightgbm\\sklearn.py:736: UserWarning: 'verbose' argument is deprecated and will be removed in a future release of LightGBM. Pass 'log_evaluation()' callback via 'callbacks' argument instead.\n",
      "  _log_warning(\"'verbose' argument is deprecated and will be removed in a future release of LightGBM. \"\n"
     ]
    },
    {
     "name": "stdout",
     "output_type": "stream",
     "text": [
      "[100]\tvalid_0's multi_logloss: 3.60295\n",
      "[200]\tvalid_0's multi_logloss: 3.2265\n",
      "[300]\tvalid_0's multi_logloss: 2.9778\n",
      "[400]\tvalid_0's multi_logloss: 2.94775\n",
      "[500]\tvalid_0's multi_logloss: 2.9458\n",
      "[600]\tvalid_0's multi_logloss: 2.94544\n",
      "\n",
      "#4 교차 검증 정확도 : 0.4618,  학습 데이터 크기 : 5805,  검증 데이터 크기 : 1451\n",
      "#4 검증 세트 인덱스 : [1176 1507 1571 ... 6971 6980 7034]\n"
     ]
    },
    {
     "name": "stderr",
     "output_type": "stream",
     "text": [
      "C:\\Users\\heeta\\anaconda3\\lib\\site-packages\\lightgbm\\sklearn.py:726: UserWarning: 'early_stopping_rounds' argument is deprecated and will be removed in a future release of LightGBM. Pass 'early_stopping()' callback via 'callbacks' argument instead.\n",
      "  _log_warning(\"'early_stopping_rounds' argument is deprecated and will be removed in a future release of LightGBM. \"\n",
      "C:\\Users\\heeta\\anaconda3\\lib\\site-packages\\lightgbm\\sklearn.py:736: UserWarning: 'verbose' argument is deprecated and will be removed in a future release of LightGBM. Pass 'log_evaluation()' callback via 'callbacks' argument instead.\n",
      "  _log_warning(\"'verbose' argument is deprecated and will be removed in a future release of LightGBM. \"\n"
     ]
    },
    {
     "name": "stdout",
     "output_type": "stream",
     "text": [
      "[100]\tvalid_0's multi_logloss: 3.62948\n",
      "[200]\tvalid_0's multi_logloss: 3.23236\n",
      "[300]\tvalid_0's multi_logloss: 2.98174\n",
      "[400]\tvalid_0's multi_logloss: 2.95101\n",
      "[500]\tvalid_0's multi_logloss: 2.94793\n",
      "[600]\tvalid_0's multi_logloss: 2.94716\n",
      "[700]\tvalid_0's multi_logloss: 2.94713\n",
      "\n",
      "#5 교차 검증 정확도 : 0.4748,  학습 데이터 크기 : 5805,  검증 데이터 크기 : 1451\n",
      "#5 검증 세트 인덱스 : [3137 3456 3457 ... 7253 7254 7255]\n",
      "\n",
      "## 평균 검증 정확도: 0.46058000000000004\n"
     ]
    }
   ],
   "source": [
    "kfold = StratifiedKFold(n_splits=5)\n",
    "cv_accuracy = []\n",
    "n_iter = 0\n",
    "\n",
    "for train_index, test_index in kfold.split(tr_val_X, tr_val_y):  # feautres 데이터를 위에서 지정한 kfold 숫자로 분할\n",
    "    x_train, x_test = train_bert_X.iloc[train_index], train_bert_X.iloc[test_index]\n",
    "    y_train, y_test = train_bert_y[train_index], train_bert_y[test_index]\n",
    "    \n",
    "    model_lgbm.fit(x_train, y_train, eval_set=(x_test, y_test), early_stopping_rounds=100, verbose=100)\n",
    "    pred = model_lgbm.predict(x_test)\n",
    "    n_iter += 1\n",
    "    \n",
    "    accuracy = np.round(accuracy_score(y_test, pred), 4) # 소수점 4자리 반올림\n",
    "    train_size = x_train.shape[0]\n",
    "    test_size = x_test.shape[0]\n",
    "    \n",
    "    print('\\n#{0} 교차 검증 정확도 : {1},  학습 데이터 크기 : {2},  검증 데이터 크기 : {3}'\n",
    "          .format(n_iter, accuracy, train_size, test_size))\n",
    "    print('#{0} 검증 세트 인덱스 : {1}'.format(n_iter,test_index))\n",
    "    cv_accuracy.append(accuracy)\n",
    "    \n",
    "print('\\n## 평균 검증 정확도:', np.mean(cv_accuracy))"
   ]
  },
  {
   "cell_type": "code",
   "execution_count": 15,
   "id": "4df127c3",
   "metadata": {},
   "outputs": [],
   "source": [
    "test_bert['knowcode'] = model_lgbm.predict(test_bert_X)\n",
    "submission_bert = test_bert[['index', 'knowcode']]\n",
    "submission_bert.to_csv('KNOW_2018_bert_submission.csv')"
   ]
  },
  {
   "cell_type": "code",
   "execution_count": null,
   "id": "d168d294",
   "metadata": {},
   "outputs": [],
   "source": [
    "params = {\n",
    "    'learning_rate': [0.02, 0.1, 0.05],\n",
    "    'max_depth': [6,8]\n",
    "    \n",
    "}\n",
    "\n",
    "gs = GridSearchCV(estimator=model,\n",
    "                  param_grid = params,\n",
    "                  scoring = 'neg_mean_squared_error', \n",
    "                  cv=kfold)"
   ]
  },
  {
   "cell_type": "code",
   "execution_count": null,
   "id": "2fe2b5e1",
   "metadata": {},
   "outputs": [],
   "source": [
    "gs.fit(train_bert_X, train_bert_y)"
   ]
  },
  {
   "cell_type": "code",
   "execution_count": null,
   "id": "f04d1324",
   "metadata": {},
   "outputs": [],
   "source": [
    "print('Hyper Parameter: ', gs.best_params_)"
   ]
  },
  {
   "cell_type": "code",
   "execution_count": null,
   "id": "7061b454",
   "metadata": {},
   "outputs": [],
   "source": [
    "print('cv score with Hyper Parameter', gs.best_score_)"
   ]
  },
  {
   "cell_type": "markdown",
   "id": "f0a84ae5",
   "metadata": {},
   "source": [
    "# simcse"
   ]
  },
  {
   "cell_type": "code",
   "execution_count": 36,
   "id": "c00c86a3",
   "metadata": {
    "scrolled": true
   },
   "outputs": [],
   "source": [
    "train_simcse_X, train_simcse_y = train_simcse.drop(['knowcode', 'index'], axis=1), train_simcse.knowcode\n",
    "test_simcse_X = test_simcse.drop('index', axis=1)"
   ]
  },
  {
   "cell_type": "code",
   "execution_count": 37,
   "id": "b8263162",
   "metadata": {},
   "outputs": [
    {
     "data": {
      "text/html": [
       "<div>\n",
       "<style scoped>\n",
       "    .dataframe tbody tr th:only-of-type {\n",
       "        vertical-align: middle;\n",
       "    }\n",
       "\n",
       "    .dataframe tbody tr th {\n",
       "        vertical-align: top;\n",
       "    }\n",
       "\n",
       "    .dataframe thead th {\n",
       "        text-align: right;\n",
       "    }\n",
       "</style>\n",
       "<table border=\"1\" class=\"dataframe\">\n",
       "  <thead>\n",
       "    <tr style=\"text-align: right;\">\n",
       "      <th></th>\n",
       "      <th>index</th>\n",
       "      <th>cq1</th>\n",
       "      <th>cq2</th>\n",
       "      <th>cq3</th>\n",
       "      <th>cq4</th>\n",
       "      <th>cq5</th>\n",
       "      <th>cq6</th>\n",
       "      <th>cq7</th>\n",
       "      <th>cq8</th>\n",
       "      <th>cq9</th>\n",
       "      <th>...</th>\n",
       "      <th>bq37_1_bert_22</th>\n",
       "      <th>bq37_1_bert_23</th>\n",
       "      <th>bq37_1_bert_24</th>\n",
       "      <th>bq37_1_bert_25</th>\n",
       "      <th>bq37_1_bert_26</th>\n",
       "      <th>bq37_1_bert_27</th>\n",
       "      <th>bq37_1_bert_28</th>\n",
       "      <th>bq37_1_bert_29</th>\n",
       "      <th>bq37_1_bert_30</th>\n",
       "      <th>bq37_1_bert_31</th>\n",
       "    </tr>\n",
       "  </thead>\n",
       "  <tbody>\n",
       "    <tr>\n",
       "      <th>0</th>\n",
       "      <td>0</td>\n",
       "      <td>5</td>\n",
       "      <td>3</td>\n",
       "      <td>4</td>\n",
       "      <td>2</td>\n",
       "      <td>2</td>\n",
       "      <td>5</td>\n",
       "      <td>4</td>\n",
       "      <td>5</td>\n",
       "      <td>4</td>\n",
       "      <td>...</td>\n",
       "      <td>-0.136475</td>\n",
       "      <td>0.217625</td>\n",
       "      <td>-0.335952</td>\n",
       "      <td>0.309630</td>\n",
       "      <td>0.538342</td>\n",
       "      <td>-0.558905</td>\n",
       "      <td>-0.625207</td>\n",
       "      <td>0.212848</td>\n",
       "      <td>-1.013789</td>\n",
       "      <td>0.571870</td>\n",
       "    </tr>\n",
       "    <tr>\n",
       "      <th>1</th>\n",
       "      <td>1</td>\n",
       "      <td>4</td>\n",
       "      <td>3</td>\n",
       "      <td>4</td>\n",
       "      <td>4</td>\n",
       "      <td>4</td>\n",
       "      <td>4</td>\n",
       "      <td>4</td>\n",
       "      <td>4</td>\n",
       "      <td>4</td>\n",
       "      <td>...</td>\n",
       "      <td>-0.484079</td>\n",
       "      <td>-0.004640</td>\n",
       "      <td>-0.746827</td>\n",
       "      <td>-0.698481</td>\n",
       "      <td>-0.647769</td>\n",
       "      <td>-0.253628</td>\n",
       "      <td>-0.073871</td>\n",
       "      <td>-0.044415</td>\n",
       "      <td>-0.702257</td>\n",
       "      <td>0.471131</td>\n",
       "    </tr>\n",
       "    <tr>\n",
       "      <th>2</th>\n",
       "      <td>2</td>\n",
       "      <td>4</td>\n",
       "      <td>1</td>\n",
       "      <td>5</td>\n",
       "      <td>3</td>\n",
       "      <td>3</td>\n",
       "      <td>4</td>\n",
       "      <td>2</td>\n",
       "      <td>4</td>\n",
       "      <td>1</td>\n",
       "      <td>...</td>\n",
       "      <td>-0.650855</td>\n",
       "      <td>-0.615933</td>\n",
       "      <td>-0.356884</td>\n",
       "      <td>-0.218918</td>\n",
       "      <td>0.076575</td>\n",
       "      <td>-0.117625</td>\n",
       "      <td>-0.385737</td>\n",
       "      <td>0.133675</td>\n",
       "      <td>-0.293114</td>\n",
       "      <td>0.303875</td>\n",
       "    </tr>\n",
       "    <tr>\n",
       "      <th>3</th>\n",
       "      <td>3</td>\n",
       "      <td>4</td>\n",
       "      <td>3</td>\n",
       "      <td>4</td>\n",
       "      <td>4</td>\n",
       "      <td>4</td>\n",
       "      <td>3</td>\n",
       "      <td>3</td>\n",
       "      <td>2</td>\n",
       "      <td>3</td>\n",
       "      <td>...</td>\n",
       "      <td>-0.333475</td>\n",
       "      <td>0.003152</td>\n",
       "      <td>0.277275</td>\n",
       "      <td>-0.196111</td>\n",
       "      <td>0.138847</td>\n",
       "      <td>0.027677</td>\n",
       "      <td>0.530003</td>\n",
       "      <td>-0.341574</td>\n",
       "      <td>-0.238093</td>\n",
       "      <td>0.156080</td>\n",
       "    </tr>\n",
       "    <tr>\n",
       "      <th>4</th>\n",
       "      <td>4</td>\n",
       "      <td>3</td>\n",
       "      <td>2</td>\n",
       "      <td>3</td>\n",
       "      <td>1</td>\n",
       "      <td>1</td>\n",
       "      <td>4</td>\n",
       "      <td>3</td>\n",
       "      <td>4</td>\n",
       "      <td>3</td>\n",
       "      <td>...</td>\n",
       "      <td>-0.508624</td>\n",
       "      <td>0.186097</td>\n",
       "      <td>0.349935</td>\n",
       "      <td>0.383173</td>\n",
       "      <td>0.289008</td>\n",
       "      <td>-0.471890</td>\n",
       "      <td>-0.280663</td>\n",
       "      <td>0.345207</td>\n",
       "      <td>-0.709913</td>\n",
       "      <td>0.467666</td>\n",
       "    </tr>\n",
       "    <tr>\n",
       "      <th>...</th>\n",
       "      <td>...</td>\n",
       "      <td>...</td>\n",
       "      <td>...</td>\n",
       "      <td>...</td>\n",
       "      <td>...</td>\n",
       "      <td>...</td>\n",
       "      <td>...</td>\n",
       "      <td>...</td>\n",
       "      <td>...</td>\n",
       "      <td>...</td>\n",
       "      <td>...</td>\n",
       "      <td>...</td>\n",
       "      <td>...</td>\n",
       "      <td>...</td>\n",
       "      <td>...</td>\n",
       "      <td>...</td>\n",
       "      <td>...</td>\n",
       "      <td>...</td>\n",
       "      <td>...</td>\n",
       "      <td>...</td>\n",
       "      <td>...</td>\n",
       "    </tr>\n",
       "    <tr>\n",
       "      <th>9066</th>\n",
       "      <td>9067</td>\n",
       "      <td>5</td>\n",
       "      <td>5</td>\n",
       "      <td>5</td>\n",
       "      <td>2</td>\n",
       "      <td>2</td>\n",
       "      <td>4</td>\n",
       "      <td>2</td>\n",
       "      <td>5</td>\n",
       "      <td>3</td>\n",
       "      <td>...</td>\n",
       "      <td>0.288827</td>\n",
       "      <td>-0.084053</td>\n",
       "      <td>-0.036524</td>\n",
       "      <td>-1.060192</td>\n",
       "      <td>1.272000</td>\n",
       "      <td>-0.156451</td>\n",
       "      <td>-0.672342</td>\n",
       "      <td>-0.024451</td>\n",
       "      <td>-0.056371</td>\n",
       "      <td>-0.281917</td>\n",
       "    </tr>\n",
       "    <tr>\n",
       "      <th>9067</th>\n",
       "      <td>9068</td>\n",
       "      <td>5</td>\n",
       "      <td>5</td>\n",
       "      <td>5</td>\n",
       "      <td>3</td>\n",
       "      <td>3</td>\n",
       "      <td>5</td>\n",
       "      <td>4</td>\n",
       "      <td>4</td>\n",
       "      <td>4</td>\n",
       "      <td>...</td>\n",
       "      <td>0.069330</td>\n",
       "      <td>0.687799</td>\n",
       "      <td>-0.170616</td>\n",
       "      <td>-0.991487</td>\n",
       "      <td>-0.199754</td>\n",
       "      <td>0.106210</td>\n",
       "      <td>-0.017960</td>\n",
       "      <td>-0.104614</td>\n",
       "      <td>-0.624934</td>\n",
       "      <td>0.257686</td>\n",
       "    </tr>\n",
       "    <tr>\n",
       "      <th>9068</th>\n",
       "      <td>9069</td>\n",
       "      <td>4</td>\n",
       "      <td>4</td>\n",
       "      <td>4</td>\n",
       "      <td>3</td>\n",
       "      <td>3</td>\n",
       "      <td>5</td>\n",
       "      <td>4</td>\n",
       "      <td>4</td>\n",
       "      <td>4</td>\n",
       "      <td>...</td>\n",
       "      <td>0.362966</td>\n",
       "      <td>-0.259746</td>\n",
       "      <td>0.253413</td>\n",
       "      <td>-0.748183</td>\n",
       "      <td>0.090738</td>\n",
       "      <td>-0.308453</td>\n",
       "      <td>0.342466</td>\n",
       "      <td>0.202401</td>\n",
       "      <td>-0.651561</td>\n",
       "      <td>0.383281</td>\n",
       "    </tr>\n",
       "    <tr>\n",
       "      <th>9069</th>\n",
       "      <td>9070</td>\n",
       "      <td>5</td>\n",
       "      <td>2</td>\n",
       "      <td>3</td>\n",
       "      <td>2</td>\n",
       "      <td>3</td>\n",
       "      <td>5</td>\n",
       "      <td>4</td>\n",
       "      <td>4</td>\n",
       "      <td>3</td>\n",
       "      <td>...</td>\n",
       "      <td>0.362064</td>\n",
       "      <td>0.583812</td>\n",
       "      <td>-0.422108</td>\n",
       "      <td>-0.195119</td>\n",
       "      <td>0.116324</td>\n",
       "      <td>-0.137547</td>\n",
       "      <td>-0.175078</td>\n",
       "      <td>-0.077400</td>\n",
       "      <td>0.720627</td>\n",
       "      <td>-0.297357</td>\n",
       "    </tr>\n",
       "    <tr>\n",
       "      <th>9070</th>\n",
       "      <td>9071</td>\n",
       "      <td>5</td>\n",
       "      <td>4</td>\n",
       "      <td>5</td>\n",
       "      <td>4</td>\n",
       "      <td>3</td>\n",
       "      <td>5</td>\n",
       "      <td>4</td>\n",
       "      <td>1</td>\n",
       "      <td>4</td>\n",
       "      <td>...</td>\n",
       "      <td>-0.131915</td>\n",
       "      <td>0.257162</td>\n",
       "      <td>-0.190719</td>\n",
       "      <td>0.090893</td>\n",
       "      <td>-0.270597</td>\n",
       "      <td>-0.220321</td>\n",
       "      <td>0.097887</td>\n",
       "      <td>-0.090137</td>\n",
       "      <td>-0.246059</td>\n",
       "      <td>0.682631</td>\n",
       "    </tr>\n",
       "  </tbody>\n",
       "</table>\n",
       "<p>9071 rows × 418 columns</p>\n",
       "</div>"
      ],
      "text/plain": [
       "      index  cq1  cq2  cq3  cq4  cq5  cq6  cq7  cq8  cq9  ...  bq37_1_bert_22  \\\n",
       "0         0    5    3    4    2    2    5    4    5    4  ...       -0.136475   \n",
       "1         1    4    3    4    4    4    4    4    4    4  ...       -0.484079   \n",
       "2         2    4    1    5    3    3    4    2    4    1  ...       -0.650855   \n",
       "3         3    4    3    4    4    4    3    3    2    3  ...       -0.333475   \n",
       "4         4    3    2    3    1    1    4    3    4    3  ...       -0.508624   \n",
       "...     ...  ...  ...  ...  ...  ...  ...  ...  ...  ...  ...             ...   \n",
       "9066   9067    5    5    5    2    2    4    2    5    3  ...        0.288827   \n",
       "9067   9068    5    5    5    3    3    5    4    4    4  ...        0.069330   \n",
       "9068   9069    4    4    4    3    3    5    4    4    4  ...        0.362966   \n",
       "9069   9070    5    2    3    2    3    5    4    4    3  ...        0.362064   \n",
       "9070   9071    5    4    5    4    3    5    4    1    4  ...       -0.131915   \n",
       "\n",
       "      bq37_1_bert_23  bq37_1_bert_24  bq37_1_bert_25  bq37_1_bert_26  \\\n",
       "0           0.217625       -0.335952        0.309630        0.538342   \n",
       "1          -0.004640       -0.746827       -0.698481       -0.647769   \n",
       "2          -0.615933       -0.356884       -0.218918        0.076575   \n",
       "3           0.003152        0.277275       -0.196111        0.138847   \n",
       "4           0.186097        0.349935        0.383173        0.289008   \n",
       "...              ...             ...             ...             ...   \n",
       "9066       -0.084053       -0.036524       -1.060192        1.272000   \n",
       "9067        0.687799       -0.170616       -0.991487       -0.199754   \n",
       "9068       -0.259746        0.253413       -0.748183        0.090738   \n",
       "9069        0.583812       -0.422108       -0.195119        0.116324   \n",
       "9070        0.257162       -0.190719        0.090893       -0.270597   \n",
       "\n",
       "      bq37_1_bert_27  bq37_1_bert_28  bq37_1_bert_29  bq37_1_bert_30  \\\n",
       "0          -0.558905       -0.625207        0.212848       -1.013789   \n",
       "1          -0.253628       -0.073871       -0.044415       -0.702257   \n",
       "2          -0.117625       -0.385737        0.133675       -0.293114   \n",
       "3           0.027677        0.530003       -0.341574       -0.238093   \n",
       "4          -0.471890       -0.280663        0.345207       -0.709913   \n",
       "...              ...             ...             ...             ...   \n",
       "9066       -0.156451       -0.672342       -0.024451       -0.056371   \n",
       "9067        0.106210       -0.017960       -0.104614       -0.624934   \n",
       "9068       -0.308453        0.342466        0.202401       -0.651561   \n",
       "9069       -0.137547       -0.175078       -0.077400        0.720627   \n",
       "9070       -0.220321        0.097887       -0.090137       -0.246059   \n",
       "\n",
       "      bq37_1_bert_31  \n",
       "0           0.571870  \n",
       "1           0.471131  \n",
       "2           0.303875  \n",
       "3           0.156080  \n",
       "4           0.467666  \n",
       "...              ...  \n",
       "9066       -0.281917  \n",
       "9067        0.257686  \n",
       "9068        0.383281  \n",
       "9069       -0.297357  \n",
       "9070        0.682631  \n",
       "\n",
       "[9071 rows x 418 columns]"
      ]
     },
     "execution_count": 37,
     "metadata": {},
     "output_type": "execute_result"
    }
   ],
   "source": [
    "train_simcse"
   ]
  },
  {
   "cell_type": "code",
   "execution_count": 38,
   "id": "9332af90",
   "metadata": {},
   "outputs": [
    {
     "data": {
      "text/plain": [
       "index             0\n",
       "cq1               0\n",
       "cq2               0\n",
       "cq3               0\n",
       "cq4               0\n",
       "                 ..\n",
       "bq37_1_bert_27    0\n",
       "bq37_1_bert_28    0\n",
       "bq37_1_bert_29    0\n",
       "bq37_1_bert_30    0\n",
       "bq37_1_bert_31    0\n",
       "Length: 418, dtype: int64"
      ]
     },
     "execution_count": 38,
     "metadata": {},
     "output_type": "execute_result"
    }
   ],
   "source": [
    "train_simcse.isnull().sum()"
   ]
  },
  {
   "cell_type": "code",
   "execution_count": 39,
   "id": "3dc99c24",
   "metadata": {},
   "outputs": [],
   "source": [
    "model_lgbm = lgb.LGBMClassifier(n_estimators=1000, max_depth=12, learning_rate=0.02, num_leaves=40)"
   ]
  },
  {
   "cell_type": "code",
   "execution_count": 40,
   "id": "55ea7356",
   "metadata": {},
   "outputs": [],
   "source": [
    "# train/ test data 로 split \n",
    "tr_val_X, test_X, tr_val_y, test_y = train_test_split(\n",
    "    train_simcse_X, \n",
    "    train_simcse_y, \n",
    "    test_size = 0.2, \n",
    "    random_state = 42,\n",
    "    shuffle=True,\n",
    "    stratify = train_simcse_y # Classification 중요 option\n",
    ")"
   ]
  },
  {
   "cell_type": "code",
   "execution_count": 41,
   "id": "7236a14e",
   "metadata": {
    "scrolled": false
   },
   "outputs": [
    {
     "name": "stderr",
     "output_type": "stream",
     "text": [
      "C:\\Users\\heeta\\anaconda3\\lib\\site-packages\\lightgbm\\sklearn.py:726: UserWarning: 'early_stopping_rounds' argument is deprecated and will be removed in a future release of LightGBM. Pass 'early_stopping()' callback via 'callbacks' argument instead.\n",
      "  _log_warning(\"'early_stopping_rounds' argument is deprecated and will be removed in a future release of LightGBM. \"\n",
      "C:\\Users\\heeta\\anaconda3\\lib\\site-packages\\lightgbm\\sklearn.py:736: UserWarning: 'verbose' argument is deprecated and will be removed in a future release of LightGBM. Pass 'log_evaluation()' callback via 'callbacks' argument instead.\n",
      "  _log_warning(\"'verbose' argument is deprecated and will be removed in a future release of LightGBM. \"\n"
     ]
    },
    {
     "name": "stdout",
     "output_type": "stream",
     "text": [
      "[100]\tvalid_0's multi_logloss: 3.52962\n",
      "[200]\tvalid_0's multi_logloss: 3.15848\n",
      "[300]\tvalid_0's multi_logloss: 2.90326\n",
      "[400]\tvalid_0's multi_logloss: 2.87842\n",
      "[500]\tvalid_0's multi_logloss: 2.87678\n",
      "[600]\tvalid_0's multi_logloss: 2.87641\n",
      "[700]\tvalid_0's multi_logloss: 2.87652\n",
      "\n",
      "#1 교차 검증 정확도 : 0.4745,  학습 데이터 크기 : 5804,  검증 데이터 크기 : 1452\n",
      "#1 검증 세트 인덱스 : [   0    1    2 ... 3763 4044 4092]\n"
     ]
    },
    {
     "name": "stderr",
     "output_type": "stream",
     "text": [
      "C:\\Users\\heeta\\anaconda3\\lib\\site-packages\\lightgbm\\sklearn.py:726: UserWarning: 'early_stopping_rounds' argument is deprecated and will be removed in a future release of LightGBM. Pass 'early_stopping()' callback via 'callbacks' argument instead.\n",
      "  _log_warning(\"'early_stopping_rounds' argument is deprecated and will be removed in a future release of LightGBM. \"\n",
      "C:\\Users\\heeta\\anaconda3\\lib\\site-packages\\lightgbm\\sklearn.py:736: UserWarning: 'verbose' argument is deprecated and will be removed in a future release of LightGBM. Pass 'log_evaluation()' callback via 'callbacks' argument instead.\n",
      "  _log_warning(\"'verbose' argument is deprecated and will be removed in a future release of LightGBM. \"\n"
     ]
    },
    {
     "name": "stdout",
     "output_type": "stream",
     "text": [
      "[100]\tvalid_0's multi_logloss: 3.42162\n",
      "[200]\tvalid_0's multi_logloss: 3.04372\n",
      "[300]\tvalid_0's multi_logloss: 2.80873\n",
      "[400]\tvalid_0's multi_logloss: 2.78892\n",
      "[500]\tvalid_0's multi_logloss: 2.78921\n",
      "\n",
      "#2 교차 검증 정확도 : 0.479,  학습 데이터 크기 : 5805,  검증 데이터 크기 : 1451\n",
      "#2 검증 세트 인덱스 : [ 149  164  233 ... 5306 5501 5502]\n"
     ]
    },
    {
     "name": "stderr",
     "output_type": "stream",
     "text": [
      "C:\\Users\\heeta\\anaconda3\\lib\\site-packages\\lightgbm\\sklearn.py:726: UserWarning: 'early_stopping_rounds' argument is deprecated and will be removed in a future release of LightGBM. Pass 'early_stopping()' callback via 'callbacks' argument instead.\n",
      "  _log_warning(\"'early_stopping_rounds' argument is deprecated and will be removed in a future release of LightGBM. \"\n",
      "C:\\Users\\heeta\\anaconda3\\lib\\site-packages\\lightgbm\\sklearn.py:736: UserWarning: 'verbose' argument is deprecated and will be removed in a future release of LightGBM. Pass 'log_evaluation()' callback via 'callbacks' argument instead.\n",
      "  _log_warning(\"'verbose' argument is deprecated and will be removed in a future release of LightGBM. \"\n"
     ]
    },
    {
     "name": "stdout",
     "output_type": "stream",
     "text": [
      "[100]\tvalid_0's multi_logloss: 3.3349\n",
      "[200]\tvalid_0's multi_logloss: 2.93264\n",
      "[300]\tvalid_0's multi_logloss: 2.6605\n",
      "[400]\tvalid_0's multi_logloss: 2.63265\n",
      "[500]\tvalid_0's multi_logloss: 2.63162\n",
      "\n",
      "#3 교차 검증 정확도 : 0.501,  학습 데이터 크기 : 5805,  검증 데이터 크기 : 1451\n",
      "#3 검증 세트 인덱스 : [ 329  625  708 ... 6267 6365 6416]\n"
     ]
    },
    {
     "name": "stderr",
     "output_type": "stream",
     "text": [
      "C:\\Users\\heeta\\anaconda3\\lib\\site-packages\\lightgbm\\sklearn.py:726: UserWarning: 'early_stopping_rounds' argument is deprecated and will be removed in a future release of LightGBM. Pass 'early_stopping()' callback via 'callbacks' argument instead.\n",
      "  _log_warning(\"'early_stopping_rounds' argument is deprecated and will be removed in a future release of LightGBM. \"\n",
      "C:\\Users\\heeta\\anaconda3\\lib\\site-packages\\lightgbm\\sklearn.py:736: UserWarning: 'verbose' argument is deprecated and will be removed in a future release of LightGBM. Pass 'log_evaluation()' callback via 'callbacks' argument instead.\n",
      "  _log_warning(\"'verbose' argument is deprecated and will be removed in a future release of LightGBM. \"\n"
     ]
    },
    {
     "name": "stdout",
     "output_type": "stream",
     "text": [
      "[100]\tvalid_0's multi_logloss: 3.36084\n",
      "[200]\tvalid_0's multi_logloss: 2.96353\n",
      "[300]\tvalid_0's multi_logloss: 2.70997\n",
      "[400]\tvalid_0's multi_logloss: 2.68091\n",
      "[500]\tvalid_0's multi_logloss: 2.67852\n",
      "[600]\tvalid_0's multi_logloss: 2.67821\n",
      "[700]\tvalid_0's multi_logloss: 2.6785\n",
      "\n",
      "#4 교차 검증 정확도 : 0.5072,  학습 데이터 크기 : 5805,  검증 데이터 크기 : 1451\n",
      "#4 검증 세트 인덱스 : [1176 1507 1571 ... 6971 6980 7034]\n"
     ]
    },
    {
     "name": "stderr",
     "output_type": "stream",
     "text": [
      "C:\\Users\\heeta\\anaconda3\\lib\\site-packages\\lightgbm\\sklearn.py:726: UserWarning: 'early_stopping_rounds' argument is deprecated and will be removed in a future release of LightGBM. Pass 'early_stopping()' callback via 'callbacks' argument instead.\n",
      "  _log_warning(\"'early_stopping_rounds' argument is deprecated and will be removed in a future release of LightGBM. \"\n",
      "C:\\Users\\heeta\\anaconda3\\lib\\site-packages\\lightgbm\\sklearn.py:736: UserWarning: 'verbose' argument is deprecated and will be removed in a future release of LightGBM. Pass 'log_evaluation()' callback via 'callbacks' argument instead.\n",
      "  _log_warning(\"'verbose' argument is deprecated and will be removed in a future release of LightGBM. \"\n"
     ]
    },
    {
     "name": "stdout",
     "output_type": "stream",
     "text": [
      "[100]\tvalid_0's multi_logloss: 3.43404\n",
      "[200]\tvalid_0's multi_logloss: 3.04488\n",
      "[300]\tvalid_0's multi_logloss: 2.78524\n",
      "[400]\tvalid_0's multi_logloss: 2.75844\n",
      "[500]\tvalid_0's multi_logloss: 2.75491\n",
      "[600]\tvalid_0's multi_logloss: 2.75361\n",
      "[700]\tvalid_0's multi_logloss: 2.75275\n",
      "[800]\tvalid_0's multi_logloss: 2.75234\n",
      "[900]\tvalid_0's multi_logloss: 2.75231\n",
      "[1000]\tvalid_0's multi_logloss: 2.75208\n",
      "\n",
      "#5 교차 검증 정확도 : 0.4948,  학습 데이터 크기 : 5805,  검증 데이터 크기 : 1451\n",
      "#5 검증 세트 인덱스 : [3137 3456 3457 ... 7253 7254 7255]\n",
      "\n",
      "## 평균 검증 정확도: 0.4913\n"
     ]
    }
   ],
   "source": [
    "kfold = StratifiedKFold(n_splits=5)\n",
    "cv_accuracy = []\n",
    "n_iter = 0\n",
    "\n",
    "for train_index, test_index in kfold.split(tr_val_X, tr_val_y):  # feautres 데이터를 위에서 지정한 kfold 숫자로 분할\n",
    "    x_train, x_test = train_simcse_X.iloc[train_index], train_simcse_X.iloc[test_index]\n",
    "    y_train, y_test = train_simcse_y[train_index], train_simcse_y[test_index]\n",
    "    \n",
    "    model_lgbm.fit(x_train, y_train, eval_set=(x_test, y_test), early_stopping_rounds=100, verbose=100)\n",
    "    pred = model_lgbm.predict(x_test)\n",
    "    n_iter += 1\n",
    "    \n",
    "    accuracy = np.round(accuracy_score(y_test, pred), 4) # 소수점 4자리 반올림\n",
    "    train_size = x_train.shape[0]\n",
    "    test_size = x_test.shape[0]\n",
    "    \n",
    "    print('\\n#{0} 교차 검증 정확도 : {1},  학습 데이터 크기 : {2},  검증 데이터 크기 : {3}'\n",
    "          .format(n_iter, accuracy, train_size, test_size))\n",
    "    print('#{0} 검증 세트 인덱스 : {1}'.format(n_iter,test_index))\n",
    "    cv_accuracy.append(accuracy)\n",
    "    \n",
    "print('\\n## 평균 검증 정확도:', np.mean(cv_accuracy))"
   ]
  },
  {
   "cell_type": "code",
   "execution_count": 42,
   "id": "0a733736",
   "metadata": {},
   "outputs": [],
   "source": [
    "test_simcse['knowcode'] = model_lgbm.predict(test_simcse_X)\n",
    "submission_simcse = test_simcse[['index', 'knowcode']]\n",
    "submission_simcse.to_csv('KNOW_2018_simcse_submission.csv')"
   ]
  },
  {
   "cell_type": "code",
   "execution_count": null,
   "id": "281e9229",
   "metadata": {},
   "outputs": [],
   "source": [
    "params = {\n",
    "    'learning_rate': [0.02, 0.1, 0.05],\n",
    "    'max_depth': [6,8]\n",
    "    \n",
    "}\n",
    "\n",
    "gs = GridSearchCV(estimator=model,\n",
    "                  param_grid = params,\n",
    "                  scoring = 'neg_mean_squared_error', \n",
    "                  cv=kfold)"
   ]
  },
  {
   "cell_type": "code",
   "execution_count": null,
   "id": "88a1c69a",
   "metadata": {},
   "outputs": [],
   "source": [
    "gs.fit(train_simcse_X, train_simcse_y)"
   ]
  },
  {
   "cell_type": "code",
   "execution_count": null,
   "id": "c2460ca2",
   "metadata": {},
   "outputs": [],
   "source": [
    "print('Hyper Parameter: ', gs.best_params_)"
   ]
  },
  {
   "cell_type": "code",
   "execution_count": null,
   "id": "986655e9",
   "metadata": {},
   "outputs": [],
   "source": [
    "print('cv score with Hyper Parameter', gs.best_score_)"
   ]
  },
  {
   "cell_type": "markdown",
   "id": "f091dc16",
   "metadata": {},
   "source": [
    "# tf_idf"
   ]
  },
  {
   "cell_type": "code",
   "execution_count": 7,
   "id": "75b57f7f",
   "metadata": {
    "scrolled": true
   },
   "outputs": [],
   "source": [
    "tf_idf_without_knowcode = train_tf_idf.drop(columns=['knowcode'], inplace=False)"
   ]
  },
  {
   "cell_type": "code",
   "execution_count": 8,
   "id": "0b5d680f",
   "metadata": {},
   "outputs": [],
   "source": [
    "test_tf_idf = test_tf_idf[tf_idf_without_knowcode.columns]"
   ]
  },
  {
   "cell_type": "code",
   "execution_count": 9,
   "id": "a16dbf50",
   "metadata": {},
   "outputs": [],
   "source": [
    "train_tf_idf_X, train_tf_idf_y = train_tf_idf.drop(['knowcode', 'index'], axis=1), train_tf_idf.knowcode\n",
    "test_tf_idf_X = test_tf_idf.drop('index', axis=1)"
   ]
  },
  {
   "cell_type": "code",
   "execution_count": 10,
   "id": "d13ea636",
   "metadata": {},
   "outputs": [],
   "source": [
    "model_lgbm = lgb.LGBMClassifier(n_estimators=1000, learning_rate=0.02, max_depth=8)"
   ]
  },
  {
   "cell_type": "code",
   "execution_count": 11,
   "id": "67f65180",
   "metadata": {},
   "outputs": [],
   "source": [
    "# train/ test data 로 split \n",
    "tr_val_X, test_X, tr_val_y, test_y = train_test_split(\n",
    "    train_tf_idf_X, \n",
    "    train_tf_idf_y, \n",
    "    test_size = 0.2, \n",
    "    random_state = 42,\n",
    "    shuffle=True,\n",
    "    stratify = train_tf_idf_y # Classification 중요 option\n",
    ")"
   ]
  },
  {
   "cell_type": "code",
   "execution_count": 12,
   "id": "bea8fa9b",
   "metadata": {
    "scrolled": true
   },
   "outputs": [
    {
     "name": "stderr",
     "output_type": "stream",
     "text": [
      "C:\\Users\\heeta\\anaconda3\\lib\\site-packages\\lightgbm\\sklearn.py:726: UserWarning: 'early_stopping_rounds' argument is deprecated and will be removed in a future release of LightGBM. Pass 'early_stopping()' callback via 'callbacks' argument instead.\n",
      "  _log_warning(\"'early_stopping_rounds' argument is deprecated and will be removed in a future release of LightGBM. \"\n",
      "C:\\Users\\heeta\\anaconda3\\lib\\site-packages\\lightgbm\\sklearn.py:736: UserWarning: 'verbose' argument is deprecated and will be removed in a future release of LightGBM. Pass 'log_evaluation()' callback via 'callbacks' argument instead.\n",
      "  _log_warning(\"'verbose' argument is deprecated and will be removed in a future release of LightGBM. \"\n"
     ]
    },
    {
     "name": "stdout",
     "output_type": "stream",
     "text": [
      "[100]\tvalid_0's multi_logloss: 3.5067\n",
      "[200]\tvalid_0's multi_logloss: 3.1836\n",
      "[300]\tvalid_0's multi_logloss: 2.95668\n",
      "[400]\tvalid_0's multi_logloss: 2.9154\n",
      "[500]\tvalid_0's multi_logloss: 2.90712\n",
      "[600]\tvalid_0's multi_logloss: 2.90661\n",
      "\n",
      "#1 교차 검증 정확도 : 0.4525,  학습 데이터 크기 : 5804,  검증 데이터 크기 : 1452\n",
      "#1 검증 세트 인덱스 : [   0    1    2 ... 3763 4044 4092]\n"
     ]
    },
    {
     "name": "stderr",
     "output_type": "stream",
     "text": [
      "C:\\Users\\heeta\\anaconda3\\lib\\site-packages\\lightgbm\\sklearn.py:726: UserWarning: 'early_stopping_rounds' argument is deprecated and will be removed in a future release of LightGBM. Pass 'early_stopping()' callback via 'callbacks' argument instead.\n",
      "  _log_warning(\"'early_stopping_rounds' argument is deprecated and will be removed in a future release of LightGBM. \"\n",
      "C:\\Users\\heeta\\anaconda3\\lib\\site-packages\\lightgbm\\sklearn.py:736: UserWarning: 'verbose' argument is deprecated and will be removed in a future release of LightGBM. Pass 'log_evaluation()' callback via 'callbacks' argument instead.\n",
      "  _log_warning(\"'verbose' argument is deprecated and will be removed in a future release of LightGBM. \"\n"
     ]
    },
    {
     "name": "stdout",
     "output_type": "stream",
     "text": [
      "[100]\tvalid_0's multi_logloss: 3.28108\n",
      "[200]\tvalid_0's multi_logloss: 2.98692\n",
      "[300]\tvalid_0's multi_logloss: 2.79149\n",
      "[400]\tvalid_0's multi_logloss: 2.75867\n",
      "[500]\tvalid_0's multi_logloss: 2.75318\n",
      "[600]\tvalid_0's multi_logloss: 2.74991\n",
      "[700]\tvalid_0's multi_logloss: 2.74972\n",
      "\n",
      "#2 교차 검증 정확도 : 0.4893,  학습 데이터 크기 : 5805,  검증 데이터 크기 : 1451\n",
      "#2 검증 세트 인덱스 : [ 149  164  233 ... 5306 5501 5502]\n"
     ]
    },
    {
     "name": "stderr",
     "output_type": "stream",
     "text": [
      "C:\\Users\\heeta\\anaconda3\\lib\\site-packages\\lightgbm\\sklearn.py:726: UserWarning: 'early_stopping_rounds' argument is deprecated and will be removed in a future release of LightGBM. Pass 'early_stopping()' callback via 'callbacks' argument instead.\n",
      "  _log_warning(\"'early_stopping_rounds' argument is deprecated and will be removed in a future release of LightGBM. \"\n",
      "C:\\Users\\heeta\\anaconda3\\lib\\site-packages\\lightgbm\\sklearn.py:736: UserWarning: 'verbose' argument is deprecated and will be removed in a future release of LightGBM. Pass 'log_evaluation()' callback via 'callbacks' argument instead.\n",
      "  _log_warning(\"'verbose' argument is deprecated and will be removed in a future release of LightGBM. \"\n"
     ]
    },
    {
     "name": "stdout",
     "output_type": "stream",
     "text": [
      "[100]\tvalid_0's multi_logloss: 3.14888\n",
      "[200]\tvalid_0's multi_logloss: 2.78956\n",
      "[300]\tvalid_0's multi_logloss: 2.57575\n",
      "[400]\tvalid_0's multi_logloss: 2.53641\n",
      "[500]\tvalid_0's multi_logloss: 2.53342\n",
      "[600]\tvalid_0's multi_logloss: 2.5333\n",
      "\n",
      "#3 교차 검증 정확도 : 0.5162,  학습 데이터 크기 : 5805,  검증 데이터 크기 : 1451\n",
      "#3 검증 세트 인덱스 : [ 329  625  708 ... 6267 6365 6416]\n"
     ]
    },
    {
     "name": "stderr",
     "output_type": "stream",
     "text": [
      "C:\\Users\\heeta\\anaconda3\\lib\\site-packages\\lightgbm\\sklearn.py:726: UserWarning: 'early_stopping_rounds' argument is deprecated and will be removed in a future release of LightGBM. Pass 'early_stopping()' callback via 'callbacks' argument instead.\n",
      "  _log_warning(\"'early_stopping_rounds' argument is deprecated and will be removed in a future release of LightGBM. \"\n",
      "C:\\Users\\heeta\\anaconda3\\lib\\site-packages\\lightgbm\\sklearn.py:736: UserWarning: 'verbose' argument is deprecated and will be removed in a future release of LightGBM. Pass 'log_evaluation()' callback via 'callbacks' argument instead.\n",
      "  _log_warning(\"'verbose' argument is deprecated and will be removed in a future release of LightGBM. \"\n"
     ]
    },
    {
     "name": "stdout",
     "output_type": "stream",
     "text": [
      "[100]\tvalid_0's multi_logloss: 3.19146\n",
      "[200]\tvalid_0's multi_logloss: 2.87635\n",
      "[300]\tvalid_0's multi_logloss: 2.64888\n",
      "[400]\tvalid_0's multi_logloss: 2.60614\n",
      "[500]\tvalid_0's multi_logloss: 2.5976\n",
      "[600]\tvalid_0's multi_logloss: 2.59414\n",
      "[700]\tvalid_0's multi_logloss: 2.59269\n",
      "[800]\tvalid_0's multi_logloss: 2.59175\n",
      "[900]\tvalid_0's multi_logloss: 2.59124\n",
      "[1000]\tvalid_0's multi_logloss: 2.59102\n",
      "\n",
      "#4 교차 검증 정확도 : 0.5017,  학습 데이터 크기 : 5805,  검증 데이터 크기 : 1451\n",
      "#4 검증 세트 인덱스 : [1176 1507 1571 ... 6971 6980 7034]\n"
     ]
    },
    {
     "name": "stderr",
     "output_type": "stream",
     "text": [
      "C:\\Users\\heeta\\anaconda3\\lib\\site-packages\\lightgbm\\sklearn.py:726: UserWarning: 'early_stopping_rounds' argument is deprecated and will be removed in a future release of LightGBM. Pass 'early_stopping()' callback via 'callbacks' argument instead.\n",
      "  _log_warning(\"'early_stopping_rounds' argument is deprecated and will be removed in a future release of LightGBM. \"\n",
      "C:\\Users\\heeta\\anaconda3\\lib\\site-packages\\lightgbm\\sklearn.py:736: UserWarning: 'verbose' argument is deprecated and will be removed in a future release of LightGBM. Pass 'log_evaluation()' callback via 'callbacks' argument instead.\n",
      "  _log_warning(\"'verbose' argument is deprecated and will be removed in a future release of LightGBM. \"\n"
     ]
    },
    {
     "name": "stdout",
     "output_type": "stream",
     "text": [
      "[100]\tvalid_0's multi_logloss: 3.23576\n",
      "[200]\tvalid_0's multi_logloss: 2.91918\n",
      "[300]\tvalid_0's multi_logloss: 2.70166\n",
      "[400]\tvalid_0's multi_logloss: 2.65928\n",
      "[500]\tvalid_0's multi_logloss: 2.64897\n",
      "[600]\tvalid_0's multi_logloss: 2.64636\n",
      "\n",
      "#5 교차 검증 정확도 : 0.5003,  학습 데이터 크기 : 5805,  검증 데이터 크기 : 1451\n",
      "#5 검증 세트 인덱스 : [3137 3456 3457 ... 7253 7254 7255]\n",
      "\n",
      "## 평균 검증 정확도: 0.492\n"
     ]
    }
   ],
   "source": [
    "kfold = StratifiedKFold(n_splits=5)\n",
    "cv_accuracy = []\n",
    "n_iter = 0\n",
    "\n",
    "for train_index, test_index in kfold.split(tr_val_X, tr_val_y):  # feautres 데이터를 위에서 지정한 kfold 숫자로 분할\n",
    "    x_train, x_test = train_tf_idf_X.iloc[train_index], train_tf_idf_X.iloc[test_index]\n",
    "    y_train, y_test = train_tf_idf_y[train_index], train_tf_idf_y[test_index]\n",
    "    \n",
    "    model_lgbm.fit(x_train, y_train, eval_set=(x_test, y_test), early_stopping_rounds=100, verbose=100)\n",
    "    pred = model_lgbm.predict(x_test)\n",
    "    n_iter += 1\n",
    "    \n",
    "    accuracy = np.round(accuracy_score(y_test, pred), 4) # 소수점 4자리 반올림\n",
    "    train_size = x_train.shape[0]\n",
    "    test_size = x_test.shape[0]\n",
    "    \n",
    "    print('\\n#{0} 교차 검증 정확도 : {1},  학습 데이터 크기 : {2},  검증 데이터 크기 : {3}'\n",
    "          .format(n_iter, accuracy, train_size, test_size))\n",
    "    print('#{0} 검증 세트 인덱스 : {1}'.format(n_iter,test_index))\n",
    "    cv_accuracy.append(accuracy)\n",
    "    \n",
    "print('\\n## 평균 검증 정확도:', np.mean(cv_accuracy))"
   ]
  },
  {
   "cell_type": "code",
   "execution_count": 16,
   "id": "1747554b",
   "metadata": {},
   "outputs": [],
   "source": [
    "test_tf_idf['knowcode'] = model_lgbm.predict(test_tf_idf_X)\n",
    "submission_tf_idf = test_tf_idf[['index', 'knowcode']]\n",
    "submission_tf_idf.to_csv('KNOW_2018_tfidf_submission.csv')"
   ]
  },
  {
   "cell_type": "code",
   "execution_count": null,
   "id": "d168d294",
   "metadata": {},
   "outputs": [],
   "source": [
    "params = {\n",
    "    'learning_rate': [0.02, 0.1, 0.05],\n",
    "    'max_depth': [6,8]\n",
    "    \n",
    "}\n",
    "\n",
    "gs = GridSearchCV(estimator=model,\n",
    "                  param_grid = params,\n",
    "                  scoring = 'neg_mean_squared_error', \n",
    "                  cv=kfold)"
   ]
  },
  {
   "cell_type": "code",
   "execution_count": null,
   "id": "2fe2b5e1",
   "metadata": {},
   "outputs": [],
   "source": [
    "gs.fit(train_tf_idf_X, train_tf_idf_y)"
   ]
  },
  {
   "cell_type": "code",
   "execution_count": null,
   "id": "f04d1324",
   "metadata": {},
   "outputs": [],
   "source": [
    "print('Hyper Parameter: ', gs.best_params_)"
   ]
  },
  {
   "cell_type": "code",
   "execution_count": null,
   "id": "7061b454",
   "metadata": {},
   "outputs": [],
   "source": [
    "print('cv score with Hyper Parameter', gs.best_score_)"
   ]
  },
  {
   "cell_type": "markdown",
   "id": "d552c91a",
   "metadata": {},
   "source": [
    "# no_text"
   ]
  },
  {
   "cell_type": "code",
   "execution_count": 17,
   "id": "1538efd5",
   "metadata": {},
   "outputs": [],
   "source": [
    "train_no_text_X, train_no_text_y = train_no_text.drop(['knowcode', 'index'], axis=1), train_no_text.knowcode\n",
    "test_no_text_X = test_no_text.drop('index', axis=1)"
   ]
  },
  {
   "cell_type": "code",
   "execution_count": 18,
   "id": "d38d6d24",
   "metadata": {},
   "outputs": [],
   "source": [
    "#하이퍼파라미터 없이, 지금은 임의로 넣어둠\n",
    "model_lgbm = lgb.LGBMClassifier(n_estimators=1000, max_depth=8, learning_rate=0.01)"
   ]
  },
  {
   "cell_type": "code",
   "execution_count": 19,
   "id": "fe036ae2",
   "metadata": {},
   "outputs": [],
   "source": [
    "# train/ test data 로 split \n",
    "tr_val_X, test_X, tr_val_y, test_y = train_test_split(\n",
    "    train_no_text_X, \n",
    "    train_no_text_y, \n",
    "    test_size = 0.2, \n",
    "    random_state = 42,\n",
    "    shuffle=True,\n",
    "    stratify = train_no_text_y # Classification 중요 option\n",
    ")"
   ]
  },
  {
   "cell_type": "code",
   "execution_count": 20,
   "id": "63b14098",
   "metadata": {
    "scrolled": true
   },
   "outputs": [
    {
     "name": "stderr",
     "output_type": "stream",
     "text": [
      "C:\\Users\\heeta\\anaconda3\\lib\\site-packages\\lightgbm\\sklearn.py:726: UserWarning: 'early_stopping_rounds' argument is deprecated and will be removed in a future release of LightGBM. Pass 'early_stopping()' callback via 'callbacks' argument instead.\n",
      "  _log_warning(\"'early_stopping_rounds' argument is deprecated and will be removed in a future release of LightGBM. \"\n",
      "C:\\Users\\heeta\\anaconda3\\lib\\site-packages\\lightgbm\\sklearn.py:736: UserWarning: 'verbose' argument is deprecated and will be removed in a future release of LightGBM. Pass 'log_evaluation()' callback via 'callbacks' argument instead.\n",
      "  _log_warning(\"'verbose' argument is deprecated and will be removed in a future release of LightGBM. \"\n"
     ]
    },
    {
     "name": "stdout",
     "output_type": "stream",
     "text": [
      "[100]\tvalid_0's multi_logloss: 4.16443\n",
      "[200]\tvalid_0's multi_logloss: 3.83177\n",
      "[300]\tvalid_0's multi_logloss: 3.68178\n",
      "[400]\tvalid_0's multi_logloss: 3.62291\n",
      "[500]\tvalid_0's multi_logloss: 3.55721\n",
      "[600]\tvalid_0's multi_logloss: 3.52186\n",
      "[700]\tvalid_0's multi_logloss: 3.50978\n",
      "[800]\tvalid_0's multi_logloss: 3.49868\n",
      "[900]\tvalid_0's multi_logloss: 3.49204\n",
      "[1000]\tvalid_0's multi_logloss: 3.48927\n",
      "\n",
      "#1 교차 검증 정확도 : 0.3974,  학습 데이터 크기 : 5804,  검증 데이터 크기 : 1452\n",
      "#1 검증 세트 인덱스 : [   0    1    2 ... 3763 4044 4092]\n"
     ]
    },
    {
     "name": "stderr",
     "output_type": "stream",
     "text": [
      "C:\\Users\\heeta\\anaconda3\\lib\\site-packages\\lightgbm\\sklearn.py:726: UserWarning: 'early_stopping_rounds' argument is deprecated and will be removed in a future release of LightGBM. Pass 'early_stopping()' callback via 'callbacks' argument instead.\n",
      "  _log_warning(\"'early_stopping_rounds' argument is deprecated and will be removed in a future release of LightGBM. \"\n",
      "C:\\Users\\heeta\\anaconda3\\lib\\site-packages\\lightgbm\\sklearn.py:736: UserWarning: 'verbose' argument is deprecated and will be removed in a future release of LightGBM. Pass 'log_evaluation()' callback via 'callbacks' argument instead.\n",
      "  _log_warning(\"'verbose' argument is deprecated and will be removed in a future release of LightGBM. \"\n"
     ]
    },
    {
     "name": "stdout",
     "output_type": "stream",
     "text": [
      "[100]\tvalid_0's multi_logloss: 3.88318\n",
      "[200]\tvalid_0's multi_logloss: 3.49175\n",
      "[300]\tvalid_0's multi_logloss: 3.30345\n",
      "[400]\tvalid_0's multi_logloss: 3.22133\n",
      "[500]\tvalid_0's multi_logloss: 3.15667\n",
      "[600]\tvalid_0's multi_logloss: 3.12809\n",
      "[700]\tvalid_0's multi_logloss: 3.11589\n",
      "[800]\tvalid_0's multi_logloss: 3.10765\n",
      "[900]\tvalid_0's multi_logloss: 3.10239\n",
      "[1000]\tvalid_0's multi_logloss: 3.10014\n",
      "\n",
      "#2 교차 검증 정확도 : 0.4459,  학습 데이터 크기 : 5805,  검증 데이터 크기 : 1451\n",
      "#2 검증 세트 인덱스 : [ 149  164  233 ... 5306 5501 5502]\n"
     ]
    },
    {
     "name": "stderr",
     "output_type": "stream",
     "text": [
      "C:\\Users\\heeta\\anaconda3\\lib\\site-packages\\lightgbm\\sklearn.py:726: UserWarning: 'early_stopping_rounds' argument is deprecated and will be removed in a future release of LightGBM. Pass 'early_stopping()' callback via 'callbacks' argument instead.\n",
      "  _log_warning(\"'early_stopping_rounds' argument is deprecated and will be removed in a future release of LightGBM. \"\n",
      "C:\\Users\\heeta\\anaconda3\\lib\\site-packages\\lightgbm\\sklearn.py:736: UserWarning: 'verbose' argument is deprecated and will be removed in a future release of LightGBM. Pass 'log_evaluation()' callback via 'callbacks' argument instead.\n",
      "  _log_warning(\"'verbose' argument is deprecated and will be removed in a future release of LightGBM. \"\n"
     ]
    },
    {
     "name": "stdout",
     "output_type": "stream",
     "text": [
      "[100]\tvalid_0's multi_logloss: 3.86155\n",
      "[200]\tvalid_0's multi_logloss: 3.45846\n",
      "[300]\tvalid_0's multi_logloss: 3.26325\n",
      "[400]\tvalid_0's multi_logloss: 3.17813\n",
      "[500]\tvalid_0's multi_logloss: 3.0998\n",
      "[600]\tvalid_0's multi_logloss: 3.0531\n",
      "[700]\tvalid_0's multi_logloss: 3.03309\n",
      "[800]\tvalid_0's multi_logloss: 3.02183\n",
      "[900]\tvalid_0's multi_logloss: 3.01784\n",
      "[1000]\tvalid_0's multi_logloss: 3.01858\n",
      "\n",
      "#3 교차 검증 정확도 : 0.4549,  학습 데이터 크기 : 5805,  검증 데이터 크기 : 1451\n",
      "#3 검증 세트 인덱스 : [ 329  625  708 ... 6267 6365 6416]\n"
     ]
    },
    {
     "name": "stderr",
     "output_type": "stream",
     "text": [
      "C:\\Users\\heeta\\anaconda3\\lib\\site-packages\\lightgbm\\sklearn.py:726: UserWarning: 'early_stopping_rounds' argument is deprecated and will be removed in a future release of LightGBM. Pass 'early_stopping()' callback via 'callbacks' argument instead.\n",
      "  _log_warning(\"'early_stopping_rounds' argument is deprecated and will be removed in a future release of LightGBM. \"\n",
      "C:\\Users\\heeta\\anaconda3\\lib\\site-packages\\lightgbm\\sklearn.py:736: UserWarning: 'verbose' argument is deprecated and will be removed in a future release of LightGBM. Pass 'log_evaluation()' callback via 'callbacks' argument instead.\n",
      "  _log_warning(\"'verbose' argument is deprecated and will be removed in a future release of LightGBM. \"\n"
     ]
    },
    {
     "name": "stdout",
     "output_type": "stream",
     "text": [
      "[100]\tvalid_0's multi_logloss: 3.8862\n",
      "[200]\tvalid_0's multi_logloss: 3.4965\n",
      "[300]\tvalid_0's multi_logloss: 3.3015\n",
      "[400]\tvalid_0's multi_logloss: 3.21785\n",
      "[500]\tvalid_0's multi_logloss: 3.13756\n",
      "[600]\tvalid_0's multi_logloss: 3.09741\n",
      "[700]\tvalid_0's multi_logloss: 3.08144\n",
      "[800]\tvalid_0's multi_logloss: 3.07221\n",
      "[900]\tvalid_0's multi_logloss: 3.06921\n",
      "[1000]\tvalid_0's multi_logloss: 3.0697\n",
      "\n",
      "#4 교차 검증 정확도 : 0.4452,  학습 데이터 크기 : 5805,  검증 데이터 크기 : 1451\n",
      "#4 검증 세트 인덱스 : [1176 1507 1571 ... 6971 6980 7034]\n"
     ]
    },
    {
     "name": "stderr",
     "output_type": "stream",
     "text": [
      "C:\\Users\\heeta\\anaconda3\\lib\\site-packages\\lightgbm\\sklearn.py:726: UserWarning: 'early_stopping_rounds' argument is deprecated and will be removed in a future release of LightGBM. Pass 'early_stopping()' callback via 'callbacks' argument instead.\n",
      "  _log_warning(\"'early_stopping_rounds' argument is deprecated and will be removed in a future release of LightGBM. \"\n",
      "C:\\Users\\heeta\\anaconda3\\lib\\site-packages\\lightgbm\\sklearn.py:736: UserWarning: 'verbose' argument is deprecated and will be removed in a future release of LightGBM. Pass 'log_evaluation()' callback via 'callbacks' argument instead.\n",
      "  _log_warning(\"'verbose' argument is deprecated and will be removed in a future release of LightGBM. \"\n"
     ]
    },
    {
     "name": "stdout",
     "output_type": "stream",
     "text": [
      "[100]\tvalid_0's multi_logloss: 3.89944\n",
      "[200]\tvalid_0's multi_logloss: 3.51402\n",
      "[300]\tvalid_0's multi_logloss: 3.33333\n",
      "[400]\tvalid_0's multi_logloss: 3.26231\n",
      "[500]\tvalid_0's multi_logloss: 3.1851\n",
      "[600]\tvalid_0's multi_logloss: 3.14706\n",
      "[700]\tvalid_0's multi_logloss: 3.13086\n",
      "[800]\tvalid_0's multi_logloss: 3.12231\n",
      "[900]\tvalid_0's multi_logloss: 3.1177\n",
      "[1000]\tvalid_0's multi_logloss: 3.11502\n",
      "\n",
      "#5 교차 검증 정확도 : 0.4356,  학습 데이터 크기 : 5805,  검증 데이터 크기 : 1451\n",
      "#5 검증 세트 인덱스 : [3137 3456 3457 ... 7253 7254 7255]\n",
      "\n",
      "## 평균 검증 정확도: 0.4358000000000001\n"
     ]
    }
   ],
   "source": [
    "#without hyperparameter\n",
    "kfold = StratifiedKFold(n_splits=5)\n",
    "cv_accuracy = []\n",
    "n_iter = 0\n",
    "\n",
    "for train_index, test_index in kfold.split(tr_val_X, tr_val_y):  # feautres 데이터를 위에서 지정한 kfold 숫자로 분할\n",
    "    x_train, x_test = train_no_text_X.iloc[train_index], train_no_text_X.iloc[test_index]\n",
    "    y_train, y_test = train_no_text_y[train_index], train_no_text_y[test_index]\n",
    "    \n",
    "    model_lgbm.fit(x_train, y_train, eval_set=(x_test, y_test), early_stopping_rounds=100, verbose=100)\n",
    "    pred = model_lgbm.predict(x_test)\n",
    "    n_iter += 1\n",
    "    \n",
    "    accuracy = np.round(accuracy_score(y_test, pred), 4) # 소수점 4자리 반올림\n",
    "    train_size = x_train.shape[0]\n",
    "    test_size = x_test.shape[0]\n",
    "    \n",
    "    print('\\n#{0} 교차 검증 정확도 : {1},  학습 데이터 크기 : {2},  검증 데이터 크기 : {3}'\n",
    "          .format(n_iter, accuracy, train_size, test_size))\n",
    "    print('#{0} 검증 세트 인덱스 : {1}'.format(n_iter,test_index))\n",
    "    cv_accuracy.append(accuracy)\n",
    "    \n",
    "print('\\n## 평균 검증 정확도:', np.mean(cv_accuracy))"
   ]
  },
  {
   "cell_type": "code",
   "execution_count": 21,
   "id": "bd36802a",
   "metadata": {},
   "outputs": [],
   "source": [
    "test_no_text['knowcode'] = model_lgbm.predict(test_no_text_X)\n",
    "submission_no_text = test_no_text[['index', 'knowcode']]\n",
    "submission_no_text.to_csv('KNOW_2018_no_text_submission.csv')"
   ]
  },
  {
   "cell_type": "code",
   "execution_count": null,
   "id": "d168d294",
   "metadata": {},
   "outputs": [],
   "source": [
    "params = {\n",
    "    'learning_rate': [0.02, 0.1, 0.05],\n",
    "    'max_depth': [6,8]\n",
    "    \n",
    "}\n",
    "\n",
    "gs = GridSearchCV(estimator=model,\n",
    "                  param_grid = params,\n",
    "                  scoring = 'neg_mean_squared_error', \n",
    "                  cv=kfold)"
   ]
  },
  {
   "cell_type": "code",
   "execution_count": null,
   "id": "2fe2b5e1",
   "metadata": {},
   "outputs": [],
   "source": [
    "gs.fit(train_no_text_X, train_no_text_y)"
   ]
  },
  {
   "cell_type": "code",
   "execution_count": null,
   "id": "f04d1324",
   "metadata": {},
   "outputs": [],
   "source": [
    "print('Hyper Parameter: ', gs.best_params_)"
   ]
  },
  {
   "cell_type": "code",
   "execution_count": null,
   "id": "7061b454",
   "metadata": {},
   "outputs": [],
   "source": [
    "print('cv score with Hyper Parameter', gs.best_score_)"
   ]
  }
 ],
 "metadata": {
  "kernelspec": {
   "display_name": "Python 3",
   "language": "python",
   "name": "python3"
  },
  "language_info": {
   "codemirror_mode": {
    "name": "ipython",
    "version": 3
   },
   "file_extension": ".py",
   "mimetype": "text/x-python",
   "name": "python",
   "nbconvert_exporter": "python",
   "pygments_lexer": "ipython3",
   "version": "3.8.8"
  }
 },
 "nbformat": 4,
 "nbformat_minor": 5
}
