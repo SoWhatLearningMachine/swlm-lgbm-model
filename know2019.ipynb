{
 "cells": [
  {
   "cell_type": "code",
   "execution_count": 1,
   "id": "56f96172",
   "metadata": {},
   "outputs": [],
   "source": [
    "import numpy as np\n",
    "import pandas as pd\n",
    "import matplotlib.pyplot as plt"
   ]
  },
  {
   "cell_type": "code",
   "execution_count": 2,
   "id": "69df8686",
   "metadata": {},
   "outputs": [],
   "source": [
    "import lightgbm as lgb"
   ]
  },
  {
   "cell_type": "code",
   "execution_count": 3,
   "id": "adf27122",
   "metadata": {},
   "outputs": [],
   "source": [
    "from sklearn.model_selection import train_test_split, cross_validate, StratifiedKFold, GridSearchCV"
   ]
  },
  {
   "cell_type": "code",
   "execution_count": 4,
   "id": "f7eebf89",
   "metadata": {},
   "outputs": [],
   "source": [
    "from sklearn.metrics import accuracy_score, classification_report"
   ]
  },
  {
   "cell_type": "code",
   "execution_count": 5,
   "id": "b867757d",
   "metadata": {},
   "outputs": [],
   "source": [
    "train_bert = pd.read_csv('KNOW_2019_train_bert.csv')\n",
    "test_bert = pd.read_csv('KNOW_2019_test_bert.csv')\n",
    "train_tf_idf = pd.read_csv('KNOW_2019_train_tfidf.csv')\n",
    "test_tf_idf = pd.read_csv('KNOW_2019_test_tfidf.csv')\n",
    "train_simcse = pd.read_csv('KNOW_2019_train_simcse.csv')\n",
    "test_simcse = pd.read_csv('KNOW_2019_test_simcse.csv')\n",
    "train_no_text = pd.read_csv('KNOW_2019_train_no_text.csv')\n",
    "test_no_text = pd.read_csv('KNOW_2019_test_no_text.csv')"
   ]
  },
  {
   "cell_type": "markdown",
   "id": "016bd5b5",
   "metadata": {},
   "source": [
    "# bert"
   ]
  },
  {
   "cell_type": "code",
   "execution_count": 7,
   "id": "67a89f5e",
   "metadata": {},
   "outputs": [],
   "source": [
    "train_bert_X, train_bert_y = train_bert.drop('knowcode', axis=1), train_bert.knowcode\n",
    "test_bert_X = test_bert"
   ]
  },
  {
   "cell_type": "code",
   "execution_count": 8,
   "id": "86ef950e",
   "metadata": {},
   "outputs": [],
   "source": [
    "model_lgbm = lgb.LGBMClassifier(n_estimators=1000, max_depth=6, learning_rate=0.02)"
   ]
  },
  {
   "cell_type": "code",
   "execution_count": 9,
   "id": "055762e2",
   "metadata": {},
   "outputs": [],
   "source": [
    "# train/ test data 로 split \n",
    "tr_val_X, test_X, tr_val_y, test_y = train_test_split(\n",
    "    train_bert_X, \n",
    "    train_bert_y, \n",
    "    test_size = 0.2, \n",
    "    random_state = 42,\n",
    "    shuffle=True,\n",
    "    stratify = train_bert_y # Classification 중요 option\n",
    ")"
   ]
  },
  {
   "cell_type": "code",
   "execution_count": 10,
   "id": "169f367d",
   "metadata": {
    "scrolled": false
   },
   "outputs": [
    {
     "name": "stderr",
     "output_type": "stream",
     "text": [
      "C:\\Users\\heeta\\anaconda3\\lib\\site-packages\\sklearn\\model_selection\\_split.py:666: UserWarning: The least populated class in y has only 3 members, which is less than n_splits=5.\n",
      "  warnings.warn((\"The least populated class in y has only %d\"\n",
      "C:\\Users\\heeta\\anaconda3\\lib\\site-packages\\lightgbm\\sklearn.py:726: UserWarning: 'early_stopping_rounds' argument is deprecated and will be removed in a future release of LightGBM. Pass 'early_stopping()' callback via 'callbacks' argument instead.\n",
      "  _log_warning(\"'early_stopping_rounds' argument is deprecated and will be removed in a future release of LightGBM. \"\n",
      "C:\\Users\\heeta\\anaconda3\\lib\\site-packages\\lightgbm\\sklearn.py:736: UserWarning: 'verbose' argument is deprecated and will be removed in a future release of LightGBM. Pass 'log_evaluation()' callback via 'callbacks' argument instead.\n",
      "  _log_warning(\"'verbose' argument is deprecated and will be removed in a future release of LightGBM. \"\n"
     ]
    },
    {
     "name": "stdout",
     "output_type": "stream",
     "text": [
      "[100]\tvalid_0's multi_logloss: 3.76208\n",
      "[200]\tvalid_0's multi_logloss: 3.38448\n",
      "[300]\tvalid_0's multi_logloss: 3.13114\n",
      "[400]\tvalid_0's multi_logloss: 3.10134\n",
      "[500]\tvalid_0's multi_logloss: 3.09645\n",
      "[600]\tvalid_0's multi_logloss: 3.09454\n",
      "[700]\tvalid_0's multi_logloss: 3.09347\n",
      "[800]\tvalid_0's multi_logloss: 3.09317\n",
      "[900]\tvalid_0's multi_logloss: 3.09293\n",
      "[1000]\tvalid_0's multi_logloss: 3.09287\n",
      "\n",
      "#1 교차 검증 정확도 : 0.4335,  학습 데이터 크기 : 5472,  검증 데이터 크기 : 1368\n",
      "#1 검증 세트 인덱스 : [   0    1    2 ... 3208 3351 3574]\n"
     ]
    },
    {
     "name": "stderr",
     "output_type": "stream",
     "text": [
      "C:\\Users\\heeta\\anaconda3\\lib\\site-packages\\lightgbm\\sklearn.py:726: UserWarning: 'early_stopping_rounds' argument is deprecated and will be removed in a future release of LightGBM. Pass 'early_stopping()' callback via 'callbacks' argument instead.\n",
      "  _log_warning(\"'early_stopping_rounds' argument is deprecated and will be removed in a future release of LightGBM. \"\n",
      "C:\\Users\\heeta\\anaconda3\\lib\\site-packages\\lightgbm\\sklearn.py:736: UserWarning: 'verbose' argument is deprecated and will be removed in a future release of LightGBM. Pass 'log_evaluation()' callback via 'callbacks' argument instead.\n",
      "  _log_warning(\"'verbose' argument is deprecated and will be removed in a future release of LightGBM. \"\n"
     ]
    },
    {
     "name": "stdout",
     "output_type": "stream",
     "text": [
      "[100]\tvalid_0's multi_logloss: 3.66027\n",
      "[200]\tvalid_0's multi_logloss: 3.26509\n",
      "[300]\tvalid_0's multi_logloss: 3.01518\n",
      "[400]\tvalid_0's multi_logloss: 2.98821\n",
      "[500]\tvalid_0's multi_logloss: 2.9876\n",
      "\n",
      "#2 교차 검증 정확도 : 0.4444,  학습 데이터 크기 : 5472,  검증 데이터 크기 : 1368\n",
      "#2 검증 세트 인덱스 : [ 105  185  239 ... 4970 5093 5198]\n"
     ]
    },
    {
     "name": "stderr",
     "output_type": "stream",
     "text": [
      "C:\\Users\\heeta\\anaconda3\\lib\\site-packages\\lightgbm\\sklearn.py:726: UserWarning: 'early_stopping_rounds' argument is deprecated and will be removed in a future release of LightGBM. Pass 'early_stopping()' callback via 'callbacks' argument instead.\n",
      "  _log_warning(\"'early_stopping_rounds' argument is deprecated and will be removed in a future release of LightGBM. \"\n",
      "C:\\Users\\heeta\\anaconda3\\lib\\site-packages\\lightgbm\\sklearn.py:736: UserWarning: 'verbose' argument is deprecated and will be removed in a future release of LightGBM. Pass 'log_evaluation()' callback via 'callbacks' argument instead.\n",
      "  _log_warning(\"'verbose' argument is deprecated and will be removed in a future release of LightGBM. \"\n"
     ]
    },
    {
     "name": "stdout",
     "output_type": "stream",
     "text": [
      "[100]\tvalid_0's multi_logloss: 3.64051\n",
      "[200]\tvalid_0's multi_logloss: 3.26928\n",
      "[300]\tvalid_0's multi_logloss: 3.04434\n",
      "[400]\tvalid_0's multi_logloss: 3.01679\n",
      "[500]\tvalid_0's multi_logloss: 3.01688\n",
      "\n",
      "#3 교차 검증 정확도 : 0.4518,  학습 데이터 크기 : 5472,  검증 데이터 크기 : 1368\n",
      "#3 검증 세트 인덱스 : [ 443  447  619 ... 6010 6070 6231]\n"
     ]
    },
    {
     "name": "stderr",
     "output_type": "stream",
     "text": [
      "C:\\Users\\heeta\\anaconda3\\lib\\site-packages\\lightgbm\\sklearn.py:726: UserWarning: 'early_stopping_rounds' argument is deprecated and will be removed in a future release of LightGBM. Pass 'early_stopping()' callback via 'callbacks' argument instead.\n",
      "  _log_warning(\"'early_stopping_rounds' argument is deprecated and will be removed in a future release of LightGBM. \"\n",
      "C:\\Users\\heeta\\anaconda3\\lib\\site-packages\\lightgbm\\sklearn.py:736: UserWarning: 'verbose' argument is deprecated and will be removed in a future release of LightGBM. Pass 'log_evaluation()' callback via 'callbacks' argument instead.\n",
      "  _log_warning(\"'verbose' argument is deprecated and will be removed in a future release of LightGBM. \"\n"
     ]
    },
    {
     "name": "stdout",
     "output_type": "stream",
     "text": [
      "[100]\tvalid_0's multi_logloss: 3.5859\n",
      "[200]\tvalid_0's multi_logloss: 3.23231\n",
      "[300]\tvalid_0's multi_logloss: 3.00273\n",
      "[400]\tvalid_0's multi_logloss: 2.97664\n",
      "[500]\tvalid_0's multi_logloss: 2.97644\n",
      "\n",
      "#4 교차 검증 정확도 : 0.4481,  학습 데이터 크기 : 5472,  검증 데이터 크기 : 1368\n",
      "#4 검증 세트 인덱스 : [1315 1667 1807 ... 6508 6629 6690]\n"
     ]
    },
    {
     "name": "stderr",
     "output_type": "stream",
     "text": [
      "C:\\Users\\heeta\\anaconda3\\lib\\site-packages\\lightgbm\\sklearn.py:726: UserWarning: 'early_stopping_rounds' argument is deprecated and will be removed in a future release of LightGBM. Pass 'early_stopping()' callback via 'callbacks' argument instead.\n",
      "  _log_warning(\"'early_stopping_rounds' argument is deprecated and will be removed in a future release of LightGBM. \"\n",
      "C:\\Users\\heeta\\anaconda3\\lib\\site-packages\\lightgbm\\sklearn.py:736: UserWarning: 'verbose' argument is deprecated and will be removed in a future release of LightGBM. Pass 'log_evaluation()' callback via 'callbacks' argument instead.\n",
      "  _log_warning(\"'verbose' argument is deprecated and will be removed in a future release of LightGBM. \"\n"
     ]
    },
    {
     "name": "stdout",
     "output_type": "stream",
     "text": [
      "[100]\tvalid_0's multi_logloss: 3.69509\n",
      "[200]\tvalid_0's multi_logloss: 3.32198\n",
      "[300]\tvalid_0's multi_logloss: 3.07975\n",
      "[400]\tvalid_0's multi_logloss: 3.04493\n",
      "[500]\tvalid_0's multi_logloss: 3.04006\n",
      "[600]\tvalid_0's multi_logloss: 3.03879\n",
      "[700]\tvalid_0's multi_logloss: 3.03831\n",
      "\n",
      "#5 교차 검증 정확도 : 0.4408,  학습 데이터 크기 : 5472,  검증 데이터 크기 : 1368\n",
      "#5 검증 세트 인덱스 : [2451 2777 2931 ... 6837 6838 6839]\n",
      "\n",
      "## 평균 검증 정확도: 0.44372\n"
     ]
    }
   ],
   "source": [
    "kfold = StratifiedKFold(n_splits=5)\n",
    "cv_accuracy = []\n",
    "n_iter = 0\n",
    "\n",
    "for train_index, test_index in kfold.split(tr_val_X, tr_val_y):  # feautres 데이터를 위에서 지정한 kfold 숫자로 분할\n",
    "    x_train, x_test = train_bert_X.iloc[train_index], train_bert_X.iloc[test_index]\n",
    "    y_train, y_test = train_bert_y[train_index], train_bert_y[test_index]\n",
    "    \n",
    "    model_lgbm.fit(x_train, y_train, eval_set=(x_test, y_test), early_stopping_rounds=100, verbose=100)\n",
    "    pred = model_lgbm.predict(x_test)\n",
    "    n_iter += 1\n",
    "    \n",
    "    accuracy = np.round(accuracy_score(y_test, pred), 4) # 소수점 4자리 반올림\n",
    "    train_size = x_train.shape[0]\n",
    "    test_size = x_test.shape[0]\n",
    "    \n",
    "    print('\\n#{0} 교차 검증 정확도 : {1},  학습 데이터 크기 : {2},  검증 데이터 크기 : {3}'\n",
    "          .format(n_iter, accuracy, train_size, test_size))\n",
    "    print('#{0} 검증 세트 인덱스 : {1}'.format(n_iter,test_index))\n",
    "    cv_accuracy.append(accuracy)\n",
    "    \n",
    "print('\\n## 평균 검증 정확도:', np.mean(cv_accuracy))"
   ]
  },
  {
   "cell_type": "code",
   "execution_count": 11,
   "id": "9de9728b",
   "metadata": {},
   "outputs": [],
   "source": [
    "test_bert['knowcode'] = model_lgbm.predict(test_bert_X)\n",
    "submission_bert = test_bert[['index', 'knowcode']]\n",
    "submission_bert.to_csv('KNOW_2019_bert_submission.csv')"
   ]
  },
  {
   "cell_type": "code",
   "execution_count": null,
   "id": "d168d294",
   "metadata": {},
   "outputs": [],
   "source": [
    "params = {\n",
    "    'learning_rate': [0.02, 0.1, 0.05],\n",
    "    'max_depth': [6,8]\n",
    "    \n",
    "}\n",
    "\n",
    "gs = GridSearchCV(estimator=model,\n",
    "                  param_grid = params,\n",
    "                  scoring = 'neg_mean_squared_error', \n",
    "                  cv=kfold)"
   ]
  },
  {
   "cell_type": "code",
   "execution_count": null,
   "id": "2fe2b5e1",
   "metadata": {},
   "outputs": [],
   "source": [
    "gs.fit(train_bert_X, train_bert_y)"
   ]
  },
  {
   "cell_type": "code",
   "execution_count": null,
   "id": "f04d1324",
   "metadata": {},
   "outputs": [],
   "source": [
    "print('Hyper Parameter: ', gs.best_params_)"
   ]
  },
  {
   "cell_type": "code",
   "execution_count": null,
   "id": "7061b454",
   "metadata": {},
   "outputs": [],
   "source": [
    "print('cv score with Hyper Parameter', gs.best_score_)"
   ]
  },
  {
   "cell_type": "markdown",
   "id": "f0a84ae5",
   "metadata": {},
   "source": [
    "# simcse"
   ]
  },
  {
   "cell_type": "code",
   "execution_count": 18,
   "id": "c00c86a3",
   "metadata": {
    "scrolled": true
   },
   "outputs": [],
   "source": [
    "train_simcse_X, train_simcse_y = train_simcse.drop(['knowcode', 'index'], axis=1), train_simcse.knowcode\n",
    "test_simcse_X = test_simcse.drop('index', axis=1)"
   ]
  },
  {
   "cell_type": "code",
   "execution_count": 19,
   "id": "3dc99c24",
   "metadata": {},
   "outputs": [],
   "source": [
    "model_lgbm = lgb.LGBMClassifier(n_estimators=1000, max_depth=12, learning_rate=0.02, num_leaves=40)"
   ]
  },
  {
   "cell_type": "code",
   "execution_count": 20,
   "id": "55ea7356",
   "metadata": {},
   "outputs": [],
   "source": [
    "# train/ test data 로 split \n",
    "tr_val_X, test_X, tr_val_y, test_y = train_test_split(\n",
    "    train_simcse_X, \n",
    "    train_simcse_y, \n",
    "    test_size = 0.2, \n",
    "    random_state = 42,\n",
    "    shuffle=True,\n",
    "    stratify = train_simcse_y # Classification 중요 option\n",
    ")"
   ]
  },
  {
   "cell_type": "code",
   "execution_count": 21,
   "id": "7236a14e",
   "metadata": {
    "scrolled": false
   },
   "outputs": [
    {
     "name": "stderr",
     "output_type": "stream",
     "text": [
      "C:\\Users\\heeta\\anaconda3\\lib\\site-packages\\sklearn\\model_selection\\_split.py:666: UserWarning: The least populated class in y has only 3 members, which is less than n_splits=5.\n",
      "  warnings.warn((\"The least populated class in y has only %d\"\n",
      "C:\\Users\\heeta\\anaconda3\\lib\\site-packages\\lightgbm\\sklearn.py:726: UserWarning: 'early_stopping_rounds' argument is deprecated and will be removed in a future release of LightGBM. Pass 'early_stopping()' callback via 'callbacks' argument instead.\n",
      "  _log_warning(\"'early_stopping_rounds' argument is deprecated and will be removed in a future release of LightGBM. \"\n",
      "C:\\Users\\heeta\\anaconda3\\lib\\site-packages\\lightgbm\\sklearn.py:736: UserWarning: 'verbose' argument is deprecated and will be removed in a future release of LightGBM. Pass 'log_evaluation()' callback via 'callbacks' argument instead.\n",
      "  _log_warning(\"'verbose' argument is deprecated and will be removed in a future release of LightGBM. \"\n"
     ]
    },
    {
     "name": "stdout",
     "output_type": "stream",
     "text": [
      "[100]\tvalid_0's multi_logloss: 3.51064\n",
      "[200]\tvalid_0's multi_logloss: 3.17603\n",
      "[300]\tvalid_0's multi_logloss: 2.97566\n",
      "[400]\tvalid_0's multi_logloss: 2.95545\n",
      "[500]\tvalid_0's multi_logloss: 2.95102\n",
      "[600]\tvalid_0's multi_logloss: 2.9493\n",
      "[700]\tvalid_0's multi_logloss: 2.94825\n",
      "[800]\tvalid_0's multi_logloss: 2.94757\n",
      "[900]\tvalid_0's multi_logloss: 2.94729\n",
      "[1000]\tvalid_0's multi_logloss: 2.94714\n",
      "\n",
      "#1 교차 검증 정확도 : 0.4642,  학습 데이터 크기 : 5472,  검증 데이터 크기 : 1368\n",
      "#1 검증 세트 인덱스 : [   0    1    2 ... 3208 3351 3574]\n"
     ]
    },
    {
     "name": "stderr",
     "output_type": "stream",
     "text": [
      "C:\\Users\\heeta\\anaconda3\\lib\\site-packages\\lightgbm\\sklearn.py:726: UserWarning: 'early_stopping_rounds' argument is deprecated and will be removed in a future release of LightGBM. Pass 'early_stopping()' callback via 'callbacks' argument instead.\n",
      "  _log_warning(\"'early_stopping_rounds' argument is deprecated and will be removed in a future release of LightGBM. \"\n",
      "C:\\Users\\heeta\\anaconda3\\lib\\site-packages\\lightgbm\\sklearn.py:736: UserWarning: 'verbose' argument is deprecated and will be removed in a future release of LightGBM. Pass 'log_evaluation()' callback via 'callbacks' argument instead.\n",
      "  _log_warning(\"'verbose' argument is deprecated and will be removed in a future release of LightGBM. \"\n"
     ]
    },
    {
     "name": "stdout",
     "output_type": "stream",
     "text": [
      "[100]\tvalid_0's multi_logloss: 3.475\n",
      "[200]\tvalid_0's multi_logloss: 3.09279\n",
      "[300]\tvalid_0's multi_logloss: 2.85675\n",
      "[400]\tvalid_0's multi_logloss: 2.84041\n",
      "[500]\tvalid_0's multi_logloss: 2.83821\n",
      "[600]\tvalid_0's multi_logloss: 2.83811\n",
      "\n",
      "#2 교차 검증 정확도 : 0.47,  학습 데이터 크기 : 5472,  검증 데이터 크기 : 1368\n",
      "#2 검증 세트 인덱스 : [ 105  185  239 ... 4970 5093 5198]\n"
     ]
    },
    {
     "name": "stderr",
     "output_type": "stream",
     "text": [
      "C:\\Users\\heeta\\anaconda3\\lib\\site-packages\\lightgbm\\sklearn.py:726: UserWarning: 'early_stopping_rounds' argument is deprecated and will be removed in a future release of LightGBM. Pass 'early_stopping()' callback via 'callbacks' argument instead.\n",
      "  _log_warning(\"'early_stopping_rounds' argument is deprecated and will be removed in a future release of LightGBM. \"\n",
      "C:\\Users\\heeta\\anaconda3\\lib\\site-packages\\lightgbm\\sklearn.py:736: UserWarning: 'verbose' argument is deprecated and will be removed in a future release of LightGBM. Pass 'log_evaluation()' callback via 'callbacks' argument instead.\n",
      "  _log_warning(\"'verbose' argument is deprecated and will be removed in a future release of LightGBM. \"\n"
     ]
    },
    {
     "name": "stdout",
     "output_type": "stream",
     "text": [
      "[100]\tvalid_0's multi_logloss: 3.45398\n",
      "[200]\tvalid_0's multi_logloss: 3.06177\n",
      "[300]\tvalid_0's multi_logloss: 2.82626\n",
      "[400]\tvalid_0's multi_logloss: 2.80467\n",
      "[500]\tvalid_0's multi_logloss: 2.80381\n",
      "[600]\tvalid_0's multi_logloss: 2.80377\n",
      "\n",
      "#3 교차 검증 정확도 : 0.4868,  학습 데이터 크기 : 5472,  검증 데이터 크기 : 1368\n",
      "#3 검증 세트 인덱스 : [ 443  447  619 ... 6010 6070 6231]\n"
     ]
    },
    {
     "name": "stderr",
     "output_type": "stream",
     "text": [
      "C:\\Users\\heeta\\anaconda3\\lib\\site-packages\\lightgbm\\sklearn.py:726: UserWarning: 'early_stopping_rounds' argument is deprecated and will be removed in a future release of LightGBM. Pass 'early_stopping()' callback via 'callbacks' argument instead.\n",
      "  _log_warning(\"'early_stopping_rounds' argument is deprecated and will be removed in a future release of LightGBM. \"\n",
      "C:\\Users\\heeta\\anaconda3\\lib\\site-packages\\lightgbm\\sklearn.py:736: UserWarning: 'verbose' argument is deprecated and will be removed in a future release of LightGBM. Pass 'log_evaluation()' callback via 'callbacks' argument instead.\n",
      "  _log_warning(\"'verbose' argument is deprecated and will be removed in a future release of LightGBM. \"\n"
     ]
    },
    {
     "name": "stdout",
     "output_type": "stream",
     "text": [
      "[100]\tvalid_0's multi_logloss: 3.36641\n",
      "[200]\tvalid_0's multi_logloss: 3.02514\n",
      "[300]\tvalid_0's multi_logloss: 2.81736\n",
      "[400]\tvalid_0's multi_logloss: 2.80111\n",
      "[500]\tvalid_0's multi_logloss: 2.80096\n",
      "[600]\tvalid_0's multi_logloss: 2.80131\n",
      "\n",
      "#4 교차 검증 정확도 : 0.4963,  학습 데이터 크기 : 5472,  검증 데이터 크기 : 1368\n",
      "#4 검증 세트 인덱스 : [1315 1667 1807 ... 6508 6629 6690]\n"
     ]
    },
    {
     "name": "stderr",
     "output_type": "stream",
     "text": [
      "C:\\Users\\heeta\\anaconda3\\lib\\site-packages\\lightgbm\\sklearn.py:726: UserWarning: 'early_stopping_rounds' argument is deprecated and will be removed in a future release of LightGBM. Pass 'early_stopping()' callback via 'callbacks' argument instead.\n",
      "  _log_warning(\"'early_stopping_rounds' argument is deprecated and will be removed in a future release of LightGBM. \"\n",
      "C:\\Users\\heeta\\anaconda3\\lib\\site-packages\\lightgbm\\sklearn.py:736: UserWarning: 'verbose' argument is deprecated and will be removed in a future release of LightGBM. Pass 'log_evaluation()' callback via 'callbacks' argument instead.\n",
      "  _log_warning(\"'verbose' argument is deprecated and will be removed in a future release of LightGBM. \"\n"
     ]
    },
    {
     "name": "stdout",
     "output_type": "stream",
     "text": [
      "[100]\tvalid_0's multi_logloss: 3.49966\n",
      "[200]\tvalid_0's multi_logloss: 3.14386\n",
      "[300]\tvalid_0's multi_logloss: 2.92729\n",
      "[400]\tvalid_0's multi_logloss: 2.90413\n",
      "[500]\tvalid_0's multi_logloss: 2.90009\n",
      "\n",
      "#5 교차 검증 정확도 : 0.4722,  학습 데이터 크기 : 5472,  검증 데이터 크기 : 1368\n",
      "#5 검증 세트 인덱스 : [2451 2777 2931 ... 6837 6838 6839]\n",
      "\n",
      "## 평균 검증 정확도: 0.4779\n"
     ]
    }
   ],
   "source": [
    "kfold = StratifiedKFold(n_splits=5)\n",
    "cv_accuracy = []\n",
    "n_iter = 0\n",
    "\n",
    "for train_index, test_index in kfold.split(tr_val_X, tr_val_y):  # feautres 데이터를 위에서 지정한 kfold 숫자로 분할\n",
    "    x_train, x_test = train_simcse_X.iloc[train_index], train_simcse_X.iloc[test_index]\n",
    "    y_train, y_test = train_simcse_y[train_index], train_simcse_y[test_index]\n",
    "    \n",
    "    model_lgbm.fit(x_train, y_train, eval_set=(x_test, y_test), early_stopping_rounds=100, verbose=100)\n",
    "    pred = model_lgbm.predict(x_test)\n",
    "    n_iter += 1\n",
    "    \n",
    "    accuracy = np.round(accuracy_score(y_test, pred), 4) # 소수점 4자리 반올림\n",
    "    train_size = x_train.shape[0]\n",
    "    test_size = x_test.shape[0]\n",
    "    \n",
    "    print('\\n#{0} 교차 검증 정확도 : {1},  학습 데이터 크기 : {2},  검증 데이터 크기 : {3}'\n",
    "          .format(n_iter, accuracy, train_size, test_size))\n",
    "    print('#{0} 검증 세트 인덱스 : {1}'.format(n_iter,test_index))\n",
    "    cv_accuracy.append(accuracy)\n",
    "    \n",
    "print('\\n## 평균 검증 정확도:', np.mean(cv_accuracy))"
   ]
  },
  {
   "cell_type": "code",
   "execution_count": 22,
   "id": "da669513",
   "metadata": {},
   "outputs": [],
   "source": [
    "test_simcse['knowcode'] = model_lgbm.predict(test_simcse_X)\n",
    "submission_simcse = test_simcse[['index', 'knowcode']]\n",
    "submission_simcse.to_csv('KNOW_2019_simcse_submission.csv')"
   ]
  },
  {
   "cell_type": "code",
   "execution_count": null,
   "id": "281e9229",
   "metadata": {},
   "outputs": [],
   "source": [
    "params = {\n",
    "    'learning_rate': [0.02, 0.1, 0.05],\n",
    "    'max_depth': [6,8]\n",
    "    \n",
    "}\n",
    "\n",
    "gs = GridSearchCV(estimator=model,\n",
    "                  param_grid = params,\n",
    "                  scoring = 'neg_mean_squared_error', \n",
    "                  cv=kfold)"
   ]
  },
  {
   "cell_type": "code",
   "execution_count": null,
   "id": "88a1c69a",
   "metadata": {},
   "outputs": [],
   "source": [
    "gs.fit(train_simcse_X, train_simcse_y)"
   ]
  },
  {
   "cell_type": "code",
   "execution_count": null,
   "id": "c2460ca2",
   "metadata": {},
   "outputs": [],
   "source": [
    "print('Hyper Parameter: ', gs.best_params_)"
   ]
  },
  {
   "cell_type": "code",
   "execution_count": null,
   "id": "31fb838d",
   "metadata": {},
   "outputs": [],
   "source": [
    "print('cv score with Hyper Parameter', gs.best_score_)"
   ]
  },
  {
   "cell_type": "markdown",
   "id": "f091dc16",
   "metadata": {},
   "source": [
    "# tf_idf"
   ]
  },
  {
   "cell_type": "code",
   "execution_count": 33,
   "id": "75b57f7f",
   "metadata": {
    "scrolled": true
   },
   "outputs": [],
   "source": [
    "tf_idf_without_knowcode = train_tf_idf.drop(columns=['knowcode'], inplace=False)"
   ]
  },
  {
   "cell_type": "code",
   "execution_count": 34,
   "id": "0b5d680f",
   "metadata": {},
   "outputs": [],
   "source": [
    "test_tf_idf = test_tf_idf[tf_idf_without_knowcode.columns]"
   ]
  },
  {
   "cell_type": "code",
   "execution_count": 35,
   "id": "a16dbf50",
   "metadata": {},
   "outputs": [],
   "source": [
    "train_tf_idf_X, train_tf_idf_y = train_tf_idf.drop(['knowcode', 'index'], axis=1), train_tf_idf.knowcode\n",
    "test_tf_idf_X = test_tf_idf.drop('index', axis=1)"
   ]
  },
  {
   "cell_type": "code",
   "execution_count": 36,
   "id": "d13ea636",
   "metadata": {},
   "outputs": [],
   "source": [
    "model_lgbm = lgb.LGBMClassifier(n_estimators=1000, learning_rate=0.02, max_depth=8)"
   ]
  },
  {
   "cell_type": "code",
   "execution_count": 37,
   "id": "67f65180",
   "metadata": {},
   "outputs": [],
   "source": [
    "# train/ test data 로 split \n",
    "tr_val_X, test_X, tr_val_y, test_y = train_test_split(\n",
    "    train_tf_idf_X, \n",
    "    train_tf_idf_y, \n",
    "    test_size = 0.2, \n",
    "    random_state = 42,\n",
    "    shuffle=True,\n",
    "    stratify = train_tf_idf_y # Classification 중요 option\n",
    ")"
   ]
  },
  {
   "cell_type": "code",
   "execution_count": 38,
   "id": "bea8fa9b",
   "metadata": {
    "scrolled": true
   },
   "outputs": [
    {
     "name": "stderr",
     "output_type": "stream",
     "text": [
      "C:\\Users\\heeta\\anaconda3\\lib\\site-packages\\sklearn\\model_selection\\_split.py:666: UserWarning: The least populated class in y has only 3 members, which is less than n_splits=5.\n",
      "  warnings.warn((\"The least populated class in y has only %d\"\n",
      "C:\\Users\\heeta\\anaconda3\\lib\\site-packages\\lightgbm\\sklearn.py:726: UserWarning: 'early_stopping_rounds' argument is deprecated and will be removed in a future release of LightGBM. Pass 'early_stopping()' callback via 'callbacks' argument instead.\n",
      "  _log_warning(\"'early_stopping_rounds' argument is deprecated and will be removed in a future release of LightGBM. \"\n",
      "C:\\Users\\heeta\\anaconda3\\lib\\site-packages\\lightgbm\\sklearn.py:736: UserWarning: 'verbose' argument is deprecated and will be removed in a future release of LightGBM. Pass 'log_evaluation()' callback via 'callbacks' argument instead.\n",
      "  _log_warning(\"'verbose' argument is deprecated and will be removed in a future release of LightGBM. \"\n"
     ]
    },
    {
     "name": "stdout",
     "output_type": "stream",
     "text": [
      "[100]\tvalid_0's multi_logloss: 3.50234\n",
      "[200]\tvalid_0's multi_logloss: 3.16795\n",
      "[300]\tvalid_0's multi_logloss: 2.94907\n",
      "[400]\tvalid_0's multi_logloss: 2.90648\n",
      "[500]\tvalid_0's multi_logloss: 2.90103\n",
      "[600]\tvalid_0's multi_logloss: 2.89825\n",
      "[700]\tvalid_0's multi_logloss: 2.89673\n",
      "[800]\tvalid_0's multi_logloss: 2.89551\n",
      "[900]\tvalid_0's multi_logloss: 2.89484\n",
      "[1000]\tvalid_0's multi_logloss: 2.89431\n",
      "\n",
      "#1 교차 검증 정확도 : 0.443,  학습 데이터 크기 : 5472,  검증 데이터 크기 : 1368\n",
      "#1 검증 세트 인덱스 : [   0    1    2 ... 3208 3351 3574]\n"
     ]
    },
    {
     "name": "stderr",
     "output_type": "stream",
     "text": [
      "C:\\Users\\heeta\\anaconda3\\lib\\site-packages\\lightgbm\\sklearn.py:726: UserWarning: 'early_stopping_rounds' argument is deprecated and will be removed in a future release of LightGBM. Pass 'early_stopping()' callback via 'callbacks' argument instead.\n",
      "  _log_warning(\"'early_stopping_rounds' argument is deprecated and will be removed in a future release of LightGBM. \"\n",
      "C:\\Users\\heeta\\anaconda3\\lib\\site-packages\\lightgbm\\sklearn.py:736: UserWarning: 'verbose' argument is deprecated and will be removed in a future release of LightGBM. Pass 'log_evaluation()' callback via 'callbacks' argument instead.\n",
      "  _log_warning(\"'verbose' argument is deprecated and will be removed in a future release of LightGBM. \"\n"
     ]
    },
    {
     "name": "stdout",
     "output_type": "stream",
     "text": [
      "[100]\tvalid_0's multi_logloss: 3.40588\n",
      "[200]\tvalid_0's multi_logloss: 3.07792\n",
      "[300]\tvalid_0's multi_logloss: 2.86142\n",
      "[400]\tvalid_0's multi_logloss: 2.81761\n",
      "[500]\tvalid_0's multi_logloss: 2.8102\n",
      "[600]\tvalid_0's multi_logloss: 2.80641\n",
      "[700]\tvalid_0's multi_logloss: 2.80433\n",
      "[800]\tvalid_0's multi_logloss: 2.80376\n",
      "[900]\tvalid_0's multi_logloss: 2.80308\n",
      "[1000]\tvalid_0's multi_logloss: 2.80303\n",
      "\n",
      "#2 교차 검증 정확도 : 0.462,  학습 데이터 크기 : 5472,  검증 데이터 크기 : 1368\n",
      "#2 검증 세트 인덱스 : [ 105  185  239 ... 4970 5093 5198]\n"
     ]
    },
    {
     "name": "stderr",
     "output_type": "stream",
     "text": [
      "C:\\Users\\heeta\\anaconda3\\lib\\site-packages\\lightgbm\\sklearn.py:726: UserWarning: 'early_stopping_rounds' argument is deprecated and will be removed in a future release of LightGBM. Pass 'early_stopping()' callback via 'callbacks' argument instead.\n",
      "  _log_warning(\"'early_stopping_rounds' argument is deprecated and will be removed in a future release of LightGBM. \"\n",
      "C:\\Users\\heeta\\anaconda3\\lib\\site-packages\\lightgbm\\sklearn.py:736: UserWarning: 'verbose' argument is deprecated and will be removed in a future release of LightGBM. Pass 'log_evaluation()' callback via 'callbacks' argument instead.\n",
      "  _log_warning(\"'verbose' argument is deprecated and will be removed in a future release of LightGBM. \"\n"
     ]
    },
    {
     "name": "stdout",
     "output_type": "stream",
     "text": [
      "[100]\tvalid_0's multi_logloss: 3.38672\n",
      "[200]\tvalid_0's multi_logloss: 3.103\n",
      "[300]\tvalid_0's multi_logloss: 2.90897\n",
      "[400]\tvalid_0's multi_logloss: 2.86758\n",
      "[500]\tvalid_0's multi_logloss: 2.86465\n",
      "[600]\tvalid_0's multi_logloss: 2.86454\n",
      "[700]\tvalid_0's multi_logloss: 2.86389\n",
      "[800]\tvalid_0's multi_logloss: 2.86401\n",
      "\n",
      "#3 교차 검증 정확도 : 0.4576,  학습 데이터 크기 : 5472,  검증 데이터 크기 : 1368\n",
      "#3 검증 세트 인덱스 : [ 443  447  619 ... 6010 6070 6231]\n"
     ]
    },
    {
     "name": "stderr",
     "output_type": "stream",
     "text": [
      "C:\\Users\\heeta\\anaconda3\\lib\\site-packages\\lightgbm\\sklearn.py:726: UserWarning: 'early_stopping_rounds' argument is deprecated and will be removed in a future release of LightGBM. Pass 'early_stopping()' callback via 'callbacks' argument instead.\n",
      "  _log_warning(\"'early_stopping_rounds' argument is deprecated and will be removed in a future release of LightGBM. \"\n",
      "C:\\Users\\heeta\\anaconda3\\lib\\site-packages\\lightgbm\\sklearn.py:736: UserWarning: 'verbose' argument is deprecated and will be removed in a future release of LightGBM. Pass 'log_evaluation()' callback via 'callbacks' argument instead.\n",
      "  _log_warning(\"'verbose' argument is deprecated and will be removed in a future release of LightGBM. \"\n"
     ]
    },
    {
     "name": "stdout",
     "output_type": "stream",
     "text": [
      "[100]\tvalid_0's multi_logloss: 3.33627\n",
      "[200]\tvalid_0's multi_logloss: 3.03659\n",
      "[300]\tvalid_0's multi_logloss: 2.83678\n",
      "[400]\tvalid_0's multi_logloss: 2.80658\n",
      "[500]\tvalid_0's multi_logloss: 2.80248\n",
      "\n",
      "#4 교차 검증 정확도 : 0.4649,  학습 데이터 크기 : 5472,  검증 데이터 크기 : 1368\n",
      "#4 검증 세트 인덱스 : [1315 1667 1807 ... 6508 6629 6690]\n"
     ]
    },
    {
     "name": "stderr",
     "output_type": "stream",
     "text": [
      "C:\\Users\\heeta\\anaconda3\\lib\\site-packages\\lightgbm\\sklearn.py:726: UserWarning: 'early_stopping_rounds' argument is deprecated and will be removed in a future release of LightGBM. Pass 'early_stopping()' callback via 'callbacks' argument instead.\n",
      "  _log_warning(\"'early_stopping_rounds' argument is deprecated and will be removed in a future release of LightGBM. \"\n",
      "C:\\Users\\heeta\\anaconda3\\lib\\site-packages\\lightgbm\\sklearn.py:736: UserWarning: 'verbose' argument is deprecated and will be removed in a future release of LightGBM. Pass 'log_evaluation()' callback via 'callbacks' argument instead.\n",
      "  _log_warning(\"'verbose' argument is deprecated and will be removed in a future release of LightGBM. \"\n"
     ]
    },
    {
     "name": "stdout",
     "output_type": "stream",
     "text": [
      "[100]\tvalid_0's multi_logloss: 3.40398\n",
      "[200]\tvalid_0's multi_logloss: 3.07102\n",
      "[300]\tvalid_0's multi_logloss: 2.84887\n",
      "[400]\tvalid_0's multi_logloss: 2.80283\n",
      "[500]\tvalid_0's multi_logloss: 2.79502\n",
      "[600]\tvalid_0's multi_logloss: 2.7946\n",
      "\n",
      "#5 교차 검증 정확도 : 0.4803,  학습 데이터 크기 : 5472,  검증 데이터 크기 : 1368\n",
      "#5 검증 세트 인덱스 : [2451 2777 2931 ... 6837 6838 6839]\n",
      "\n",
      "## 평균 검증 정확도: 0.4615600000000001\n"
     ]
    }
   ],
   "source": [
    "kfold = StratifiedKFold(n_splits=5)\n",
    "cv_accuracy = []\n",
    "n_iter = 0\n",
    "\n",
    "for train_index, test_index in kfold.split(tr_val_X, tr_val_y):  # feautres 데이터를 위에서 지정한 kfold 숫자로 분할\n",
    "    x_train, x_test = train_tf_idf_X.iloc[train_index], train_tf_idf_X.iloc[test_index]\n",
    "    y_train, y_test = train_tf_idf_y[train_index], train_tf_idf_y[test_index]\n",
    "    \n",
    "    model_lgbm.fit(x_train, y_train, eval_set=(x_test, y_test), early_stopping_rounds=100, verbose=100)\n",
    "    pred = model_lgbm.predict(x_test)\n",
    "    n_iter += 1\n",
    "    \n",
    "    accuracy = np.round(accuracy_score(y_test, pred), 4) # 소수점 4자리 반올림\n",
    "    train_size = x_train.shape[0]\n",
    "    test_size = x_test.shape[0]\n",
    "    \n",
    "    print('\\n#{0} 교차 검증 정확도 : {1},  학습 데이터 크기 : {2},  검증 데이터 크기 : {3}'\n",
    "          .format(n_iter, accuracy, train_size, test_size))\n",
    "    print('#{0} 검증 세트 인덱스 : {1}'.format(n_iter,test_index))\n",
    "    cv_accuracy.append(accuracy)\n",
    "    \n",
    "print('\\n## 평균 검증 정확도:', np.mean(cv_accuracy))"
   ]
  },
  {
   "cell_type": "code",
   "execution_count": 42,
   "id": "2504c908",
   "metadata": {
    "scrolled": false
   },
   "outputs": [
    {
     "name": "stderr",
     "output_type": "stream",
     "text": [
      "<ipython-input-42-586475c3e90b>:1: SettingWithCopyWarning: \n",
      "A value is trying to be set on a copy of a slice from a DataFrame.\n",
      "Try using .loc[row_indexer,col_indexer] = value instead\n",
      "\n",
      "See the caveats in the documentation: https://pandas.pydata.org/pandas-docs/stable/user_guide/indexing.html#returning-a-view-versus-a-copy\n",
      "  test_tf_idf['knowcode'] = model_lgbm.predict(test_tf_idf_X)\n"
     ]
    }
   ],
   "source": [
    "test_tf_idf['knowcode'] = model_lgbm.predict(test_tf_idf_X)\n",
    "submission_tf_idf = test_tf_idf[['index', 'knowcode']]\n",
    "submission_tf_idf.to_csv('KNOW_2019_tfidf_submission.csv')"
   ]
  },
  {
   "cell_type": "code",
   "execution_count": null,
   "id": "112d7981",
   "metadata": {},
   "outputs": [],
   "source": [
    "params = {\n",
    "    'learning_rate': [0.02, 0.1, 0.05],\n",
    "    'max_depth': [6,8]\n",
    "    \n",
    "}\n",
    "\n",
    "gs = GridSearchCV(estimator=model,\n",
    "                  param_grid = params,\n",
    "                  scoring = 'neg_mean_squared_error', \n",
    "                  cv=kfold)"
   ]
  },
  {
   "cell_type": "code",
   "execution_count": null,
   "id": "5f493769",
   "metadata": {},
   "outputs": [],
   "source": [
    "gs.fit(train_tf_idf_X, train_tf_idf_y)"
   ]
  },
  {
   "cell_type": "code",
   "execution_count": null,
   "id": "caf66aec",
   "metadata": {},
   "outputs": [],
   "source": [
    "print('Hyper Parameter: ', gs.best_params_)"
   ]
  },
  {
   "cell_type": "code",
   "execution_count": null,
   "id": "7061b454",
   "metadata": {},
   "outputs": [],
   "source": [
    "print('cv score with Hyper Parameter', gs.best_score_)"
   ]
  },
  {
   "cell_type": "markdown",
   "id": "d552c91a",
   "metadata": {},
   "source": [
    "# no_text"
   ]
  },
  {
   "cell_type": "code",
   "execution_count": 45,
   "id": "1538efd5",
   "metadata": {},
   "outputs": [],
   "source": [
    "train_no_text_X, train_no_text_y = train_no_text.drop(['knowcode', 'index'], axis=1), train_no_text.knowcode\n",
    "test_no_text_X = test_no_text.drop('index', axis=1)"
   ]
  },
  {
   "cell_type": "code",
   "execution_count": 46,
   "id": "d38d6d24",
   "metadata": {},
   "outputs": [],
   "source": [
    "#하이퍼파라미터 없이, 지금은 임의로 넣어둠\n",
    "model_lgbm = lgb.LGBMClassifier(n_estimators=1000, max_depth=6, learning_rate=0.01)"
   ]
  },
  {
   "cell_type": "code",
   "execution_count": 47,
   "id": "fe036ae2",
   "metadata": {},
   "outputs": [],
   "source": [
    "# train/ test data 로 split \n",
    "tr_val_X, test_X, tr_val_y, test_y = train_test_split(\n",
    "    train_no_text_X, \n",
    "    train_no_text_y, \n",
    "    test_size = 0.2, \n",
    "    random_state = 42,\n",
    "    shuffle=True,\n",
    "    stratify = train_no_text_y # Classification 중요 option\n",
    ")"
   ]
  },
  {
   "cell_type": "code",
   "execution_count": 48,
   "id": "63b14098",
   "metadata": {
    "scrolled": true
   },
   "outputs": [
    {
     "name": "stderr",
     "output_type": "stream",
     "text": [
      "C:\\Users\\heeta\\anaconda3\\lib\\site-packages\\sklearn\\model_selection\\_split.py:666: UserWarning: The least populated class in y has only 3 members, which is less than n_splits=5.\n",
      "  warnings.warn((\"The least populated class in y has only %d\"\n",
      "C:\\Users\\heeta\\anaconda3\\lib\\site-packages\\lightgbm\\sklearn.py:726: UserWarning: 'early_stopping_rounds' argument is deprecated and will be removed in a future release of LightGBM. Pass 'early_stopping()' callback via 'callbacks' argument instead.\n",
      "  _log_warning(\"'early_stopping_rounds' argument is deprecated and will be removed in a future release of LightGBM. \"\n",
      "C:\\Users\\heeta\\anaconda3\\lib\\site-packages\\lightgbm\\sklearn.py:736: UserWarning: 'verbose' argument is deprecated and will be removed in a future release of LightGBM. Pass 'log_evaluation()' callback via 'callbacks' argument instead.\n",
      "  _log_warning(\"'verbose' argument is deprecated and will be removed in a future release of LightGBM. \"\n"
     ]
    },
    {
     "name": "stdout",
     "output_type": "stream",
     "text": [
      "[100]\tvalid_0's multi_logloss: 4.10121\n",
      "[200]\tvalid_0's multi_logloss: 3.73409\n",
      "[300]\tvalid_0's multi_logloss: 3.55801\n",
      "[400]\tvalid_0's multi_logloss: 3.47535\n",
      "[500]\tvalid_0's multi_logloss: 3.38161\n",
      "[600]\tvalid_0's multi_logloss: 3.32154\n",
      "[700]\tvalid_0's multi_logloss: 3.30294\n",
      "[800]\tvalid_0's multi_logloss: 3.29478\n",
      "[900]\tvalid_0's multi_logloss: 3.29236\n",
      "\n",
      "#1 교차 검증 정확도 : 0.3947,  학습 데이터 크기 : 5472,  검증 데이터 크기 : 1368\n",
      "#1 검증 세트 인덱스 : [   0    1    2 ... 3208 3351 3574]\n"
     ]
    },
    {
     "name": "stderr",
     "output_type": "stream",
     "text": [
      "C:\\Users\\heeta\\anaconda3\\lib\\site-packages\\lightgbm\\sklearn.py:726: UserWarning: 'early_stopping_rounds' argument is deprecated and will be removed in a future release of LightGBM. Pass 'early_stopping()' callback via 'callbacks' argument instead.\n",
      "  _log_warning(\"'early_stopping_rounds' argument is deprecated and will be removed in a future release of LightGBM. \"\n",
      "C:\\Users\\heeta\\anaconda3\\lib\\site-packages\\lightgbm\\sklearn.py:736: UserWarning: 'verbose' argument is deprecated and will be removed in a future release of LightGBM. Pass 'log_evaluation()' callback via 'callbacks' argument instead.\n",
      "  _log_warning(\"'verbose' argument is deprecated and will be removed in a future release of LightGBM. \"\n"
     ]
    },
    {
     "name": "stdout",
     "output_type": "stream",
     "text": [
      "[100]\tvalid_0's multi_logloss: 3.96158\n",
      "[200]\tvalid_0's multi_logloss: 3.57862\n",
      "[300]\tvalid_0's multi_logloss: 3.37149\n",
      "[400]\tvalid_0's multi_logloss: 3.26071\n",
      "[500]\tvalid_0's multi_logloss: 3.16268\n",
      "[600]\tvalid_0's multi_logloss: 3.11521\n",
      "[700]\tvalid_0's multi_logloss: 3.08655\n",
      "[800]\tvalid_0's multi_logloss: 3.07197\n",
      "[900]\tvalid_0's multi_logloss: 3.06616\n",
      "[1000]\tvalid_0's multi_logloss: 3.06269\n",
      "\n",
      "#2 교차 검증 정확도 : 0.4232,  학습 데이터 크기 : 5472,  검증 데이터 크기 : 1368\n",
      "#2 검증 세트 인덱스 : [ 105  185  239 ... 4970 5093 5198]\n"
     ]
    },
    {
     "name": "stderr",
     "output_type": "stream",
     "text": [
      "C:\\Users\\heeta\\anaconda3\\lib\\site-packages\\lightgbm\\sklearn.py:726: UserWarning: 'early_stopping_rounds' argument is deprecated and will be removed in a future release of LightGBM. Pass 'early_stopping()' callback via 'callbacks' argument instead.\n",
      "  _log_warning(\"'early_stopping_rounds' argument is deprecated and will be removed in a future release of LightGBM. \"\n",
      "C:\\Users\\heeta\\anaconda3\\lib\\site-packages\\lightgbm\\sklearn.py:736: UserWarning: 'verbose' argument is deprecated and will be removed in a future release of LightGBM. Pass 'log_evaluation()' callback via 'callbacks' argument instead.\n",
      "  _log_warning(\"'verbose' argument is deprecated and will be removed in a future release of LightGBM. \"\n"
     ]
    },
    {
     "name": "stdout",
     "output_type": "stream",
     "text": [
      "[100]\tvalid_0's multi_logloss: 4.04657\n",
      "[200]\tvalid_0's multi_logloss: 3.65539\n",
      "[300]\tvalid_0's multi_logloss: 3.46913\n",
      "[400]\tvalid_0's multi_logloss: 3.39734\n",
      "[500]\tvalid_0's multi_logloss: 3.31695\n",
      "[600]\tvalid_0's multi_logloss: 3.26114\n",
      "[700]\tvalid_0's multi_logloss: 3.23342\n",
      "[800]\tvalid_0's multi_logloss: 3.21914\n",
      "[900]\tvalid_0's multi_logloss: 3.21625\n",
      "[1000]\tvalid_0's multi_logloss: 3.21456\n",
      "\n",
      "#3 교차 검증 정확도 : 0.413,  학습 데이터 크기 : 5472,  검증 데이터 크기 : 1368\n",
      "#3 검증 세트 인덱스 : [ 443  447  619 ... 6010 6070 6231]\n"
     ]
    },
    {
     "name": "stderr",
     "output_type": "stream",
     "text": [
      "C:\\Users\\heeta\\anaconda3\\lib\\site-packages\\lightgbm\\sklearn.py:726: UserWarning: 'early_stopping_rounds' argument is deprecated and will be removed in a future release of LightGBM. Pass 'early_stopping()' callback via 'callbacks' argument instead.\n",
      "  _log_warning(\"'early_stopping_rounds' argument is deprecated and will be removed in a future release of LightGBM. \"\n",
      "C:\\Users\\heeta\\anaconda3\\lib\\site-packages\\lightgbm\\sklearn.py:736: UserWarning: 'verbose' argument is deprecated and will be removed in a future release of LightGBM. Pass 'log_evaluation()' callback via 'callbacks' argument instead.\n",
      "  _log_warning(\"'verbose' argument is deprecated and will be removed in a future release of LightGBM. \"\n"
     ]
    },
    {
     "name": "stdout",
     "output_type": "stream",
     "text": [
      "[100]\tvalid_0's multi_logloss: 3.92117\n",
      "[200]\tvalid_0's multi_logloss: 3.53956\n",
      "[300]\tvalid_0's multi_logloss: 3.35062\n",
      "[400]\tvalid_0's multi_logloss: 3.25987\n",
      "[500]\tvalid_0's multi_logloss: 3.16706\n",
      "[600]\tvalid_0's multi_logloss: 3.11239\n",
      "[700]\tvalid_0's multi_logloss: 3.0885\n",
      "[800]\tvalid_0's multi_logloss: 3.08028\n",
      "[900]\tvalid_0's multi_logloss: 3.07827\n",
      "[1000]\tvalid_0's multi_logloss: 3.07681\n",
      "\n",
      "#4 교차 검증 정확도 : 0.4327,  학습 데이터 크기 : 5472,  검증 데이터 크기 : 1368\n",
      "#4 검증 세트 인덱스 : [1315 1667 1807 ... 6508 6629 6690]\n"
     ]
    },
    {
     "name": "stderr",
     "output_type": "stream",
     "text": [
      "C:\\Users\\heeta\\anaconda3\\lib\\site-packages\\lightgbm\\sklearn.py:726: UserWarning: 'early_stopping_rounds' argument is deprecated and will be removed in a future release of LightGBM. Pass 'early_stopping()' callback via 'callbacks' argument instead.\n",
      "  _log_warning(\"'early_stopping_rounds' argument is deprecated and will be removed in a future release of LightGBM. \"\n",
      "C:\\Users\\heeta\\anaconda3\\lib\\site-packages\\lightgbm\\sklearn.py:736: UserWarning: 'verbose' argument is deprecated and will be removed in a future release of LightGBM. Pass 'log_evaluation()' callback via 'callbacks' argument instead.\n",
      "  _log_warning(\"'verbose' argument is deprecated and will be removed in a future release of LightGBM. \"\n"
     ]
    },
    {
     "name": "stdout",
     "output_type": "stream",
     "text": [
      "[100]\tvalid_0's multi_logloss: 4.04466\n",
      "[200]\tvalid_0's multi_logloss: 3.65248\n",
      "[300]\tvalid_0's multi_logloss: 3.44625\n",
      "[400]\tvalid_0's multi_logloss: 3.35375\n",
      "[500]\tvalid_0's multi_logloss: 3.25989\n",
      "[600]\tvalid_0's multi_logloss: 3.19887\n",
      "[700]\tvalid_0's multi_logloss: 3.17315\n",
      "[800]\tvalid_0's multi_logloss: 3.15975\n",
      "[900]\tvalid_0's multi_logloss: 3.15412\n",
      "[1000]\tvalid_0's multi_logloss: 3.15096\n",
      "\n",
      "#5 교차 검증 정확도 : 0.4232,  학습 데이터 크기 : 5472,  검증 데이터 크기 : 1368\n",
      "#5 검증 세트 인덱스 : [2451 2777 2931 ... 6837 6838 6839]\n",
      "\n",
      "## 평균 검증 정확도: 0.41736000000000006\n"
     ]
    }
   ],
   "source": [
    "#without hyperparameter\n",
    "kfold = StratifiedKFold(n_splits=5)\n",
    "cv_accuracy = []\n",
    "n_iter = 0\n",
    "\n",
    "for train_index, test_index in kfold.split(tr_val_X, tr_val_y):  # feautres 데이터를 위에서 지정한 kfold 숫자로 분할\n",
    "    x_train, x_test = train_no_text_X.iloc[train_index], train_no_text_X.iloc[test_index]\n",
    "    y_train, y_test = train_no_text_y[train_index], train_no_text_y[test_index]\n",
    "    \n",
    "    model_lgbm.fit(x_train, y_train, eval_set=(x_test, y_test), early_stopping_rounds=100, verbose=100)\n",
    "    pred = model_lgbm.predict(x_test)\n",
    "    n_iter += 1\n",
    "    \n",
    "    accuracy = np.round(accuracy_score(y_test, pred), 4) # 소수점 4자리 반올림\n",
    "    train_size = x_train.shape[0]\n",
    "    test_size = x_test.shape[0]\n",
    "    \n",
    "    print('\\n#{0} 교차 검증 정확도 : {1},  학습 데이터 크기 : {2},  검증 데이터 크기 : {3}'\n",
    "          .format(n_iter, accuracy, train_size, test_size))\n",
    "    print('#{0} 검증 세트 인덱스 : {1}'.format(n_iter,test_index))\n",
    "    cv_accuracy.append(accuracy)\n",
    "    \n",
    "print('\\n## 평균 검증 정확도:', np.mean(cv_accuracy))"
   ]
  },
  {
   "cell_type": "code",
   "execution_count": 49,
   "id": "77ed9031",
   "metadata": {},
   "outputs": [],
   "source": [
    "test_no_text['knowcode'] = model_lgbm.predict(test_no_text_X)\n",
    "submission_no_text = test_no_text[['index', 'knowcode']]\n",
    "submission_no_text.to_csv('KNOW_2019_no_text_submission.csv')"
   ]
  },
  {
   "cell_type": "code",
   "execution_count": null,
   "id": "d168d294",
   "metadata": {},
   "outputs": [],
   "source": [
    "params = {\n",
    "    'learning_rate': [0.02, 0.1, 0.05],\n",
    "    'max_depth': [6,8]\n",
    "    \n",
    "}\n",
    "\n",
    "gs = GridSearchCV(estimator=model,\n",
    "                  param_grid = params,\n",
    "                  scoring = 'neg_mean_squared_error', \n",
    "                  cv=kfold)"
   ]
  },
  {
   "cell_type": "code",
   "execution_count": null,
   "id": "2fe2b5e1",
   "metadata": {},
   "outputs": [],
   "source": [
    "gs.fit(train_no_text_X, train_no_text_y)"
   ]
  },
  {
   "cell_type": "code",
   "execution_count": null,
   "id": "f04d1324",
   "metadata": {},
   "outputs": [],
   "source": [
    "print('Hyper Parameter: ', gs.best_params_)"
   ]
  },
  {
   "cell_type": "code",
   "execution_count": null,
   "id": "7061b454",
   "metadata": {},
   "outputs": [],
   "source": [
    "print('cv score with Hyper Parameter', gs.best_score_)"
   ]
  }
 ],
 "metadata": {
  "kernelspec": {
   "display_name": "Python 3",
   "language": "python",
   "name": "python3"
  },
  "language_info": {
   "codemirror_mode": {
    "name": "ipython",
    "version": 3
   },
   "file_extension": ".py",
   "mimetype": "text/x-python",
   "name": "python",
   "nbconvert_exporter": "python",
   "pygments_lexer": "ipython3",
   "version": "3.8.8"
  }
 },
 "nbformat": 4,
 "nbformat_minor": 5
}
